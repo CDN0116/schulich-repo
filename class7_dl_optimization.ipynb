{
 "cells": [
  {
   "cell_type": "code",
   "execution_count": 1,
   "metadata": {},
   "outputs": [
    {
     "name": "stderr",
     "output_type": "stream",
     "text": [
      "/Users/dylanbai/Library/Python/3.9/lib/python/site-packages/urllib3/__init__.py:34: NotOpenSSLWarning: urllib3 v2.0 only supports OpenSSL 1.1.1+, currently the 'ssl' module is compiled with 'LibreSSL 2.8.3'. See: https://github.com/urllib3/urllib3/issues/3020\n",
      "  warnings.warn(\n"
     ]
    }
   ],
   "source": [
    "import pandas as pd\n",
    "import tensorflow as ts\n",
    "import numpy as np\n",
    "import matplotlib.pyplot as plt"
   ]
  },
  {
   "cell_type": "code",
   "execution_count": 6,
   "metadata": {},
   "outputs": [
    {
     "name": "stderr",
     "output_type": "stream",
     "text": [
      "/Users/dylanbai/Library/Python/3.9/lib/python/site-packages/tqdm/auto.py:21: TqdmWarning: IProgress not found. Please update jupyter and ipywidgets. See https://ipywidgets.readthedocs.io/en/stable/user_install.html\n",
      "  from .autonotebook import tqdm as notebook_tqdm\n"
     ]
    }
   ],
   "source": [
    "import tensorflow_datasets as tfds"
   ]
  },
  {
   "cell_type": "code",
   "execution_count": 8,
   "metadata": {},
   "outputs": [],
   "source": [
    "(train,test)= tfds.load('mnist',\n",
    "                            split=['train','test'])"
   ]
  },
  {
   "cell_type": "code",
   "execution_count": 9,
   "metadata": {},
   "outputs": [
    {
     "data": {
      "text/plain": [
       "<_PrefetchDataset element_spec={'image': TensorSpec(shape=(28, 28, 1), dtype=tf.uint8, name=None), 'label': TensorSpec(shape=(), dtype=tf.int64, name=None)}>"
      ]
     },
     "execution_count": 9,
     "metadata": {},
     "output_type": "execute_result"
    }
   ],
   "source": [
    "train"
   ]
  },
  {
   "cell_type": "code",
   "execution_count": 10,
   "metadata": {},
   "outputs": [
    {
     "data": {
      "text/plain": [
       "<_PrefetchDataset element_spec={'image': TensorSpec(shape=(28, 28, 1), dtype=tf.uint8, name=None), 'label': TensorSpec(shape=(), dtype=tf.int64, name=None)}>"
      ]
     },
     "execution_count": 10,
     "metadata": {},
     "output_type": "execute_result"
    }
   ],
   "source": [
    "test"
   ]
  },
  {
   "cell_type": "code",
   "execution_count": 17,
   "metadata": {},
   "outputs": [],
   "source": [
    "from sklearn.preprocessing import StandardScaler\n",
    "from sklearn.preprocessing import OneHotEncoder "
   ]
  },
  {
   "cell_type": "code",
   "execution_count": 43,
   "metadata": {},
   "outputs": [
    {
     "name": "stdout",
     "output_type": "stream",
     "text": [
      "X_train: (60000, 784)\n",
      "y_train: (60000, 10)\n",
      "X_test: (60000, 784)\n",
      "y_test: (60000, 10)\n",
      "Min: -1.2736273316600921\n",
      "Max: 244.9469330286148\n"
     ]
    },
    {
     "name": "stderr",
     "output_type": "stream",
     "text": [
      "/Users/dylanbai/Library/Python/3.9/lib/python/site-packages/sklearn/preprocessing/_encoders.py:868: FutureWarning: `sparse` was renamed to `sparse_output` in version 1.2 and will be removed in 1.4. `sparse_output` is ignored unless you leave `sparse` to its default value.\n",
      "  warnings.warn(\n"
     ]
    }
   ],
   "source": [
    "def load_dataset(train_size,test_size):\n",
    "    train,test=ts.keras.datasets.mnist.load_data()\n",
    "    \n",
    "    #take a sample\n",
    "    train_idx=np.random.randint(low=0,high=train[0].shape[0],size=train_size)\n",
    "    test_idx = np.random.randint(low=0, high=test[0].shape[0], size=test_size)\n",
    "    X_train = train[0][train_idx].reshape(-1,28*28)\n",
    "    y_train = train[1][train_idx].reshape(-1,1)\n",
    "    X_test = test[0][test_idx].reshape(-1,28*28)\n",
    "    y_test = test[1][test_idx].reshape(-1,1)\n",
    "    \n",
    "    scale=StandardScaler()\n",
    "    X_train=scale.fit_transform(X_train)\n",
    "    X_test=scale.transform(X_test)\n",
    "    \n",
    "    OH=OneHotEncoder(categories='auto',sparse=False)\n",
    "    y_train=OH.fit_transform(y_train)\n",
    "    y_test=OH.transform(y_test)\n",
    "    \n",
    "    print('X_train:',X_train.shape)\n",
    "    print('y_train:',y_train.shape)\n",
    "    print('X_test:',X_test.shape)\n",
    "    print('y_test:',y_test.shape)\n",
    "    print('Min:', X_train.min())\n",
    "    print('Max:', X_train.max())\n",
    "\n",
    "    return X_train, X_test, y_train, y_test\n",
    "X_train, X_test, y_train, y_test = load_dataset(60000,60000)"
   ]
  },
  {
   "cell_type": "code",
   "execution_count": 44,
   "metadata": {},
   "outputs": [
    {
     "name": "stderr",
     "output_type": "stream",
     "text": [
      "WARNING:absl:At this time, the v2.11+ optimizer `tf.keras.optimizers.SGD` runs slowly on M1/M2 Macs, please use the legacy Keras optimizer instead, located at `tf.keras.optimizers.legacy.SGD`.\n"
     ]
    }
   ],
   "source": [
    "init=ts.initializers.zeros\n",
    "active='relu'\n",
    "optimizer=ts.keras.optimizers.SGD(learning_rate=0.01)"
   ]
  },
  {
   "cell_type": "code",
   "execution_count": 45,
   "metadata": {},
   "outputs": [],
   "source": [
    "def simple_model(initializer, activation='relu'):\n",
    "    return ts.keras.Sequential([layers.Dense(32, activation, input_shape=(784,), kernel_initializer=initializer),\n",
    "                                layers.Dense(32, activation, kernel_initializer=initializer),\n",
    "                                layers.Dense(32, activation, kernel_initializer=initializer),\n",
    "                                layers.Dense(32, activation, kernel_initializer=initializer),\n",
    "                                layers.Dense(10, activation = 'softmax', kernel_initializer=ts.keras.initializers.glorot_normal())\n",
    "\n",
    "\n",
    "\n",
    "    ])"
   ]
  },
  {
   "cell_type": "code",
   "execution_count": 46,
   "metadata": {},
   "outputs": [
    {
     "name": "stderr",
     "output_type": "stream",
     "text": [
      "WARNING:absl:At this time, the v2.11+ optimizer `tf.keras.optimizers.SGD` runs slowly on M1/M2 Macs, please use the legacy Keras optimizer instead, located at `tf.keras.optimizers.legacy.SGD`.\n"
     ]
    }
   ],
   "source": [
    "init=ts.initializers.zeros\n",
    "activate='relu'\n",
    "optimizer=ts.keras.optimizers.SGD(learning_rate=0.01)"
   ]
  },
  {
   "cell_type": "code",
   "execution_count": 47,
   "metadata": {},
   "outputs": [],
   "source": [
    "from tensorflow.keras import layers"
   ]
  },
  {
   "cell_type": "code",
   "execution_count": 48,
   "metadata": {},
   "outputs": [],
   "source": [
    "model_zeros = simple_model(init, activate)"
   ]
  },
  {
   "cell_type": "code",
   "execution_count": 49,
   "metadata": {},
   "outputs": [
    {
     "name": "stdout",
     "output_type": "stream",
     "text": [
      "Epoch 1/10\n",
      "19/19 [==============================] - 1s 22ms/step - loss: 2.3026 - accuracy: 0.1102 - val_loss: 2.3025 - val_accuracy: 0.1132\n",
      "Epoch 2/10\n",
      "19/19 [==============================] - 0s 9ms/step - loss: 2.3025 - accuracy: 0.1121 - val_loss: 2.3025 - val_accuracy: 0.1132\n",
      "Epoch 3/10\n",
      "19/19 [==============================] - 0s 9ms/step - loss: 2.3024 - accuracy: 0.1121 - val_loss: 2.3024 - val_accuracy: 0.1132\n",
      "Epoch 4/10\n",
      "19/19 [==============================] - 0s 9ms/step - loss: 2.3024 - accuracy: 0.1121 - val_loss: 2.3024 - val_accuracy: 0.1132\n",
      "Epoch 5/10\n",
      "19/19 [==============================] - 0s 9ms/step - loss: 2.3023 - accuracy: 0.1121 - val_loss: 2.3023 - val_accuracy: 0.1132\n",
      "Epoch 6/10\n",
      "19/19 [==============================] - 0s 9ms/step - loss: 2.3022 - accuracy: 0.1121 - val_loss: 2.3023 - val_accuracy: 0.1132\n",
      "Epoch 7/10\n",
      "19/19 [==============================] - 0s 9ms/step - loss: 2.3022 - accuracy: 0.1121 - val_loss: 2.3022 - val_accuracy: 0.1132\n",
      "Epoch 8/10\n",
      "19/19 [==============================] - 0s 9ms/step - loss: 2.3021 - accuracy: 0.1121 - val_loss: 2.3022 - val_accuracy: 0.1132\n",
      "Epoch 9/10\n",
      "19/19 [==============================] - 0s 10ms/step - loss: 2.3021 - accuracy: 0.1121 - val_loss: 2.3021 - val_accuracy: 0.1132\n",
      "Epoch 10/10\n",
      "19/19 [==============================] - 0s 9ms/step - loss: 2.3020 - accuracy: 0.1121 - val_loss: 2.3021 - val_accuracy: 0.1132\n"
     ]
    },
    {
     "data": {
      "text/plain": [
       "<keras.src.callbacks.History at 0x2a07d7040>"
      ]
     },
     "execution_count": 49,
     "metadata": {},
     "output_type": "execute_result"
    }
   ],
   "source": [
    "model_zeros.compile(optimizer=optimizer, loss='categorical_crossentropy', metrics=['accuracy'])\n",
    "model_zeros.fit(X_train, y_train, epochs=10, batch_size=3200, validation_data=(X_test, y_test))\n"
   ]
  },
  {
   "cell_type": "code",
   "execution_count": 50,
   "metadata": {},
   "outputs": [
    {
     "name": "stderr",
     "output_type": "stream",
     "text": [
      "WARNING:absl:At this time, the v2.11+ optimizer `tf.keras.optimizers.SGD` runs slowly on M1/M2 Macs, please use the legacy Keras optimizer instead, located at `tf.keras.optimizers.legacy.SGD`.\n",
      "/Users/dylanbai/Library/Python/3.9/lib/python/site-packages/keras/src/initializers/initializers.py:120: UserWarning: The initializer RandomNormal is unseeded and being called multiple times, which will return identical values each time (even if the initializer is unseeded). Please update your code to provide a seed to the initializer, or avoid using the same initializer instance more than once.\n",
      "  warnings.warn(\n"
     ]
    },
    {
     "name": "stdout",
     "output_type": "stream",
     "text": [
      "Epoch 1/10\n",
      "19/19 [==============================] - 1s 18ms/step - loss: 2.3017 - accuracy: 0.1137 - val_loss: 2.3014 - val_accuracy: 0.1356\n",
      "Epoch 2/10\n",
      "19/19 [==============================] - 0s 9ms/step - loss: 2.3011 - accuracy: 0.1554 - val_loss: 2.3008 - val_accuracy: 0.1714\n",
      "Epoch 3/10\n",
      "19/19 [==============================] - 0s 9ms/step - loss: 2.3005 - accuracy: 0.1719 - val_loss: 2.3003 - val_accuracy: 0.1729\n",
      "Epoch 4/10\n",
      "19/19 [==============================] - 0s 9ms/step - loss: 2.3001 - accuracy: 0.1740 - val_loss: 2.3000 - val_accuracy: 0.1742\n",
      "Epoch 5/10\n",
      "19/19 [==============================] - 0s 9ms/step - loss: 2.2998 - accuracy: 0.1715 - val_loss: 2.2996 - val_accuracy: 0.1698\n",
      "Epoch 6/10\n",
      "19/19 [==============================] - 0s 9ms/step - loss: 2.2994 - accuracy: 0.1699 - val_loss: 2.2993 - val_accuracy: 0.1679\n",
      "Epoch 7/10\n",
      "19/19 [==============================] - 0s 9ms/step - loss: 2.2991 - accuracy: 0.1672 - val_loss: 2.2991 - val_accuracy: 0.1666\n",
      "Epoch 8/10\n",
      "19/19 [==============================] - 0s 9ms/step - loss: 2.2988 - accuracy: 0.1649 - val_loss: 2.2988 - val_accuracy: 0.1664\n",
      "Epoch 9/10\n",
      "19/19 [==============================] - 0s 9ms/step - loss: 2.2986 - accuracy: 0.1625 - val_loss: 2.2985 - val_accuracy: 0.1662\n",
      "Epoch 10/10\n",
      "19/19 [==============================] - 0s 9ms/step - loss: 2.2983 - accuracy: 0.1620 - val_loss: 2.2982 - val_accuracy: 0.1635\n"
     ]
    },
    {
     "data": {
      "text/plain": [
       "<keras.src.callbacks.History at 0x290000f10>"
      ]
     },
     "execution_count": 50,
     "metadata": {},
     "output_type": "execute_result"
    }
   ],
   "source": [
    "init=ts.initializers.random_normal()\n",
    "activate='relu'\n",
    "optimizer=ts.keras.optimizers.SGD(learning_rate=0.01)\n",
    "\n",
    "model_random_normal = simple_model(init, activate)\n",
    "model_random_normal.compile(optimizer=optimizer, loss='categorical_crossentropy', metrics=['accuracy'])\n",
    "model_random_normal.fit(X_train, y_train, epochs=10, batch_size=3200, validation_data=(X_test, y_test))"
   ]
  },
  {
   "cell_type": "code",
   "execution_count": 51,
   "metadata": {},
   "outputs": [
    {
     "name": "stderr",
     "output_type": "stream",
     "text": [
      "WARNING:absl:At this time, the v2.11+ optimizer `tf.keras.optimizers.SGD` runs slowly on M1/M2 Macs, please use the legacy Keras optimizer instead, located at `tf.keras.optimizers.legacy.SGD`.\n"
     ]
    },
    {
     "name": "stdout",
     "output_type": "stream",
     "text": [
      "Epoch 1/10\n"
     ]
    },
    {
     "name": "stderr",
     "output_type": "stream",
     "text": [
      "/Users/dylanbai/Library/Python/3.9/lib/python/site-packages/keras/src/initializers/initializers.py:120: UserWarning: The initializer GlorotUniform is unseeded and being called multiple times, which will return identical values each time (even if the initializer is unseeded). Please update your code to provide a seed to the initializer, or avoid using the same initializer instance more than once.\n",
      "  warnings.warn(\n"
     ]
    },
    {
     "name": "stdout",
     "output_type": "stream",
     "text": [
      "19/19 [==============================] - 1s 17ms/step - loss: 2.3382 - accuracy: 0.0967 - val_loss: 2.3120 - val_accuracy: 0.1006\n",
      "Epoch 2/10\n",
      "19/19 [==============================] - 0s 8ms/step - loss: 2.2805 - accuracy: 0.1120 - val_loss: 2.2661 - val_accuracy: 0.1291\n",
      "Epoch 3/10\n",
      "19/19 [==============================] - 0s 8ms/step - loss: 2.2387 - accuracy: 0.1524 - val_loss: 2.2262 - val_accuracy: 0.1772\n",
      "Epoch 4/10\n",
      "19/19 [==============================] - 0s 8ms/step - loss: 2.1991 - accuracy: 0.2003 - val_loss: 2.1851 - val_accuracy: 0.2221\n",
      "Epoch 5/10\n",
      "19/19 [==============================] - 0s 9ms/step - loss: 2.1569 - accuracy: 0.2461 - val_loss: 2.1399 - val_accuracy: 0.2596\n",
      "Epoch 6/10\n",
      "19/19 [==============================] - 0s 9ms/step - loss: 2.1093 - accuracy: 0.2845 - val_loss: 2.0879 - val_accuracy: 0.3006\n",
      "Epoch 7/10\n",
      "19/19 [==============================] - 0s 9ms/step - loss: 2.0540 - accuracy: 0.3213 - val_loss: 2.0269 - val_accuracy: 0.3442\n",
      "Epoch 8/10\n",
      "19/19 [==============================] - 0s 9ms/step - loss: 1.9886 - accuracy: 0.3588 - val_loss: 1.9550 - val_accuracy: 0.3805\n",
      "Epoch 9/10\n",
      "19/19 [==============================] - 0s 9ms/step - loss: 1.9124 - accuracy: 0.3976 - val_loss: 1.8719 - val_accuracy: 0.4226\n",
      "Epoch 10/10\n",
      "19/19 [==============================] - 0s 9ms/step - loss: 1.8260 - accuracy: 0.4317 - val_loss: 1.7801 - val_accuracy: 0.4570\n"
     ]
    },
    {
     "data": {
      "text/plain": [
       "<keras.src.callbacks.History at 0x29000e0d0>"
      ]
     },
     "execution_count": 51,
     "metadata": {},
     "output_type": "execute_result"
    }
   ],
   "source": [
    "init=ts.initializers.glorot_uniform()\n",
    "activate='relu'\n",
    "optimizer=ts.keras.optimizers.SGD(learning_rate=0.01)\n",
    "\n",
    "model_glorot_uniform = simple_model(init, activate)\n",
    "model_glorot_uniform.compile(optimizer=optimizer, loss='categorical_crossentropy', metrics=['accuracy'])\n",
    "model_glorot_uniform.fit(X_train, y_train, epochs=10, batch_size=3200, validation_data=(X_test, y_test))"
   ]
  },
  {
   "cell_type": "code",
   "execution_count": 52,
   "metadata": {},
   "outputs": [
    {
     "name": "stderr",
     "output_type": "stream",
     "text": [
      "WARNING:absl:At this time, the v2.11+ optimizer `tf.keras.optimizers.SGD` runs slowly on M1/M2 Macs, please use the legacy Keras optimizer instead, located at `tf.keras.optimizers.legacy.SGD`.\n"
     ]
    },
    {
     "name": "stdout",
     "output_type": "stream",
     "text": [
      "Epoch 1/10\n"
     ]
    },
    {
     "name": "stderr",
     "output_type": "stream",
     "text": [
      "/Users/dylanbai/Library/Python/3.9/lib/python/site-packages/keras/src/initializers/initializers.py:120: UserWarning: The initializer HeUniform is unseeded and being called multiple times, which will return identical values each time (even if the initializer is unseeded). Please update your code to provide a seed to the initializer, or avoid using the same initializer instance more than once.\n",
      "  warnings.warn(\n"
     ]
    },
    {
     "name": "stdout",
     "output_type": "stream",
     "text": [
      "19/19 [==============================] - 0s 16ms/step - loss: 2.6366 - accuracy: 0.1402 - val_loss: 2.3364 - val_accuracy: 0.1924\n",
      "Epoch 2/10\n",
      "19/19 [==============================] - 0s 8ms/step - loss: 2.2286 - accuracy: 0.2360 - val_loss: 2.1472 - val_accuracy: 0.2824\n",
      "Epoch 3/10\n",
      "19/19 [==============================] - 0s 9ms/step - loss: 2.0744 - accuracy: 0.3118 - val_loss: 2.0074 - val_accuracy: 0.3441\n",
      "Epoch 4/10\n",
      "19/19 [==============================] - 0s 9ms/step - loss: 1.9420 - accuracy: 0.3656 - val_loss: 1.8714 - val_accuracy: 0.3967\n",
      "Epoch 5/10\n",
      "19/19 [==============================] - 0s 10ms/step - loss: 1.8079 - accuracy: 0.4180 - val_loss: 1.7339 - val_accuracy: 0.4475\n",
      "Epoch 6/10\n",
      "19/19 [==============================] - 0s 9ms/step - loss: 1.6737 - accuracy: 0.4686 - val_loss: 1.5993 - val_accuracy: 0.4993\n",
      "Epoch 7/10\n",
      "19/19 [==============================] - 0s 9ms/step - loss: 1.5436 - accuracy: 0.5189 - val_loss: 1.4710 - val_accuracy: 0.5512\n",
      "Epoch 8/10\n",
      "19/19 [==============================] - 0s 9ms/step - loss: 1.4212 - accuracy: 0.5633 - val_loss: 1.3521 - val_accuracy: 0.5996\n",
      "Epoch 9/10\n",
      "19/19 [==============================] - 0s 10ms/step - loss: 1.3079 - accuracy: 0.6043 - val_loss: 1.2430 - val_accuracy: 0.6403\n",
      "Epoch 10/10\n",
      "19/19 [==============================] - 0s 9ms/step - loss: 1.2039 - accuracy: 0.6414 - val_loss: 1.1421 - val_accuracy: 0.6740\n"
     ]
    },
    {
     "data": {
      "text/plain": [
       "<keras.src.callbacks.History at 0x2909ef7f0>"
      ]
     },
     "execution_count": 52,
     "metadata": {},
     "output_type": "execute_result"
    }
   ],
   "source": [
    "init=ts.initializers.he_uniform()\n",
    "activate='relu'\n",
    "optimizer=ts.keras.optimizers.SGD(learning_rate=0.01)\n",
    "\n",
    "model_he_uniform = simple_model(init, activate)\n",
    "model_he_uniform.compile(optimizer=optimizer, loss='categorical_crossentropy', metrics=['accuracy'])\n",
    "model_he_uniform.fit(X_train, y_train, epochs=10, batch_size=3200, validation_data=(X_test, y_test))"
   ]
  },
  {
   "cell_type": "code",
   "execution_count": 54,
   "metadata": {},
   "outputs": [
    {
     "data": {
      "text/plain": [
       "Text(0, 0.5, 'Validation Accuracy')"
      ]
     },
     "execution_count": 54,
     "metadata": {},
     "output_type": "execute_result"
    },
    {
     "data": {
      "image/png": "[encoded data removed]",
      "text/plain": [
       "<Figure size 640x480 with 1 Axes>"
      ]
     },
     "metadata": {},
     "output_type": "display_data"
    }
   ],
   "source": [
    "for i in [model_he_uniform, model_random_normal, model_glorot_uniform, model_zeros]:\n",
    "    plt.plot(i.history.history['val_accuracy'], label=i.get_config()['layers'][1]['config']['kernel_initializer']['class_name'])\n",
    "\n",
    "plt.legend()\n",
    "plt.xlabel('Epoch')\n",
    "plt.ylabel('Validation Accuracy')"
   ]
  },
  {
   "cell_type": "code",
   "execution_count": 63,
   "metadata": {},
   "outputs": [],
   "source": [
    "def simple_model_bn(initializer='he_uniform', activation='relu'):\n",
    "    return ts.keras.Sequential([layers.Dense(32, activation, input_shape=(784,), kernel_initializer=initializer),\n",
    "                                layers.BatchNormalization(trainable=True,scale=True,center=True),\n",
    "                                layers.Dense(32, activation, kernel_initializer=initializer),\n",
    "                                layers.BatchNormalization(trainable=True,scale=True,center=True),\n",
    "                                layers.Dense(32, activation, kernel_initializer=initializer),\n",
    "                                layers.BatchNormalization(trainable=True,scale=True,center=True),\n",
    "                                layers.Dense(32, activation, kernel_initializer=initializer),\n",
    "                                layers.BatchNormalization(trainable=True,scale=True,center=True),\n",
    "                                layers.Dense(10, activation = 'softmax', kernel_initializer=ts.keras.initializers.glorot_normal())\n",
    "\n",
    "\n",
    "\n",
    "    ])"
   ]
  },
  {
   "cell_type": "code",
   "execution_count": 64,
   "metadata": {},
   "outputs": [
    {
     "name": "stdout",
     "output_type": "stream",
     "text": [
      "Model: \"sequential_7\"\n",
      "_________________________________________________________________\n",
      " Layer (type)                Output Shape              Param #   \n",
      "=================================================================\n",
      " dense_39 (Dense)            (None, 32)                25120     \n",
      "                                                                 \n",
      " batch_normalization (Batch  (None, 32)                128       \n",
      " Normalization)                                                  \n",
      "                                                                 \n",
      " dense_40 (Dense)            (None, 32)                1056      \n",
      "                                                                 \n",
      " batch_normalization_1 (Bat  (None, 32)                128       \n",
      " chNormalization)                                                \n",
      "                                                                 \n",
      " dense_41 (Dense)            (None, 32)                1056      \n",
      "                                                                 \n",
      " batch_normalization_2 (Bat  (None, 32)                128       \n",
      " chNormalization)                                                \n",
      "                                                                 \n",
      " dense_42 (Dense)            (None, 32)                1056      \n",
      "                                                                 \n",
      " batch_normalization_3 (Bat  (None, 32)                128       \n",
      " chNormalization)                                                \n",
      "                                                                 \n",
      " dense_43 (Dense)            (None, 10)                330       \n",
      "                                                                 \n",
      "=================================================================\n",
      "Total params: 29130 (113.79 KB)\n",
      "Trainable params: 28874 (112.79 KB)\n",
      "Non-trainable params: 256 (1.00 KB)\n",
      "_________________________________________________________________\n"
     ]
    }
   ],
   "source": [
    "simple_model_bn().summary()"
   ]
  },
  {
   "cell_type": "code",
   "execution_count": 65,
   "metadata": {},
   "outputs": [
    {
     "name": "stderr",
     "output_type": "stream",
     "text": [
      "WARNING:absl:At this time, the v2.11+ optimizer `tf.keras.optimizers.SGD` runs slowly on M1/M2 Macs, please use the legacy Keras optimizer instead, located at `tf.keras.optimizers.legacy.SGD`.\n",
      "/Users/dylanbai/Library/Python/3.9/lib/python/site-packages/keras/src/initializers/initializers.py:120: UserWarning: The initializer RandomNormal is unseeded and being called multiple times, which will return identical values each time (even if the initializer is unseeded). Please update your code to provide a seed to the initializer, or avoid using the same initializer instance more than once.\n",
      "  warnings.warn(\n"
     ]
    },
    {
     "name": "stdout",
     "output_type": "stream",
     "text": [
      "Epoch 1/10\n",
      "19/19 [==============================] - 1s 27ms/step - loss: 1.9403 - accuracy: 0.3813 - val_loss: 2.2941 - val_accuracy: 0.2767\n",
      "Epoch 2/10\n",
      "19/19 [==============================] - 0s 12ms/step - loss: 1.2809 - accuracy: 0.6090 - val_loss: 2.2822 - val_accuracy: 0.3173\n",
      "Epoch 3/10\n",
      "19/19 [==============================] - 0s 10ms/step - loss: 1.0289 - accuracy: 0.6935 - val_loss: 2.2655 - val_accuracy: 0.3539\n",
      "Epoch 4/10\n",
      "19/19 [==============================] - 0s 10ms/step - loss: 0.8673 - accuracy: 0.7464 - val_loss: 2.2428 - val_accuracy: 0.4189\n",
      "Epoch 5/10\n",
      "19/19 [==============================] - 0s 11ms/step - loss: 0.7565 - accuracy: 0.7834 - val_loss: 2.2123 - val_accuracy: 0.4926\n",
      "Epoch 6/10\n",
      "19/19 [==============================] - 0s 12ms/step - loss: 0.6753 - accuracy: 0.8089 - val_loss: 2.1729 - val_accuracy: 0.5541\n",
      "Epoch 7/10\n",
      "19/19 [==============================] - 0s 12ms/step - loss: 0.6147 - accuracy: 0.8271 - val_loss: 2.1224 - val_accuracy: 0.6070\n",
      "Epoch 8/10\n",
      "19/19 [==============================] - 0s 12ms/step - loss: 0.5671 - accuracy: 0.8414 - val_loss: 2.0599 - val_accuracy: 0.6610\n",
      "Epoch 9/10\n",
      "19/19 [==============================] - 0s 12ms/step - loss: 0.5294 - accuracy: 0.8516 - val_loss: 1.9837 - val_accuracy: 0.7129\n",
      "Epoch 10/10\n",
      "19/19 [==============================] - 0s 11ms/step - loss: 0.4983 - accuracy: 0.8606 - val_loss: 1.8928 - val_accuracy: 0.7603\n"
     ]
    },
    {
     "data": {
      "text/plain": [
       "<keras.src.callbacks.History at 0x29220fdc0>"
      ]
     },
     "execution_count": 65,
     "metadata": {},
     "output_type": "execute_result"
    }
   ],
   "source": [
    "init = ts.keras.initializers.random_normal()\n",
    "activate = 'relu'\n",
    "\n",
    "optimizer = ts.keras.optimizers.SGD(0.01)\n",
    "model_bn = simple_model_bn(init, activate)\n",
    "model_bn.compile(optimizer=optimizer, loss='categorical_crossentropy', metrics=['accuracy'])\n",
    "model_bn.fit(X_train, y_train, epochs=10, batch_size=3200, validation_data = (X_test, y_test))"
   ]
  },
  {
   "cell_type": "code",
   "execution_count": 66,
   "metadata": {},
   "outputs": [
    {
     "name": "stderr",
     "output_type": "stream",
     "text": [
      "WARNING:absl:At this time, the v2.11+ optimizer `tf.keras.optimizers.SGD` runs slowly on M1/M2 Macs, please use the legacy Keras optimizer instead, located at `tf.keras.optimizers.legacy.SGD`.\n",
      "/Users/dylanbai/Library/Python/3.9/lib/python/site-packages/keras/src/initializers/initializers.py:120: UserWarning: The initializer HeUniform is unseeded and being called multiple times, which will return identical values each time (even if the initializer is unseeded). Please update your code to provide a seed to the initializer, or avoid using the same initializer instance more than once.\n",
      "  warnings.warn(\n"
     ]
    },
    {
     "name": "stdout",
     "output_type": "stream",
     "text": [
      "Epoch 1/10\n",
      "19/19 [==============================] - 1s 21ms/step - loss: 2.3937 - accuracy: 0.2106 - val_loss: 2.2934 - val_accuracy: 0.1727\n",
      "Epoch 2/10\n",
      "19/19 [==============================] - 0s 15ms/step - loss: 1.9010 - accuracy: 0.3728 - val_loss: 2.1052 - val_accuracy: 0.2646\n",
      "Epoch 3/10\n",
      "19/19 [==============================] - 0s 11ms/step - loss: 1.6550 - accuracy: 0.4757 - val_loss: 1.9188 - val_accuracy: 0.4022\n",
      "Epoch 4/10\n",
      "19/19 [==============================] - 0s 11ms/step - loss: 1.4834 - accuracy: 0.5429 - val_loss: 1.7384 - val_accuracy: 0.5101\n",
      "Epoch 5/10\n",
      "19/19 [==============================] - 0s 11ms/step - loss: 1.3496 - accuracy: 0.5958 - val_loss: 1.5689 - val_accuracy: 0.5898\n",
      "Epoch 6/10\n",
      "19/19 [==============================] - 0s 12ms/step - loss: 1.2389 - accuracy: 0.6390 - val_loss: 1.4166 - val_accuracy: 0.6432\n",
      "Epoch 7/10\n",
      "19/19 [==============================] - 0s 12ms/step - loss: 1.1449 - accuracy: 0.6749 - val_loss: 1.2846 - val_accuracy: 0.6807\n",
      "Epoch 8/10\n",
      "19/19 [==============================] - 0s 12ms/step - loss: 1.0652 - accuracy: 0.7061 - val_loss: 1.1718 - val_accuracy: 0.7120\n",
      "Epoch 9/10\n",
      "19/19 [==============================] - 0s 12ms/step - loss: 0.9953 - accuracy: 0.7304 - val_loss: 1.0757 - val_accuracy: 0.7373\n",
      "Epoch 10/10\n",
      "19/19 [==============================] - 0s 12ms/step - loss: 0.9343 - accuracy: 0.7510 - val_loss: 0.9946 - val_accuracy: 0.7575\n"
     ]
    },
    {
     "data": {
      "text/plain": [
       "<keras.src.callbacks.History at 0x292383dc0>"
      ]
     },
     "execution_count": 66,
     "metadata": {},
     "output_type": "execute_result"
    }
   ],
   "source": [
    "init = ts.keras.initializers.he_uniform()\n",
    "activate = 'relu'\n",
    "\n",
    "optimizer = ts.keras.optimizers.SGD(0.01)\n",
    "model_bn = simple_model_bn(init, activate)\n",
    "model_bn.compile(optimizer=optimizer, loss='categorical_crossentropy', metrics=['accuracy'])\n",
    "model_bn.fit(X_train, y_train, epochs=10, batch_size=3200, validation_data = (X_test, y_test))"
   ]
  },
  {
   "cell_type": "code",
   "execution_count": 67,
   "metadata": {},
   "outputs": [
    {
     "name": "stderr",
     "output_type": "stream",
     "text": [
      "WARNING:absl:At this time, the v2.11+ optimizer `tf.keras.optimizers.Adagrad` runs slowly on M1/M2 Macs, please use the legacy Keras optimizer instead, located at `tf.keras.optimizers.legacy.Adagrad`.\n",
      "/Users/dylanbai/Library/Python/3.9/lib/python/site-packages/keras/src/initializers/initializers.py:120: UserWarning: The initializer RandomNormal is unseeded and being called multiple times, which will return identical values each time (even if the initializer is unseeded). Please update your code to provide a seed to the initializer, or avoid using the same initializer instance more than once.\n",
      "  warnings.warn(\n"
     ]
    },
    {
     "name": "stdout",
     "output_type": "stream",
     "text": [
      "Epoch 1/10\n",
      "19/19 [==============================] - 1s 28ms/step - loss: 1.5767 - accuracy: 0.5067 - val_loss: 2.2879 - val_accuracy: 0.1846\n",
      "Epoch 2/10\n",
      "19/19 [==============================] - 0s 14ms/step - loss: 0.8715 - accuracy: 0.7532 - val_loss: 2.2690 - val_accuracy: 0.1469\n",
      "Epoch 3/10\n",
      "19/19 [==============================] - 0s 11ms/step - loss: 0.6249 - accuracy: 0.8308 - val_loss: 2.2430 - val_accuracy: 0.1698\n",
      "Epoch 4/10\n",
      "19/19 [==============================] - 0s 11ms/step - loss: 0.4991 - accuracy: 0.8651 - val_loss: 2.2079 - val_accuracy: 0.2345\n",
      "Epoch 5/10\n",
      "19/19 [==============================] - 0s 14ms/step - loss: 0.4276 - accuracy: 0.8833 - val_loss: 2.1630 - val_accuracy: 0.3557\n",
      "Epoch 6/10\n",
      "19/19 [==============================] - 0s 12ms/step - loss: 0.3807 - accuracy: 0.8957 - val_loss: 2.1072 - val_accuracy: 0.4752\n",
      "Epoch 7/10\n",
      "19/19 [==============================] - 0s 12ms/step - loss: 0.3468 - accuracy: 0.9048 - val_loss: 2.0410 - val_accuracy: 0.6032\n",
      "Epoch 8/10\n",
      "19/19 [==============================] - 0s 12ms/step - loss: 0.3204 - accuracy: 0.9113 - val_loss: 1.9586 - val_accuracy: 0.7011\n",
      "Epoch 9/10\n",
      "19/19 [==============================] - 0s 12ms/step - loss: 0.2994 - accuracy: 0.9177 - val_loss: 1.8602 - val_accuracy: 0.7789\n",
      "Epoch 10/10\n",
      "19/19 [==============================] - 0s 11ms/step - loss: 0.2814 - accuracy: 0.9213 - val_loss: 1.7490 - val_accuracy: 0.8100\n"
     ]
    },
    {
     "data": {
      "text/plain": [
       "<keras.src.callbacks.History at 0x291311700>"
      ]
     },
     "execution_count": 67,
     "metadata": {},
     "output_type": "execute_result"
    }
   ],
   "source": [
    "init = ts.keras.initializers.random_normal()\n",
    "activate = 'relu'\n",
    "\n",
    "optimizer = ts.keras.optimizers.Adagrad(0.01)\n",
    "model_bn = simple_model_bn(init, activate)\n",
    "model_bn.compile(optimizer=optimizer, loss='categorical_crossentropy', metrics=['accuracy'])\n",
    "model_bn.fit(X_train, y_train, epochs=10, batch_size=3200, validation_data = (X_test, y_test))"
   ]
  },
  {
   "cell_type": "code",
   "execution_count": 68,
   "metadata": {},
   "outputs": [
    {
     "name": "stderr",
     "output_type": "stream",
     "text": [
      "WARNING:absl:At this time, the v2.11+ optimizer `tf.keras.optimizers.Adam` runs slowly on M1/M2 Macs, please use the legacy Keras optimizer instead, located at `tf.keras.optimizers.legacy.Adam`.\n",
      "/Users/dylanbai/Library/Python/3.9/lib/python/site-packages/keras/src/initializers/initializers.py:120: UserWarning: The initializer RandomNormal is unseeded and being called multiple times, which will return identical values each time (even if the initializer is unseeded). Please update your code to provide a seed to the initializer, or avoid using the same initializer instance more than once.\n",
      "  warnings.warn(\n"
     ]
    },
    {
     "name": "stdout",
     "output_type": "stream",
     "text": [
      "Epoch 1/10\n",
      "19/19 [==============================] - 1s 23ms/step - loss: 0.7967 - accuracy: 0.7604 - val_loss: 1.9233 - val_accuracy: 0.4678\n",
      "Epoch 2/10\n",
      "19/19 [==============================] - 0s 11ms/step - loss: 0.2448 - accuracy: 0.9298 - val_loss: 1.6252 - val_accuracy: 0.5953\n",
      "Epoch 3/10\n",
      "19/19 [==============================] - 0s 11ms/step - loss: 0.1711 - accuracy: 0.9499 - val_loss: 1.3406 - val_accuracy: 0.7796\n",
      "Epoch 4/10\n",
      "19/19 [==============================] - 0s 11ms/step - loss: 0.1333 - accuracy: 0.9606 - val_loss: 1.1002 - val_accuracy: 0.8644\n",
      "Epoch 5/10\n",
      "19/19 [==============================] - 0s 11ms/step - loss: 0.1055 - accuracy: 0.9687 - val_loss: 0.9087 - val_accuracy: 0.8910\n",
      "Epoch 6/10\n",
      "19/19 [==============================] - 0s 12ms/step - loss: 0.0855 - accuracy: 0.9751 - val_loss: 0.7127 - val_accuracy: 0.8962\n",
      "Epoch 7/10\n",
      "19/19 [==============================] - 0s 12ms/step - loss: 0.0728 - accuracy: 0.9786 - val_loss: 0.5181 - val_accuracy: 0.9232\n",
      "Epoch 8/10\n",
      "19/19 [==============================] - 0s 12ms/step - loss: 0.0607 - accuracy: 0.9829 - val_loss: 0.3963 - val_accuracy: 0.9258\n",
      "Epoch 9/10\n",
      "19/19 [==============================] - 0s 12ms/step - loss: 0.0532 - accuracy: 0.9848 - val_loss: 0.2984 - val_accuracy: 0.9370\n",
      "Epoch 10/10\n",
      "19/19 [==============================] - 0s 12ms/step - loss: 0.0475 - accuracy: 0.9862 - val_loss: 0.2540 - val_accuracy: 0.9388\n"
     ]
    },
    {
     "data": {
      "text/plain": [
       "<keras.src.callbacks.History at 0x2913aa8e0>"
      ]
     },
     "execution_count": 68,
     "metadata": {},
     "output_type": "execute_result"
    }
   ],
   "source": [
    "init = ts.keras.initializers.random_normal()\n",
    "activate = 'relu'\n",
    "\n",
    "optimizer = ts.keras.optimizers.Adam(0.01)\n",
    "model_bn = simple_model_bn(init, activate)\n",
    "model_bn.compile(optimizer=optimizer, loss='categorical_crossentropy', metrics=['accuracy'])\n",
    "model_bn.fit(X_train, y_train, epochs=10, batch_size=3200, validation_data = (X_test, y_test))"
   ]
  },
  {
   "cell_type": "code",
   "execution_count": 69,
   "metadata": {},
   "outputs": [],
   "source": [
    "from tensorflow.keras.callbacks import EarlyStopping"
   ]
  },
  {
   "cell_type": "code",
   "execution_count": 70,
   "metadata": {},
   "outputs": [
    {
     "name": "stderr",
     "output_type": "stream",
     "text": [
      "WARNING:absl:At this time, the v2.11+ optimizer `tf.keras.optimizers.Adam` runs slowly on M1/M2 Macs, please use the legacy Keras optimizer instead, located at `tf.keras.optimizers.legacy.Adam`.\n",
      "/Users/dylanbai/Library/Python/3.9/lib/python/site-packages/keras/src/initializers/initializers.py:120: UserWarning: The initializer RandomUniform is unseeded and being called multiple times, which will return identical values each time (even if the initializer is unseeded). Please update your code to provide a seed to the initializer, or avoid using the same initializer instance more than once.\n",
      "  warnings.warn(\n"
     ]
    },
    {
     "name": "stdout",
     "output_type": "stream",
     "text": [
      "Epoch 1/10\n",
      "19/19 [==============================] - 1s 22ms/step - loss: 0.7548 - accuracy: 0.7754 - val_loss: 2.0984 - val_accuracy: 0.3641\n",
      "Epoch 2/10\n",
      "19/19 [==============================] - 0s 11ms/step - loss: 0.2456 - accuracy: 0.9290 - val_loss: 1.9001 - val_accuracy: 0.5155\n",
      "Epoch 3/10\n",
      "19/19 [==============================] - 0s 11ms/step - loss: 0.1661 - accuracy: 0.9517 - val_loss: 1.7443 - val_accuracy: 0.5647\n",
      "Epoch 4/10\n",
      "19/19 [==============================] - 0s 11ms/step - loss: 0.1291 - accuracy: 0.9623 - val_loss: 1.5653 - val_accuracy: 0.6699\n",
      "Epoch 5/10\n",
      "19/19 [==============================] - 0s 11ms/step - loss: 0.1024 - accuracy: 0.9698 - val_loss: 1.3731 - val_accuracy: 0.7275\n",
      "Epoch 6/10\n",
      "19/19 [==============================] - 0s 12ms/step - loss: 0.0851 - accuracy: 0.9752 - val_loss: 1.1088 - val_accuracy: 0.8689\n",
      "Epoch 7/10\n",
      "19/19 [==============================] - 0s 14ms/step - loss: 0.0711 - accuracy: 0.9783 - val_loss: 0.8843 - val_accuracy: 0.8920\n",
      "Epoch 8/10\n",
      "19/19 [==============================] - 0s 12ms/step - loss: 0.0610 - accuracy: 0.9819 - val_loss: 0.6924 - val_accuracy: 0.9053\n",
      "Epoch 9/10\n",
      "19/19 [==============================] - 0s 12ms/step - loss: 0.0523 - accuracy: 0.9842 - val_loss: 0.5040 - val_accuracy: 0.9284\n",
      "Epoch 10/10\n",
      "19/19 [==============================] - 0s 12ms/step - loss: 0.0439 - accuracy: 0.9868 - val_loss: 0.4163 - val_accuracy: 0.9243\n",
      "Train Acc: 0.9531833529472351 Test Acc: 0.9243333339691162\n"
     ]
    }
   ],
   "source": [
    "\n",
    "init = ts.keras.initializers.random_uniform()\n",
    "activate = 'relu'\n",
    "\n",
    "optimizer = ts.keras.optimizers.Adam(learning_rate=0.01)\n",
    "model_bn_adam = simple_model_bn(init, activate)\n",
    "model_bn_adam.compile(optimizer=optimizer, loss='categorical_crossentropy', metrics=['accuracy'])\n",
    "\n",
    "es = EarlyStopping(monitor='val_loss', mode='min', patience=10, restore_best_weights=True, verbose=1)\n",
    "\n",
    "history = model_bn_adam.fit(X_train, y_train, epochs=10, batch_size=3200, validation_data = (X_test, y_test))\n",
    "\n",
    "_, train_acc = model_bn_adam.evaluate(X_train, y_train, verbose=0)\n",
    "_, test_acc = model_bn_adam.evaluate(X_test, y_test, verbose=0)\n",
    "print('Train Acc:', train_acc, 'Test Acc:', test_acc)"
   ]
  },
  {
   "cell_type": "code",
   "execution_count": 71,
   "metadata": {},
   "outputs": [
    {
     "name": "stderr",
     "output_type": "stream",
     "text": [
      "WARNING:absl:At this time, the v2.11+ optimizer `tf.keras.optimizers.Adam` runs slowly on M1/M2 Macs, please use the legacy Keras optimizer instead, located at `tf.keras.optimizers.legacy.Adam`.\n",
      "/Users/dylanbai/Library/Python/3.9/lib/python/site-packages/keras/src/initializers/initializers.py:120: UserWarning: The initializer RandomUniform is unseeded and being called multiple times, which will return identical values each time (even if the initializer is unseeded). Please update your code to provide a seed to the initializer, or avoid using the same initializer instance more than once.\n",
      "  warnings.warn(\n"
     ]
    },
    {
     "name": "stdout",
     "output_type": "stream",
     "text": [
      "Restoring model weights from the end of the best epoch: 6.\n",
      "Epoch 16: early stopping\n",
      "Train Acc: 0.9839333295822144 Test Acc: 0.9606666564941406\n"
     ]
    }
   ],
   "source": [
    "nit = ts.keras.initializers.random_uniform()\n",
    "activate = 'relu'\n",
    "\n",
    "optimizer = ts.keras.optimizers.Adam(learning_rate=0.01)\n",
    "model_bn_adam = simple_model_bn(init, activate)\n",
    "model_bn_adam.compile(optimizer=optimizer, loss='categorical_crossentropy', metrics=['accuracy'])\n",
    "\n",
    "es = EarlyStopping(monitor='val_loss', mode='min', patience=10, restore_best_weights=True, verbose=1)\n",
    "\n",
    "history = model_bn_adam.fit(X_train, y_train, epochs=2000, callbacks=[es], validation_data = (X_test, y_test), verbose=0)\n",
    "\n",
    "_, train_acc = model_bn_adam.evaluate(X_train, y_train, verbose=0)\n",
    "_, test_acc = model_bn_adam.evaluate(X_test, y_test, verbose=0)\n",
    "print('Train Acc:', train_acc, 'Test Acc:', test_acc)"
   ]
  }
 ],
 "metadata": {
  "kernelspec": {
   "display_name": "Python 3",
   "language": "python",
   "name": "python3"
  },
  "language_info": {
   "codemirror_mode": {
    "name": "ipython",
    "version": 3
   },
   "file_extension": ".py",
   "mimetype": "text/x-python",
   "name": "python",
   "nbconvert_exporter": "python",
   "pygments_lexer": "ipython3",
   "version": "3.9.6"
  },
  "orig_nbformat": 4
 },
 "nbformat": 4,
 "nbformat_minor": 2
}
