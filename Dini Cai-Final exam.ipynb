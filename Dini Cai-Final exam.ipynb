{
 "cells": [
  {
   "cell_type": "code",
   "execution_count": 62,
   "metadata": {},
   "outputs": [],
   "source": [
    "import pandas as pd\n",
    "import numpy as np\n",
    "import matplotlib.pyplot as plt\n",
    "import seaborn as sns\n",
    "from sklearn.model_selection import train_test_split, cross_val_score, GridSearchCV, RandomizedSearchCV\n",
    "from sklearn.preprocessing import StandardScaler, OneHotEncoder\n",
    "from sklearn.compose import ColumnTransformer\n",
    "from sklearn.naive_bayes import GaussianNB\n",
    "from sklearn.neighbors import KNeighborsClassifier\n",
    "from sklearn.metrics import confusion_matrix, accuracy_score, precision_score, recall_score, f1_score, roc_curve, auc, precision_recall_curve\n",
    "from sklearn.pipeline import Pipeline\n",
    "from sklearn.svm import SVC\n",
    "from sklearn.tree import DecisionTreeClassifier\n",
    "from sklearn.linear_model import LogisticRegression\n",
    "from sklearn.tree import plot_tree\n",
    "from sklearn.model_selection import train_test_split\n",
    "from sklearn.model_selection import cross_val_score\n",
    "from sklearn.metrics import accuracy_score, confusion_matrix"
   ]
  },
  {
   "attachments": {},
   "cell_type": "markdown",
   "metadata": {},
   "source": [
    "### Let's import the data first."
   ]
  },
  {
   "cell_type": "code",
   "execution_count": 63,
   "metadata": {},
   "outputs": [],
   "source": [
    "df=pd.read_csv('/Users/dylanbai/Downloads/conversion_data.csv')"
   ]
  },
  {
   "attachments": {},
   "cell_type": "markdown",
   "metadata": {},
   "source": [
    "### Do the dataframe checking."
   ]
  },
  {
   "cell_type": "code",
   "execution_count": 64,
   "metadata": {},
   "outputs": [
    {
     "data": {
      "text/html": [
       "<div>\n",
       "<style scoped>\n",
       "    .dataframe tbody tr th:only-of-type {\n",
       "        vertical-align: middle;\n",
       "    }\n",
       "\n",
       "    .dataframe tbody tr th {\n",
       "        vertical-align: top;\n",
       "    }\n",
       "\n",
       "    .dataframe thead th {\n",
       "        text-align: right;\n",
       "    }\n",
       "</style>\n",
       "<table border=\"1\" class=\"dataframe\">\n",
       "  <thead>\n",
       "    <tr style=\"text-align: right;\">\n",
       "      <th></th>\n",
       "      <th>Unnamed: 0</th>\n",
       "      <th>visitor_id</th>\n",
       "      <th>visitor_location</th>\n",
       "      <th>marketing_channel</th>\n",
       "      <th>gender</th>\n",
       "      <th>product_views_Mon</th>\n",
       "      <th>product_views_Tue</th>\n",
       "      <th>product_views_Wed</th>\n",
       "      <th>product_views_Thu</th>\n",
       "      <th>product_views_Fri</th>\n",
       "      <th>...</th>\n",
       "      <th>time_on_site_Tue</th>\n",
       "      <th>time_on_site_Wed</th>\n",
       "      <th>time_on_site_Thu</th>\n",
       "      <th>time_on_site_Fri</th>\n",
       "      <th>pages_visited_Mon</th>\n",
       "      <th>pages_visited_Tue</th>\n",
       "      <th>pages_visited_Wed</th>\n",
       "      <th>pages_visited_Thu</th>\n",
       "      <th>pages_visited_Fri</th>\n",
       "      <th>converted_Fri</th>\n",
       "    </tr>\n",
       "  </thead>\n",
       "  <tbody>\n",
       "    <tr>\n",
       "      <th>0</th>\n",
       "      <td>0</td>\n",
       "      <td>1</td>\n",
       "      <td>North America</td>\n",
       "      <td>youtube</td>\n",
       "      <td>M</td>\n",
       "      <td>4</td>\n",
       "      <td>5</td>\n",
       "      <td>2</td>\n",
       "      <td>1</td>\n",
       "      <td>2</td>\n",
       "      <td>...</td>\n",
       "      <td>33</td>\n",
       "      <td>23</td>\n",
       "      <td>46</td>\n",
       "      <td>57</td>\n",
       "      <td>4</td>\n",
       "      <td>5</td>\n",
       "      <td>5</td>\n",
       "      <td>4</td>\n",
       "      <td>6</td>\n",
       "      <td>1</td>\n",
       "    </tr>\n",
       "    <tr>\n",
       "      <th>1</th>\n",
       "      <td>1</td>\n",
       "      <td>2</td>\n",
       "      <td>South America</td>\n",
       "      <td>organic</td>\n",
       "      <td>F</td>\n",
       "      <td>2</td>\n",
       "      <td>5</td>\n",
       "      <td>0</td>\n",
       "      <td>1</td>\n",
       "      <td>5</td>\n",
       "      <td>...</td>\n",
       "      <td>28</td>\n",
       "      <td>39</td>\n",
       "      <td>24</td>\n",
       "      <td>51</td>\n",
       "      <td>5</td>\n",
       "      <td>6</td>\n",
       "      <td>7</td>\n",
       "      <td>6</td>\n",
       "      <td>2</td>\n",
       "      <td>0</td>\n",
       "    </tr>\n",
       "    <tr>\n",
       "      <th>2</th>\n",
       "      <td>2</td>\n",
       "      <td>3</td>\n",
       "      <td>Australia</td>\n",
       "      <td>instagram</td>\n",
       "      <td>M</td>\n",
       "      <td>3</td>\n",
       "      <td>4</td>\n",
       "      <td>0</td>\n",
       "      <td>-3</td>\n",
       "      <td>5</td>\n",
       "      <td>...</td>\n",
       "      <td>34</td>\n",
       "      <td>22</td>\n",
       "      <td>34</td>\n",
       "      <td>31</td>\n",
       "      <td>1</td>\n",
       "      <td>3</td>\n",
       "      <td>3</td>\n",
       "      <td>2</td>\n",
       "      <td>3</td>\n",
       "      <td>1</td>\n",
       "    </tr>\n",
       "    <tr>\n",
       "      <th>3</th>\n",
       "      <td>3</td>\n",
       "      <td>4</td>\n",
       "      <td>North America</td>\n",
       "      <td>facebook</td>\n",
       "      <td>M</td>\n",
       "      <td>1</td>\n",
       "      <td>0</td>\n",
       "      <td>0</td>\n",
       "      <td>5</td>\n",
       "      <td>0</td>\n",
       "      <td>...</td>\n",
       "      <td>26</td>\n",
       "      <td>43</td>\n",
       "      <td>22</td>\n",
       "      <td>39</td>\n",
       "      <td>3</td>\n",
       "      <td>4</td>\n",
       "      <td>7</td>\n",
       "      <td>7</td>\n",
       "      <td>1</td>\n",
       "      <td>0</td>\n",
       "    </tr>\n",
       "    <tr>\n",
       "      <th>4</th>\n",
       "      <td>4</td>\n",
       "      <td>5</td>\n",
       "      <td>Asia</td>\n",
       "      <td>instagram</td>\n",
       "      <td>F</td>\n",
       "      <td>1</td>\n",
       "      <td>5</td>\n",
       "      <td>2</td>\n",
       "      <td>2</td>\n",
       "      <td>3</td>\n",
       "      <td>...</td>\n",
       "      <td>54</td>\n",
       "      <td>30</td>\n",
       "      <td>47</td>\n",
       "      <td>57</td>\n",
       "      <td>6</td>\n",
       "      <td>6</td>\n",
       "      <td>5</td>\n",
       "      <td>2</td>\n",
       "      <td>4</td>\n",
       "      <td>1</td>\n",
       "    </tr>\n",
       "  </tbody>\n",
       "</table>\n",
       "<p>5 rows × 31 columns</p>\n",
       "</div>"
      ],
      "text/plain": [
       "   Unnamed: 0  visitor_id visitor_location marketing_channel gender   \n",
       "0           0           1    North America           youtube      M  \\\n",
       "1           1           2    South America           organic      F   \n",
       "2           2           3        Australia         instagram      M   \n",
       "3           3           4    North America          facebook      M   \n",
       "4           4           5             Asia         instagram      F   \n",
       "\n",
       "   product_views_Mon  product_views_Tue  product_views_Wed  product_views_Thu   \n",
       "0                  4                  5                  2                  1  \\\n",
       "1                  2                  5                  0                  1   \n",
       "2                  3                  4                  0                 -3   \n",
       "3                  1                  0                  0                  5   \n",
       "4                  1                  5                  2                  2   \n",
       "\n",
       "   product_views_Fri  ...  time_on_site_Tue  time_on_site_Wed   \n",
       "0                  2  ...                33                23  \\\n",
       "1                  5  ...                28                39   \n",
       "2                  5  ...                34                22   \n",
       "3                  0  ...                26                43   \n",
       "4                  3  ...                54                30   \n",
       "\n",
       "   time_on_site_Thu  time_on_site_Fri  pages_visited_Mon  pages_visited_Tue   \n",
       "0                46                57                  4                  5  \\\n",
       "1                24                51                  5                  6   \n",
       "2                34                31                  1                  3   \n",
       "3                22                39                  3                  4   \n",
       "4                47                57                  6                  6   \n",
       "\n",
       "   pages_visited_Wed  pages_visited_Thu  pages_visited_Fri  converted_Fri  \n",
       "0                  5                  4                  6              1  \n",
       "1                  7                  6                  2              0  \n",
       "2                  3                  2                  3              1  \n",
       "3                  7                  7                  1              0  \n",
       "4                  5                  2                  4              1  \n",
       "\n",
       "[5 rows x 31 columns]"
      ]
     },
     "execution_count": 64,
     "metadata": {},
     "output_type": "execute_result"
    }
   ],
   "source": [
    "df.head()"
   ]
  },
  {
   "attachments": {},
   "cell_type": "markdown",
   "metadata": {},
   "source": [
    "### from the informations below, we can see the specific type of the columns.\n",
    "### and there is no missing value but the column named'Unamed' seems to be useless."
   ]
  },
  {
   "cell_type": "code",
   "execution_count": 65,
   "metadata": {},
   "outputs": [
    {
     "name": "stdout",
     "output_type": "stream",
     "text": [
      "<class 'pandas.core.frame.DataFrame'>\n",
      "RangeIndex: 2000 entries, 0 to 1999\n",
      "Data columns (total 31 columns):\n",
      " #   Column             Non-Null Count  Dtype  \n",
      "---  ------             --------------  -----  \n",
      " 0   Unnamed: 0         2000 non-null   int64  \n",
      " 1   visitor_id         2000 non-null   int64  \n",
      " 2   visitor_location   2000 non-null   object \n",
      " 3   marketing_channel  2000 non-null   object \n",
      " 4   gender             2000 non-null   object \n",
      " 5   product_views_Mon  2000 non-null   int64  \n",
      " 6   product_views_Tue  2000 non-null   int64  \n",
      " 7   product_views_Wed  2000 non-null   int64  \n",
      " 8   product_views_Thu  2000 non-null   int64  \n",
      " 9   product_views_Fri  2000 non-null   int64  \n",
      " 10  avg_rating_Mon     2000 non-null   float64\n",
      " 11  avg_rating_Tue     2000 non-null   float64\n",
      " 12  avg_rating_Wed     2000 non-null   float64\n",
      " 13  avg_rating_Thu     2000 non-null   float64\n",
      " 14  avg_rating_Fri     2000 non-null   float64\n",
      " 15  avg_price_Mon      2000 non-null   float64\n",
      " 16  avg_price_Tue      2000 non-null   float64\n",
      " 17  avg_price_Wed      2000 non-null   float64\n",
      " 18  avg_price_Thu      2000 non-null   float64\n",
      " 19  avg_price_Fri      2000 non-null   float64\n",
      " 20  time_on_site_Mon   2000 non-null   int64  \n",
      " 21  time_on_site_Tue   2000 non-null   int64  \n",
      " 22  time_on_site_Wed   2000 non-null   int64  \n",
      " 23  time_on_site_Thu   2000 non-null   int64  \n",
      " 24  time_on_site_Fri   2000 non-null   int64  \n",
      " 25  pages_visited_Mon  2000 non-null   int64  \n",
      " 26  pages_visited_Tue  2000 non-null   int64  \n",
      " 27  pages_visited_Wed  2000 non-null   int64  \n",
      " 28  pages_visited_Thu  2000 non-null   int64  \n",
      " 29  pages_visited_Fri  2000 non-null   int64  \n",
      " 30  converted_Fri      2000 non-null   int64  \n",
      "dtypes: float64(10), int64(18), object(3)\n",
      "memory usage: 484.5+ KB\n"
     ]
    }
   ],
   "source": [
    "df.info()"
   ]
  },
  {
   "cell_type": "code",
   "execution_count": 66,
   "metadata": {},
   "outputs": [
    {
     "data": {
      "text/html": [
       "<div>\n",
       "<style scoped>\n",
       "    .dataframe tbody tr th:only-of-type {\n",
       "        vertical-align: middle;\n",
       "    }\n",
       "\n",
       "    .dataframe tbody tr th {\n",
       "        vertical-align: top;\n",
       "    }\n",
       "\n",
       "    .dataframe thead th {\n",
       "        text-align: right;\n",
       "    }\n",
       "</style>\n",
       "<table border=\"1\" class=\"dataframe\">\n",
       "  <thead>\n",
       "    <tr style=\"text-align: right;\">\n",
       "      <th></th>\n",
       "      <th>Unnamed: 0</th>\n",
       "      <th>visitor_id</th>\n",
       "      <th>product_views_Mon</th>\n",
       "      <th>product_views_Tue</th>\n",
       "      <th>product_views_Wed</th>\n",
       "      <th>product_views_Thu</th>\n",
       "      <th>product_views_Fri</th>\n",
       "      <th>avg_rating_Mon</th>\n",
       "      <th>avg_rating_Tue</th>\n",
       "      <th>avg_rating_Wed</th>\n",
       "      <th>...</th>\n",
       "      <th>time_on_site_Tue</th>\n",
       "      <th>time_on_site_Wed</th>\n",
       "      <th>time_on_site_Thu</th>\n",
       "      <th>time_on_site_Fri</th>\n",
       "      <th>pages_visited_Mon</th>\n",
       "      <th>pages_visited_Tue</th>\n",
       "      <th>pages_visited_Wed</th>\n",
       "      <th>pages_visited_Thu</th>\n",
       "      <th>pages_visited_Fri</th>\n",
       "      <th>converted_Fri</th>\n",
       "    </tr>\n",
       "  </thead>\n",
       "  <tbody>\n",
       "    <tr>\n",
       "      <th>count</th>\n",
       "      <td>2000.000000</td>\n",
       "      <td>2000.000000</td>\n",
       "      <td>2000.000000</td>\n",
       "      <td>2000.000000</td>\n",
       "      <td>2000.000000</td>\n",
       "      <td>2000.000000</td>\n",
       "      <td>2000.000000</td>\n",
       "      <td>2000.000000</td>\n",
       "      <td>2000.000000</td>\n",
       "      <td>2000.000000</td>\n",
       "      <td>...</td>\n",
       "      <td>2000.000000</td>\n",
       "      <td>2000.000000</td>\n",
       "      <td>2000.000000</td>\n",
       "      <td>2000.000000</td>\n",
       "      <td>2000.000000</td>\n",
       "      <td>2000.000000</td>\n",
       "      <td>2000.000000</td>\n",
       "      <td>2000.000000</td>\n",
       "      <td>2000.000000</td>\n",
       "      <td>2000.000000</td>\n",
       "    </tr>\n",
       "    <tr>\n",
       "      <th>mean</th>\n",
       "      <td>999.500000</td>\n",
       "      <td>1000.500000</td>\n",
       "      <td>2.541500</td>\n",
       "      <td>2.440500</td>\n",
       "      <td>2.441000</td>\n",
       "      <td>2.256500</td>\n",
       "      <td>2.354000</td>\n",
       "      <td>3.023990</td>\n",
       "      <td>3.042760</td>\n",
       "      <td>2.970885</td>\n",
       "      <td>...</td>\n",
       "      <td>39.776500</td>\n",
       "      <td>40.155500</td>\n",
       "      <td>40.417000</td>\n",
       "      <td>40.028500</td>\n",
       "      <td>3.946000</td>\n",
       "      <td>4.071000</td>\n",
       "      <td>4.092500</td>\n",
       "      <td>3.921000</td>\n",
       "      <td>4.089500</td>\n",
       "      <td>0.372000</td>\n",
       "    </tr>\n",
       "    <tr>\n",
       "      <th>std</th>\n",
       "      <td>577.494589</td>\n",
       "      <td>577.494589</td>\n",
       "      <td>1.704914</td>\n",
       "      <td>1.715206</td>\n",
       "      <td>2.343345</td>\n",
       "      <td>2.370974</td>\n",
       "      <td>2.335682</td>\n",
       "      <td>1.151037</td>\n",
       "      <td>1.154019</td>\n",
       "      <td>1.148805</td>\n",
       "      <td>...</td>\n",
       "      <td>11.855624</td>\n",
       "      <td>11.757399</td>\n",
       "      <td>11.892638</td>\n",
       "      <td>11.664207</td>\n",
       "      <td>2.010001</td>\n",
       "      <td>2.012209</td>\n",
       "      <td>2.002985</td>\n",
       "      <td>2.023316</td>\n",
       "      <td>2.026954</td>\n",
       "      <td>0.483459</td>\n",
       "    </tr>\n",
       "    <tr>\n",
       "      <th>min</th>\n",
       "      <td>0.000000</td>\n",
       "      <td>1.000000</td>\n",
       "      <td>0.000000</td>\n",
       "      <td>0.000000</td>\n",
       "      <td>0.000000</td>\n",
       "      <td>-4.000000</td>\n",
       "      <td>-3.000000</td>\n",
       "      <td>1.000000</td>\n",
       "      <td>1.000000</td>\n",
       "      <td>1.000000</td>\n",
       "      <td>...</td>\n",
       "      <td>20.000000</td>\n",
       "      <td>20.000000</td>\n",
       "      <td>20.000000</td>\n",
       "      <td>20.000000</td>\n",
       "      <td>1.000000</td>\n",
       "      <td>1.000000</td>\n",
       "      <td>1.000000</td>\n",
       "      <td>1.000000</td>\n",
       "      <td>1.000000</td>\n",
       "      <td>0.000000</td>\n",
       "    </tr>\n",
       "    <tr>\n",
       "      <th>25%</th>\n",
       "      <td>499.750000</td>\n",
       "      <td>500.750000</td>\n",
       "      <td>1.000000</td>\n",
       "      <td>1.000000</td>\n",
       "      <td>0.000000</td>\n",
       "      <td>0.000000</td>\n",
       "      <td>0.000000</td>\n",
       "      <td>2.017500</td>\n",
       "      <td>2.057500</td>\n",
       "      <td>1.970000</td>\n",
       "      <td>...</td>\n",
       "      <td>29.000000</td>\n",
       "      <td>30.000000</td>\n",
       "      <td>30.000000</td>\n",
       "      <td>30.000000</td>\n",
       "      <td>2.000000</td>\n",
       "      <td>2.000000</td>\n",
       "      <td>2.000000</td>\n",
       "      <td>2.000000</td>\n",
       "      <td>2.000000</td>\n",
       "      <td>0.000000</td>\n",
       "    </tr>\n",
       "    <tr>\n",
       "      <th>50%</th>\n",
       "      <td>999.500000</td>\n",
       "      <td>1000.500000</td>\n",
       "      <td>3.000000</td>\n",
       "      <td>2.000000</td>\n",
       "      <td>2.000000</td>\n",
       "      <td>2.000000</td>\n",
       "      <td>2.000000</td>\n",
       "      <td>3.055000</td>\n",
       "      <td>3.080000</td>\n",
       "      <td>2.965000</td>\n",
       "      <td>...</td>\n",
       "      <td>40.000000</td>\n",
       "      <td>40.000000</td>\n",
       "      <td>40.500000</td>\n",
       "      <td>40.000000</td>\n",
       "      <td>4.000000</td>\n",
       "      <td>4.000000</td>\n",
       "      <td>4.000000</td>\n",
       "      <td>4.000000</td>\n",
       "      <td>4.000000</td>\n",
       "      <td>0.000000</td>\n",
       "    </tr>\n",
       "    <tr>\n",
       "      <th>75%</th>\n",
       "      <td>1499.250000</td>\n",
       "      <td>1500.250000</td>\n",
       "      <td>4.000000</td>\n",
       "      <td>4.000000</td>\n",
       "      <td>4.000000</td>\n",
       "      <td>5.000000</td>\n",
       "      <td>5.000000</td>\n",
       "      <td>4.022500</td>\n",
       "      <td>4.030000</td>\n",
       "      <td>3.960000</td>\n",
       "      <td>...</td>\n",
       "      <td>50.000000</td>\n",
       "      <td>50.000000</td>\n",
       "      <td>51.000000</td>\n",
       "      <td>50.000000</td>\n",
       "      <td>6.000000</td>\n",
       "      <td>6.000000</td>\n",
       "      <td>6.000000</td>\n",
       "      <td>6.000000</td>\n",
       "      <td>6.000000</td>\n",
       "      <td>1.000000</td>\n",
       "    </tr>\n",
       "    <tr>\n",
       "      <th>max</th>\n",
       "      <td>1999.000000</td>\n",
       "      <td>2000.000000</td>\n",
       "      <td>5.000000</td>\n",
       "      <td>5.000000</td>\n",
       "      <td>9.000000</td>\n",
       "      <td>8.000000</td>\n",
       "      <td>8.000000</td>\n",
       "      <td>5.000000</td>\n",
       "      <td>5.000000</td>\n",
       "      <td>4.990000</td>\n",
       "      <td>...</td>\n",
       "      <td>60.000000</td>\n",
       "      <td>60.000000</td>\n",
       "      <td>60.000000</td>\n",
       "      <td>60.000000</td>\n",
       "      <td>7.000000</td>\n",
       "      <td>7.000000</td>\n",
       "      <td>7.000000</td>\n",
       "      <td>7.000000</td>\n",
       "      <td>7.000000</td>\n",
       "      <td>1.000000</td>\n",
       "    </tr>\n",
       "  </tbody>\n",
       "</table>\n",
       "<p>8 rows × 28 columns</p>\n",
       "</div>"
      ],
      "text/plain": [
       "        Unnamed: 0   visitor_id  product_views_Mon  product_views_Tue   \n",
       "count  2000.000000  2000.000000        2000.000000        2000.000000  \\\n",
       "mean    999.500000  1000.500000           2.541500           2.440500   \n",
       "std     577.494589   577.494589           1.704914           1.715206   \n",
       "min       0.000000     1.000000           0.000000           0.000000   \n",
       "25%     499.750000   500.750000           1.000000           1.000000   \n",
       "50%     999.500000  1000.500000           3.000000           2.000000   \n",
       "75%    1499.250000  1500.250000           4.000000           4.000000   \n",
       "max    1999.000000  2000.000000           5.000000           5.000000   \n",
       "\n",
       "       product_views_Wed  product_views_Thu  product_views_Fri   \n",
       "count        2000.000000        2000.000000        2000.000000  \\\n",
       "mean            2.441000           2.256500           2.354000   \n",
       "std             2.343345           2.370974           2.335682   \n",
       "min             0.000000          -4.000000          -3.000000   \n",
       "25%             0.000000           0.000000           0.000000   \n",
       "50%             2.000000           2.000000           2.000000   \n",
       "75%             4.000000           5.000000           5.000000   \n",
       "max             9.000000           8.000000           8.000000   \n",
       "\n",
       "       avg_rating_Mon  avg_rating_Tue  avg_rating_Wed  ...  time_on_site_Tue   \n",
       "count     2000.000000     2000.000000     2000.000000  ...       2000.000000  \\\n",
       "mean         3.023990        3.042760        2.970885  ...         39.776500   \n",
       "std          1.151037        1.154019        1.148805  ...         11.855624   \n",
       "min          1.000000        1.000000        1.000000  ...         20.000000   \n",
       "25%          2.017500        2.057500        1.970000  ...         29.000000   \n",
       "50%          3.055000        3.080000        2.965000  ...         40.000000   \n",
       "75%          4.022500        4.030000        3.960000  ...         50.000000   \n",
       "max          5.000000        5.000000        4.990000  ...         60.000000   \n",
       "\n",
       "       time_on_site_Wed  time_on_site_Thu  time_on_site_Fri   \n",
       "count       2000.000000       2000.000000       2000.000000  \\\n",
       "mean          40.155500         40.417000         40.028500   \n",
       "std           11.757399         11.892638         11.664207   \n",
       "min           20.000000         20.000000         20.000000   \n",
       "25%           30.000000         30.000000         30.000000   \n",
       "50%           40.000000         40.500000         40.000000   \n",
       "75%           50.000000         51.000000         50.000000   \n",
       "max           60.000000         60.000000         60.000000   \n",
       "\n",
       "       pages_visited_Mon  pages_visited_Tue  pages_visited_Wed   \n",
       "count        2000.000000        2000.000000        2000.000000  \\\n",
       "mean            3.946000           4.071000           4.092500   \n",
       "std             2.010001           2.012209           2.002985   \n",
       "min             1.000000           1.000000           1.000000   \n",
       "25%             2.000000           2.000000           2.000000   \n",
       "50%             4.000000           4.000000           4.000000   \n",
       "75%             6.000000           6.000000           6.000000   \n",
       "max             7.000000           7.000000           7.000000   \n",
       "\n",
       "       pages_visited_Thu  pages_visited_Fri  converted_Fri  \n",
       "count        2000.000000        2000.000000    2000.000000  \n",
       "mean            3.921000           4.089500       0.372000  \n",
       "std             2.023316           2.026954       0.483459  \n",
       "min             1.000000           1.000000       0.000000  \n",
       "25%             2.000000           2.000000       0.000000  \n",
       "50%             4.000000           4.000000       0.000000  \n",
       "75%             6.000000           6.000000       1.000000  \n",
       "max             7.000000           7.000000       1.000000  \n",
       "\n",
       "[8 rows x 28 columns]"
      ]
     },
     "execution_count": 66,
     "metadata": {},
     "output_type": "execute_result"
    }
   ],
   "source": [
    "df.describe()"
   ]
  },
  {
   "attachments": {},
   "cell_type": "markdown",
   "metadata": {},
   "source": [
    "### it's something strange of the columns named 'product_views_Thu' and 'product_views_Fri' with the negative value. "
   ]
  },
  {
   "cell_type": "code",
   "execution_count": 67,
   "metadata": {},
   "outputs": [
    {
     "data": {
      "text/plain": [
       "array([ 1, -3,  5,  2,  0,  3,  4, -2,  6,  8,  7, -4, -1])"
      ]
     },
     "execution_count": 67,
     "metadata": {},
     "output_type": "execute_result"
    }
   ],
   "source": [
    "df['product_views_Thu'].unique()"
   ]
  },
  {
   "cell_type": "code",
   "execution_count": 68,
   "metadata": {},
   "outputs": [
    {
     "data": {
      "text/plain": [
       "array([ 2,  5,  0,  3,  6,  4,  1, -3, -1, -2,  7,  8])"
      ]
     },
     "execution_count": 68,
     "metadata": {},
     "output_type": "execute_result"
    }
   ],
   "source": [
    "df['product_views_Fri'].unique()"
   ]
  },
  {
   "attachments": {},
   "cell_type": "markdown",
   "metadata": {},
   "source": [
    "### find the strange values' index of the columns and see the number of the strange rows. The total rows of the strange values is less than 10% of the dataset, so we can directly drop them."
   ]
  },
  {
   "cell_type": "code",
   "execution_count": 69,
   "metadata": {},
   "outputs": [
    {
     "data": {
      "text/plain": [
       "array([ 154,  307,  326,  346,  511,  536,  571,  607,  655,  674,  769,\n",
       "        776,  883,  984, 1057, 1088, 1090, 1136, 1203, 1454, 1485, 1540,\n",
       "       1566, 1630, 1689, 1704, 1717, 1771, 1874, 1956, 1965])"
      ]
     },
     "execution_count": 69,
     "metadata": {},
     "output_type": "execute_result"
    }
   ],
   "source": [
    "df[df['product_views_Thu']== -3].index.values\n",
    "df[df['product_views_Thu']== -2].index.values\n",
    "df[df['product_views_Thu']== -4].index.values\n",
    "df[df['product_views_Thu']== -1].index.values"
   ]
  },
  {
   "cell_type": "code",
   "execution_count": 70,
   "metadata": {},
   "outputs": [
    {
     "data": {
      "text/plain": [
       "array([ 115,  167,  194,  254,  266,  764, 1237, 1241, 1371, 1570, 1737])"
      ]
     },
     "execution_count": 70,
     "metadata": {},
     "output_type": "execute_result"
    }
   ],
   "source": [
    "df[df['product_views_Fri']== -3].index.values\n",
    "df[df['product_views_Fri']== -1].index.values\n",
    "df[df['product_views_Fri']== -2].index.values"
   ]
  },
  {
   "cell_type": "code",
   "execution_count": 71,
   "metadata": {},
   "outputs": [],
   "source": [
    "to_drop = list(df[df['product_views_Thu']== -3].index.values) + list(df[df['product_views_Thu']== -2].index.values)+list (df[df['product_views_Thu']== -4].index.values)+list(df[df['product_views_Thu']== -1].index.values)+list(df[df['product_views_Fri']== -3].index.values)+list(df[df['product_views_Fri']== -1].index.values)+list(df[df['product_views_Fri']== -2].index.values)"
   ]
  },
  {
   "cell_type": "code",
   "execution_count": 72,
   "metadata": {},
   "outputs": [],
   "source": [
    "df.drop(to_drop, axis=0, inplace=True)"
   ]
  },
  {
   "cell_type": "code",
   "execution_count": 73,
   "metadata": {},
   "outputs": [
    {
     "name": "stdout",
     "output_type": "stream",
     "text": [
      "<class 'pandas.core.frame.DataFrame'>\n",
      "Index: 1859 entries, 0 to 1999\n",
      "Data columns (total 31 columns):\n",
      " #   Column             Non-Null Count  Dtype  \n",
      "---  ------             --------------  -----  \n",
      " 0   Unnamed: 0         1859 non-null   int64  \n",
      " 1   visitor_id         1859 non-null   int64  \n",
      " 2   visitor_location   1859 non-null   object \n",
      " 3   marketing_channel  1859 non-null   object \n",
      " 4   gender             1859 non-null   object \n",
      " 5   product_views_Mon  1859 non-null   int64  \n",
      " 6   product_views_Tue  1859 non-null   int64  \n",
      " 7   product_views_Wed  1859 non-null   int64  \n",
      " 8   product_views_Thu  1859 non-null   int64  \n",
      " 9   product_views_Fri  1859 non-null   int64  \n",
      " 10  avg_rating_Mon     1859 non-null   float64\n",
      " 11  avg_rating_Tue     1859 non-null   float64\n",
      " 12  avg_rating_Wed     1859 non-null   float64\n",
      " 13  avg_rating_Thu     1859 non-null   float64\n",
      " 14  avg_rating_Fri     1859 non-null   float64\n",
      " 15  avg_price_Mon      1859 non-null   float64\n",
      " 16  avg_price_Tue      1859 non-null   float64\n",
      " 17  avg_price_Wed      1859 non-null   float64\n",
      " 18  avg_price_Thu      1859 non-null   float64\n",
      " 19  avg_price_Fri      1859 non-null   float64\n",
      " 20  time_on_site_Mon   1859 non-null   int64  \n",
      " 21  time_on_site_Tue   1859 non-null   int64  \n",
      " 22  time_on_site_Wed   1859 non-null   int64  \n",
      " 23  time_on_site_Thu   1859 non-null   int64  \n",
      " 24  time_on_site_Fri   1859 non-null   int64  \n",
      " 25  pages_visited_Mon  1859 non-null   int64  \n",
      " 26  pages_visited_Tue  1859 non-null   int64  \n",
      " 27  pages_visited_Wed  1859 non-null   int64  \n",
      " 28  pages_visited_Thu  1859 non-null   int64  \n",
      " 29  pages_visited_Fri  1859 non-null   int64  \n",
      " 30  converted_Fri      1859 non-null   int64  \n",
      "dtypes: float64(10), int64(18), object(3)\n",
      "memory usage: 464.8+ KB\n"
     ]
    }
   ],
   "source": [
    "df.info()"
   ]
  },
  {
   "cell_type": "code",
   "execution_count": 74,
   "metadata": {},
   "outputs": [
    {
     "data": {
      "text/html": [
       "<div>\n",
       "<style scoped>\n",
       "    .dataframe tbody tr th:only-of-type {\n",
       "        vertical-align: middle;\n",
       "    }\n",
       "\n",
       "    .dataframe tbody tr th {\n",
       "        vertical-align: top;\n",
       "    }\n",
       "\n",
       "    .dataframe thead th {\n",
       "        text-align: right;\n",
       "    }\n",
       "</style>\n",
       "<table border=\"1\" class=\"dataframe\">\n",
       "  <thead>\n",
       "    <tr style=\"text-align: right;\">\n",
       "      <th></th>\n",
       "      <th>Unnamed: 0</th>\n",
       "      <th>visitor_id</th>\n",
       "      <th>visitor_location</th>\n",
       "      <th>marketing_channel</th>\n",
       "      <th>gender</th>\n",
       "      <th>product_views_Mon</th>\n",
       "      <th>product_views_Tue</th>\n",
       "      <th>product_views_Wed</th>\n",
       "      <th>product_views_Thu</th>\n",
       "      <th>product_views_Fri</th>\n",
       "      <th>...</th>\n",
       "      <th>time_on_site_Tue</th>\n",
       "      <th>time_on_site_Wed</th>\n",
       "      <th>time_on_site_Thu</th>\n",
       "      <th>time_on_site_Fri</th>\n",
       "      <th>pages_visited_Mon</th>\n",
       "      <th>pages_visited_Tue</th>\n",
       "      <th>pages_visited_Wed</th>\n",
       "      <th>pages_visited_Thu</th>\n",
       "      <th>pages_visited_Fri</th>\n",
       "      <th>converted_Fri</th>\n",
       "    </tr>\n",
       "  </thead>\n",
       "  <tbody>\n",
       "    <tr>\n",
       "      <th>0</th>\n",
       "      <td>0</td>\n",
       "      <td>1</td>\n",
       "      <td>North America</td>\n",
       "      <td>youtube</td>\n",
       "      <td>M</td>\n",
       "      <td>4</td>\n",
       "      <td>5</td>\n",
       "      <td>2</td>\n",
       "      <td>1</td>\n",
       "      <td>2</td>\n",
       "      <td>...</td>\n",
       "      <td>33</td>\n",
       "      <td>23</td>\n",
       "      <td>46</td>\n",
       "      <td>57</td>\n",
       "      <td>4</td>\n",
       "      <td>5</td>\n",
       "      <td>5</td>\n",
       "      <td>4</td>\n",
       "      <td>6</td>\n",
       "      <td>1</td>\n",
       "    </tr>\n",
       "    <tr>\n",
       "      <th>1</th>\n",
       "      <td>1</td>\n",
       "      <td>2</td>\n",
       "      <td>South America</td>\n",
       "      <td>organic</td>\n",
       "      <td>F</td>\n",
       "      <td>2</td>\n",
       "      <td>5</td>\n",
       "      <td>0</td>\n",
       "      <td>1</td>\n",
       "      <td>5</td>\n",
       "      <td>...</td>\n",
       "      <td>28</td>\n",
       "      <td>39</td>\n",
       "      <td>24</td>\n",
       "      <td>51</td>\n",
       "      <td>5</td>\n",
       "      <td>6</td>\n",
       "      <td>7</td>\n",
       "      <td>6</td>\n",
       "      <td>2</td>\n",
       "      <td>0</td>\n",
       "    </tr>\n",
       "    <tr>\n",
       "      <th>3</th>\n",
       "      <td>3</td>\n",
       "      <td>4</td>\n",
       "      <td>North America</td>\n",
       "      <td>facebook</td>\n",
       "      <td>M</td>\n",
       "      <td>1</td>\n",
       "      <td>0</td>\n",
       "      <td>0</td>\n",
       "      <td>5</td>\n",
       "      <td>0</td>\n",
       "      <td>...</td>\n",
       "      <td>26</td>\n",
       "      <td>43</td>\n",
       "      <td>22</td>\n",
       "      <td>39</td>\n",
       "      <td>3</td>\n",
       "      <td>4</td>\n",
       "      <td>7</td>\n",
       "      <td>7</td>\n",
       "      <td>1</td>\n",
       "      <td>0</td>\n",
       "    </tr>\n",
       "    <tr>\n",
       "      <th>4</th>\n",
       "      <td>4</td>\n",
       "      <td>5</td>\n",
       "      <td>Asia</td>\n",
       "      <td>instagram</td>\n",
       "      <td>F</td>\n",
       "      <td>1</td>\n",
       "      <td>5</td>\n",
       "      <td>2</td>\n",
       "      <td>2</td>\n",
       "      <td>3</td>\n",
       "      <td>...</td>\n",
       "      <td>54</td>\n",
       "      <td>30</td>\n",
       "      <td>47</td>\n",
       "      <td>57</td>\n",
       "      <td>6</td>\n",
       "      <td>6</td>\n",
       "      <td>5</td>\n",
       "      <td>2</td>\n",
       "      <td>4</td>\n",
       "      <td>1</td>\n",
       "    </tr>\n",
       "    <tr>\n",
       "      <th>5</th>\n",
       "      <td>5</td>\n",
       "      <td>6</td>\n",
       "      <td>South America</td>\n",
       "      <td>organic</td>\n",
       "      <td>M</td>\n",
       "      <td>2</td>\n",
       "      <td>2</td>\n",
       "      <td>1</td>\n",
       "      <td>1</td>\n",
       "      <td>0</td>\n",
       "      <td>...</td>\n",
       "      <td>45</td>\n",
       "      <td>29</td>\n",
       "      <td>20</td>\n",
       "      <td>56</td>\n",
       "      <td>5</td>\n",
       "      <td>2</td>\n",
       "      <td>4</td>\n",
       "      <td>5</td>\n",
       "      <td>5</td>\n",
       "      <td>0</td>\n",
       "    </tr>\n",
       "    <tr>\n",
       "      <th>...</th>\n",
       "      <td>...</td>\n",
       "      <td>...</td>\n",
       "      <td>...</td>\n",
       "      <td>...</td>\n",
       "      <td>...</td>\n",
       "      <td>...</td>\n",
       "      <td>...</td>\n",
       "      <td>...</td>\n",
       "      <td>...</td>\n",
       "      <td>...</td>\n",
       "      <td>...</td>\n",
       "      <td>...</td>\n",
       "      <td>...</td>\n",
       "      <td>...</td>\n",
       "      <td>...</td>\n",
       "      <td>...</td>\n",
       "      <td>...</td>\n",
       "      <td>...</td>\n",
       "      <td>...</td>\n",
       "      <td>...</td>\n",
       "      <td>...</td>\n",
       "    </tr>\n",
       "    <tr>\n",
       "      <th>1995</th>\n",
       "      <td>1995</td>\n",
       "      <td>1996</td>\n",
       "      <td>Europe</td>\n",
       "      <td>organic</td>\n",
       "      <td>F</td>\n",
       "      <td>3</td>\n",
       "      <td>0</td>\n",
       "      <td>0</td>\n",
       "      <td>4</td>\n",
       "      <td>2</td>\n",
       "      <td>...</td>\n",
       "      <td>22</td>\n",
       "      <td>51</td>\n",
       "      <td>44</td>\n",
       "      <td>29</td>\n",
       "      <td>5</td>\n",
       "      <td>1</td>\n",
       "      <td>5</td>\n",
       "      <td>7</td>\n",
       "      <td>7</td>\n",
       "      <td>0</td>\n",
       "    </tr>\n",
       "    <tr>\n",
       "      <th>1996</th>\n",
       "      <td>1996</td>\n",
       "      <td>1997</td>\n",
       "      <td>South America</td>\n",
       "      <td>google</td>\n",
       "      <td>M</td>\n",
       "      <td>1</td>\n",
       "      <td>2</td>\n",
       "      <td>0</td>\n",
       "      <td>4</td>\n",
       "      <td>1</td>\n",
       "      <td>...</td>\n",
       "      <td>54</td>\n",
       "      <td>33</td>\n",
       "      <td>59</td>\n",
       "      <td>38</td>\n",
       "      <td>1</td>\n",
       "      <td>6</td>\n",
       "      <td>6</td>\n",
       "      <td>7</td>\n",
       "      <td>6</td>\n",
       "      <td>0</td>\n",
       "    </tr>\n",
       "    <tr>\n",
       "      <th>1997</th>\n",
       "      <td>1997</td>\n",
       "      <td>1998</td>\n",
       "      <td>Asia</td>\n",
       "      <td>facebook</td>\n",
       "      <td>M</td>\n",
       "      <td>2</td>\n",
       "      <td>3</td>\n",
       "      <td>0</td>\n",
       "      <td>0</td>\n",
       "      <td>8</td>\n",
       "      <td>...</td>\n",
       "      <td>32</td>\n",
       "      <td>30</td>\n",
       "      <td>48</td>\n",
       "      <td>38</td>\n",
       "      <td>2</td>\n",
       "      <td>1</td>\n",
       "      <td>7</td>\n",
       "      <td>6</td>\n",
       "      <td>4</td>\n",
       "      <td>0</td>\n",
       "    </tr>\n",
       "    <tr>\n",
       "      <th>1998</th>\n",
       "      <td>1998</td>\n",
       "      <td>1999</td>\n",
       "      <td>South America</td>\n",
       "      <td>youtube</td>\n",
       "      <td>F</td>\n",
       "      <td>2</td>\n",
       "      <td>2</td>\n",
       "      <td>2</td>\n",
       "      <td>5</td>\n",
       "      <td>5</td>\n",
       "      <td>...</td>\n",
       "      <td>21</td>\n",
       "      <td>51</td>\n",
       "      <td>41</td>\n",
       "      <td>56</td>\n",
       "      <td>6</td>\n",
       "      <td>4</td>\n",
       "      <td>2</td>\n",
       "      <td>2</td>\n",
       "      <td>3</td>\n",
       "      <td>1</td>\n",
       "    </tr>\n",
       "    <tr>\n",
       "      <th>1999</th>\n",
       "      <td>1999</td>\n",
       "      <td>2000</td>\n",
       "      <td>North America</td>\n",
       "      <td>instagram</td>\n",
       "      <td>F</td>\n",
       "      <td>2</td>\n",
       "      <td>1</td>\n",
       "      <td>1</td>\n",
       "      <td>5</td>\n",
       "      <td>1</td>\n",
       "      <td>...</td>\n",
       "      <td>21</td>\n",
       "      <td>45</td>\n",
       "      <td>59</td>\n",
       "      <td>21</td>\n",
       "      <td>4</td>\n",
       "      <td>5</td>\n",
       "      <td>7</td>\n",
       "      <td>3</td>\n",
       "      <td>1</td>\n",
       "      <td>1</td>\n",
       "    </tr>\n",
       "  </tbody>\n",
       "</table>\n",
       "<p>1859 rows × 31 columns</p>\n",
       "</div>"
      ],
      "text/plain": [
       "      Unnamed: 0  visitor_id visitor_location marketing_channel gender   \n",
       "0              0           1    North America           youtube      M  \\\n",
       "1              1           2    South America           organic      F   \n",
       "3              3           4    North America          facebook      M   \n",
       "4              4           5             Asia         instagram      F   \n",
       "5              5           6    South America           organic      M   \n",
       "...          ...         ...              ...               ...    ...   \n",
       "1995        1995        1996           Europe           organic      F   \n",
       "1996        1996        1997    South America            google      M   \n",
       "1997        1997        1998             Asia          facebook      M   \n",
       "1998        1998        1999    South America           youtube      F   \n",
       "1999        1999        2000    North America         instagram      F   \n",
       "\n",
       "      product_views_Mon  product_views_Tue  product_views_Wed   \n",
       "0                     4                  5                  2  \\\n",
       "1                     2                  5                  0   \n",
       "3                     1                  0                  0   \n",
       "4                     1                  5                  2   \n",
       "5                     2                  2                  1   \n",
       "...                 ...                ...                ...   \n",
       "1995                  3                  0                  0   \n",
       "1996                  1                  2                  0   \n",
       "1997                  2                  3                  0   \n",
       "1998                  2                  2                  2   \n",
       "1999                  2                  1                  1   \n",
       "\n",
       "      product_views_Thu  product_views_Fri  ...  time_on_site_Tue   \n",
       "0                     1                  2  ...                33  \\\n",
       "1                     1                  5  ...                28   \n",
       "3                     5                  0  ...                26   \n",
       "4                     2                  3  ...                54   \n",
       "5                     1                  0  ...                45   \n",
       "...                 ...                ...  ...               ...   \n",
       "1995                  4                  2  ...                22   \n",
       "1996                  4                  1  ...                54   \n",
       "1997                  0                  8  ...                32   \n",
       "1998                  5                  5  ...                21   \n",
       "1999                  5                  1  ...                21   \n",
       "\n",
       "      time_on_site_Wed  time_on_site_Thu  time_on_site_Fri  pages_visited_Mon   \n",
       "0                   23                46                57                  4  \\\n",
       "1                   39                24                51                  5   \n",
       "3                   43                22                39                  3   \n",
       "4                   30                47                57                  6   \n",
       "5                   29                20                56                  5   \n",
       "...                ...               ...               ...                ...   \n",
       "1995                51                44                29                  5   \n",
       "1996                33                59                38                  1   \n",
       "1997                30                48                38                  2   \n",
       "1998                51                41                56                  6   \n",
       "1999                45                59                21                  4   \n",
       "\n",
       "      pages_visited_Tue  pages_visited_Wed  pages_visited_Thu   \n",
       "0                     5                  5                  4  \\\n",
       "1                     6                  7                  6   \n",
       "3                     4                  7                  7   \n",
       "4                     6                  5                  2   \n",
       "5                     2                  4                  5   \n",
       "...                 ...                ...                ...   \n",
       "1995                  1                  5                  7   \n",
       "1996                  6                  6                  7   \n",
       "1997                  1                  7                  6   \n",
       "1998                  4                  2                  2   \n",
       "1999                  5                  7                  3   \n",
       "\n",
       "      pages_visited_Fri  converted_Fri  \n",
       "0                     6              1  \n",
       "1                     2              0  \n",
       "3                     1              0  \n",
       "4                     4              1  \n",
       "5                     5              0  \n",
       "...                 ...            ...  \n",
       "1995                  7              0  \n",
       "1996                  6              0  \n",
       "1997                  4              0  \n",
       "1998                  3              1  \n",
       "1999                  1              1  \n",
       "\n",
       "[1859 rows x 31 columns]"
      ]
     },
     "execution_count": 74,
     "metadata": {},
     "output_type": "execute_result"
    }
   ],
   "source": [
    "df.drop_duplicates()"
   ]
  },
  {
   "attachments": {},
   "cell_type": "markdown",
   "metadata": {},
   "source": [
    "### Since the business problem is try to increase the conversion rate of the customers and we are gonna build a model to predict which customers are more likely to convert, so we should pick the column named ' converted_Fri' as the target value.\n",
    "### Let's check the target columns' unique value. "
   ]
  },
  {
   "cell_type": "code",
   "execution_count": 75,
   "metadata": {},
   "outputs": [
    {
     "data": {
      "text/plain": [
       "array([1, 0])"
      ]
     },
     "execution_count": 75,
     "metadata": {},
     "output_type": "execute_result"
    }
   ],
   "source": [
    "df['converted_Fri'].unique()"
   ]
  },
  {
   "attachments": {},
   "cell_type": "markdown",
   "metadata": {},
   "source": [
    "### Let's check the distribution of the target variable."
   ]
  },
  {
   "cell_type": "code",
   "execution_count": 76,
   "metadata": {},
   "outputs": [
    {
     "data": {
      "image/png": "[encoded data removed]",
      "text/plain": [
       "<Figure size 640x480 with 1 Axes>"
      ]
     },
     "metadata": {},
     "output_type": "display_data"
    }
   ],
   "source": [
    "sns.countplot(x='converted_Fri', data=df)\n",
    "plt.show()"
   ]
  },
  {
   "attachments": {},
   "cell_type": "markdown",
   "metadata": {},
   "source": [
    "### Let's check the numeric variables :"
   ]
  },
  {
   "attachments": {},
   "cell_type": "markdown",
   "metadata": {},
   "source": [
    "### From the chart below, we can say the numbers of products viewed on Monday,Tuesday, Thursday and Friday have some influence on the converion because the mean lines of the two box is significantly different. But the products viewed on Wednesday seems has little influence."
   ]
  },
  {
   "cell_type": "code",
   "execution_count": 106,
   "metadata": {},
   "outputs": [
    {
     "data": {
      "text/html": [
       "<div>\n",
       "<style scoped>\n",
       "    .dataframe tbody tr th:only-of-type {\n",
       "        vertical-align: middle;\n",
       "    }\n",
       "\n",
       "    .dataframe tbody tr th {\n",
       "        vertical-align: top;\n",
       "    }\n",
       "\n",
       "    .dataframe thead th {\n",
       "        text-align: right;\n",
       "    }\n",
       "</style>\n",
       "<table border=\"1\" class=\"dataframe\">\n",
       "  <thead>\n",
       "    <tr style=\"text-align: right;\">\n",
       "      <th></th>\n",
       "      <th>Unnamed: 0</th>\n",
       "      <th>visitor_id</th>\n",
       "      <th>visitor_location</th>\n",
       "      <th>marketing_channel</th>\n",
       "      <th>gender</th>\n",
       "      <th>product_views_Mon</th>\n",
       "      <th>product_views_Tue</th>\n",
       "      <th>product_views_Wed</th>\n",
       "      <th>product_views_Thu</th>\n",
       "      <th>product_views_Fri</th>\n",
       "      <th>...</th>\n",
       "      <th>time_on_site_Mon</th>\n",
       "      <th>time_on_site_Tue</th>\n",
       "      <th>time_on_site_Wed</th>\n",
       "      <th>time_on_site_Thu</th>\n",
       "      <th>time_on_site_Fri</th>\n",
       "      <th>pages_visited_Mon</th>\n",
       "      <th>pages_visited_Tue</th>\n",
       "      <th>pages_visited_Wed</th>\n",
       "      <th>pages_visited_Thu</th>\n",
       "      <th>pages_visited_Fri</th>\n",
       "    </tr>\n",
       "    <tr>\n",
       "      <th>converted_Fri</th>\n",
       "      <th></th>\n",
       "      <th></th>\n",
       "      <th></th>\n",
       "      <th></th>\n",
       "      <th></th>\n",
       "      <th></th>\n",
       "      <th></th>\n",
       "      <th></th>\n",
       "      <th></th>\n",
       "      <th></th>\n",
       "      <th></th>\n",
       "      <th></th>\n",
       "      <th></th>\n",
       "      <th></th>\n",
       "      <th></th>\n",
       "      <th></th>\n",
       "      <th></th>\n",
       "      <th></th>\n",
       "      <th></th>\n",
       "      <th></th>\n",
       "      <th></th>\n",
       "    </tr>\n",
       "  </thead>\n",
       "  <tbody>\n",
       "    <tr>\n",
       "      <th>0</th>\n",
       "      <td>1256</td>\n",
       "      <td>1256</td>\n",
       "      <td>1256</td>\n",
       "      <td>1256</td>\n",
       "      <td>1256</td>\n",
       "      <td>1256</td>\n",
       "      <td>1256</td>\n",
       "      <td>1256</td>\n",
       "      <td>1256</td>\n",
       "      <td>1256</td>\n",
       "      <td>...</td>\n",
       "      <td>1256</td>\n",
       "      <td>1256</td>\n",
       "      <td>1256</td>\n",
       "      <td>1256</td>\n",
       "      <td>1256</td>\n",
       "      <td>1256</td>\n",
       "      <td>1256</td>\n",
       "      <td>1256</td>\n",
       "      <td>1256</td>\n",
       "      <td>1256</td>\n",
       "    </tr>\n",
       "    <tr>\n",
       "      <th>1</th>\n",
       "      <td>603</td>\n",
       "      <td>603</td>\n",
       "      <td>603</td>\n",
       "      <td>603</td>\n",
       "      <td>603</td>\n",
       "      <td>603</td>\n",
       "      <td>603</td>\n",
       "      <td>603</td>\n",
       "      <td>603</td>\n",
       "      <td>603</td>\n",
       "      <td>...</td>\n",
       "      <td>603</td>\n",
       "      <td>603</td>\n",
       "      <td>603</td>\n",
       "      <td>603</td>\n",
       "      <td>603</td>\n",
       "      <td>603</td>\n",
       "      <td>603</td>\n",
       "      <td>603</td>\n",
       "      <td>603</td>\n",
       "      <td>603</td>\n",
       "    </tr>\n",
       "  </tbody>\n",
       "</table>\n",
       "<p>2 rows × 30 columns</p>\n",
       "</div>"
      ],
      "text/plain": [
       "               Unnamed: 0  visitor_id  visitor_location  marketing_channel   \n",
       "converted_Fri                                                                \n",
       "0                    1256        1256              1256               1256  \\\n",
       "1                     603         603               603                603   \n",
       "\n",
       "               gender  product_views_Mon  product_views_Tue   \n",
       "converted_Fri                                                 \n",
       "0                1256               1256               1256  \\\n",
       "1                 603                603                603   \n",
       "\n",
       "               product_views_Wed  product_views_Thu  product_views_Fri  ...   \n",
       "converted_Fri                                                           ...   \n",
       "0                           1256               1256               1256  ...  \\\n",
       "1                            603                603                603  ...   \n",
       "\n",
       "               time_on_site_Mon  time_on_site_Tue  time_on_site_Wed   \n",
       "converted_Fri                                                         \n",
       "0                          1256              1256              1256  \\\n",
       "1                           603               603               603   \n",
       "\n",
       "               time_on_site_Thu  time_on_site_Fri  pages_visited_Mon   \n",
       "converted_Fri                                                          \n",
       "0                          1256              1256               1256  \\\n",
       "1                           603               603                603   \n",
       "\n",
       "               pages_visited_Tue  pages_visited_Wed  pages_visited_Thu   \n",
       "converted_Fri                                                            \n",
       "0                           1256               1256               1256  \\\n",
       "1                            603                603                603   \n",
       "\n",
       "               pages_visited_Fri  \n",
       "converted_Fri                     \n",
       "0                           1256  \n",
       "1                            603  \n",
       "\n",
       "[2 rows x 30 columns]"
      ]
     },
     "execution_count": 106,
     "metadata": {},
     "output_type": "execute_result"
    }
   ],
   "source": [
    "df.groupby('converted_Fri').count()"
   ]
  },
  {
   "cell_type": "code",
   "execution_count": 77,
   "metadata": {},
   "outputs": [
    {
     "data": {
      "text/plain": [
       "<Axes: xlabel='converted_Fri', ylabel='product_views_Mon'>"
      ]
     },
     "execution_count": 77,
     "metadata": {},
     "output_type": "execute_result"
    },
    {
     "data": {
      "image/png": "[encoded data removed]",
      "text/plain": [
       "<Figure size 640x480 with 1 Axes>"
      ]
     },
     "metadata": {},
     "output_type": "display_data"
    }
   ],
   "source": [
    "##initial hypothesis is that the variables of product_views are not important.\n",
    "sns.boxplot(x='converted_Fri', y='product_views_Mon', data=df) "
   ]
  },
  {
   "cell_type": "code",
   "execution_count": 78,
   "metadata": {},
   "outputs": [
    {
     "data": {
      "text/plain": [
       "<Axes: xlabel='converted_Fri', ylabel='product_views_Tue'>"
      ]
     },
     "execution_count": 78,
     "metadata": {},
     "output_type": "execute_result"
    },
    {
     "data": {
      "image/png": "[encoded data removed]",
      "text/plain": [
       "<Figure size 640x480 with 1 Axes>"
      ]
     },
     "metadata": {},
     "output_type": "display_data"
    }
   ],
   "source": [
    "sns.boxplot(x='converted_Fri', y='product_views_Tue', data=df) "
   ]
  },
  {
   "cell_type": "code",
   "execution_count": 79,
   "metadata": {},
   "outputs": [
    {
     "data": {
      "text/plain": [
       "<Axes: xlabel='converted_Fri', ylabel='product_views_Wed'>"
      ]
     },
     "execution_count": 79,
     "metadata": {},
     "output_type": "execute_result"
    },
    {
     "data": {
      "image/png": "[encoded data removed]",
      "text/plain": [
       "<Figure size 640x480 with 1 Axes>"
      ]
     },
     "metadata": {},
     "output_type": "display_data"
    }
   ],
   "source": [
    "sns.boxplot(x='converted_Fri', y='product_views_Wed', data=df) "
   ]
  },
  {
   "cell_type": "code",
   "execution_count": 80,
   "metadata": {},
   "outputs": [
    {
     "data": {
      "text/plain": [
       "<Axes: xlabel='converted_Fri', ylabel='product_views_Thu'>"
      ]
     },
     "execution_count": 80,
     "metadata": {},
     "output_type": "execute_result"
    },
    {
     "data": {
      "image/png": "[encoded data removed]",
      "text/plain": [
       "<Figure size 640x480 with 1 Axes>"
      ]
     },
     "metadata": {},
     "output_type": "display_data"
    }
   ],
   "source": [
    "sns.boxplot(x='converted_Fri', y='product_views_Thu', data=df) "
   ]
  },
  {
   "cell_type": "code",
   "execution_count": 81,
   "metadata": {},
   "outputs": [
    {
     "data": {
      "text/plain": [
       "<Axes: xlabel='converted_Fri', ylabel='product_views_Fri'>"
      ]
     },
     "execution_count": 81,
     "metadata": {},
     "output_type": "execute_result"
    },
    {
     "data": {
      "image/png": "[encoded data removed]",
      "text/plain": [
       "<Figure size 640x480 with 1 Axes>"
      ]
     },
     "metadata": {},
     "output_type": "display_data"
    }
   ],
   "source": [
    "sns.boxplot(x='converted_Fri', y='product_views_Fri', data=df) "
   ]
  },
  {
   "attachments": {},
   "cell_type": "markdown",
   "metadata": {},
   "source": [
    "### From the charts below, we can say that the variables of 'avg_rating' don't have strong influence on the target variable. "
   ]
  },
  {
   "cell_type": "code",
   "execution_count": 82,
   "metadata": {},
   "outputs": [
    {
     "data": {
      "text/plain": [
       "<Axes: xlabel='converted_Fri', ylabel='avg_rating_Mon'>"
      ]
     },
     "execution_count": 82,
     "metadata": {},
     "output_type": "execute_result"
    },
    {
     "data": {
      "image/png": "[encoded data removed]",
      "text/plain": [
       "<Figure size 640x480 with 1 Axes>"
      ]
     },
     "metadata": {},
     "output_type": "display_data"
    }
   ],
   "source": [
    "sns.boxplot(x='converted_Fri', y='avg_rating_Mon', data=df) "
   ]
  },
  {
   "cell_type": "code",
   "execution_count": 83,
   "metadata": {},
   "outputs": [
    {
     "data": {
      "text/plain": [
       "<Axes: xlabel='converted_Fri', ylabel='avg_rating_Tue'>"
      ]
     },
     "execution_count": 83,
     "metadata": {},
     "output_type": "execute_result"
    },
    {
     "data": {
      "image/png": "[encoded data removed]",
      "text/plain": [
       "<Figure size 640x480 with 1 Axes>"
      ]
     },
     "metadata": {},
     "output_type": "display_data"
    }
   ],
   "source": [
    "sns.boxplot(x='converted_Fri', y='avg_rating_Tue', data=df) "
   ]
  },
  {
   "cell_type": "code",
   "execution_count": 84,
   "metadata": {},
   "outputs": [
    {
     "data": {
      "text/plain": [
       "<Axes: xlabel='converted_Fri', ylabel='avg_rating_Wed'>"
      ]
     },
     "execution_count": 84,
     "metadata": {},
     "output_type": "execute_result"
    },
    {
     "data": {
      "image/png": "[encoded data removed]",
      "text/plain": [
       "<Figure size 640x480 with 1 Axes>"
      ]
     },
     "metadata": {},
     "output_type": "display_data"
    }
   ],
   "source": [
    "sns.boxplot(x='converted_Fri', y='avg_rating_Wed', data=df) "
   ]
  },
  {
   "cell_type": "code",
   "execution_count": 85,
   "metadata": {},
   "outputs": [
    {
     "data": {
      "text/plain": [
       "<Axes: xlabel='converted_Fri', ylabel='avg_rating_Thu'>"
      ]
     },
     "execution_count": 85,
     "metadata": {},
     "output_type": "execute_result"
    },
    {
     "data": {
      "image/png": "[encoded data removed]",
      "text/plain": [
       "<Figure size 640x480 with 1 Axes>"
      ]
     },
     "metadata": {},
     "output_type": "display_data"
    }
   ],
   "source": [
    "sns.boxplot(x='converted_Fri', y='avg_rating_Thu', data=df) "
   ]
  },
  {
   "cell_type": "code",
   "execution_count": 86,
   "metadata": {},
   "outputs": [
    {
     "data": {
      "text/plain": [
       "<Axes: xlabel='converted_Fri', ylabel='avg_rating_Fri'>"
      ]
     },
     "execution_count": 86,
     "metadata": {},
     "output_type": "execute_result"
    },
    {
     "data": {
      "image/png": "[encoded data removed]",
      "text/plain": [
       "<Figure size 640x480 with 1 Axes>"
      ]
     },
     "metadata": {},
     "output_type": "display_data"
    }
   ],
   "source": [
    "sns.boxplot(x='converted_Fri', y='avg_rating_Fri', data=df) "
   ]
  },
  {
   "attachments": {},
   "cell_type": "markdown",
   "metadata": {},
   "source": [
    "### From the charts below, we can say the variable of avg_price don't have strong influence on the target variable."
   ]
  },
  {
   "cell_type": "code",
   "execution_count": 87,
   "metadata": {},
   "outputs": [
    {
     "data": {
      "text/plain": [
       "<Axes: xlabel='converted_Fri', ylabel='avg_price_Mon'>"
      ]
     },
     "execution_count": 87,
     "metadata": {},
     "output_type": "execute_result"
    },
    {
     "data": {
      "image/png": "[encoded data removed]",
      "text/plain": [
       "<Figure size 640x480 with 1 Axes>"
      ]
     },
     "metadata": {},
     "output_type": "display_data"
    }
   ],
   "source": [
    "sns.boxplot(x='converted_Fri', y='avg_price_Mon', data=df) "
   ]
  },
  {
   "cell_type": "code",
   "execution_count": 88,
   "metadata": {},
   "outputs": [
    {
     "data": {
      "text/plain": [
       "<Axes: xlabel='converted_Fri', ylabel='avg_price_Tue'>"
      ]
     },
     "execution_count": 88,
     "metadata": {},
     "output_type": "execute_result"
    },
    {
     "data": {
      "image/png": "[encoded data removed]",
      "text/plain": [
       "<Figure size 640x480 with 1 Axes>"
      ]
     },
     "metadata": {},
     "output_type": "display_data"
    }
   ],
   "source": [
    "sns.boxplot(x='converted_Fri', y='avg_price_Tue', data=df) "
   ]
  },
  {
   "cell_type": "code",
   "execution_count": 89,
   "metadata": {},
   "outputs": [
    {
     "data": {
      "text/plain": [
       "<Axes: xlabel='converted_Fri', ylabel='avg_price_Wed'>"
      ]
     },
     "execution_count": 89,
     "metadata": {},
     "output_type": "execute_result"
    },
    {
     "data": {
      "image/png": "[encoded data removed]",
      "text/plain": [
       "<Figure size 640x480 with 1 Axes>"
      ]
     },
     "metadata": {},
     "output_type": "display_data"
    }
   ],
   "source": [
    "sns.boxplot(x='converted_Fri', y='avg_price_Wed', data=df) "
   ]
  },
  {
   "cell_type": "code",
   "execution_count": 90,
   "metadata": {},
   "outputs": [
    {
     "data": {
      "text/plain": [
       "<Axes: xlabel='converted_Fri', ylabel='avg_price_Thu'>"
      ]
     },
     "execution_count": 90,
     "metadata": {},
     "output_type": "execute_result"
    },
    {
     "data": {
      "image/png": "[encoded data removed]",
      "text/plain": [
       "<Figure size 640x480 with 1 Axes>"
      ]
     },
     "metadata": {},
     "output_type": "display_data"
    }
   ],
   "source": [
    "sns.boxplot(x='converted_Fri', y='avg_price_Thu', data=df) "
   ]
  },
  {
   "cell_type": "code",
   "execution_count": 91,
   "metadata": {},
   "outputs": [
    {
     "data": {
      "text/plain": [
       "<Axes: xlabel='converted_Fri', ylabel='avg_price_Fri'>"
      ]
     },
     "execution_count": 91,
     "metadata": {},
     "output_type": "execute_result"
    },
    {
     "data": {
      "image/png": "[encoded data removed]",
      "text/plain": [
       "<Figure size 640x480 with 1 Axes>"
      ]
     },
     "metadata": {},
     "output_type": "display_data"
    }
   ],
   "source": [
    "sns.boxplot(x='converted_Fri', y='avg_price_Fri', data=df) "
   ]
  },
  {
   "attachments": {},
   "cell_type": "markdown",
   "metadata": {},
   "source": [
    "### From the charts below, we can say that the variables of time_on_site don't have strong influence on the target variable."
   ]
  },
  {
   "cell_type": "code",
   "execution_count": 92,
   "metadata": {},
   "outputs": [
    {
     "data": {
      "text/plain": [
       "<Axes: xlabel='converted_Fri', ylabel='time_on_site_Mon'>"
      ]
     },
     "execution_count": 92,
     "metadata": {},
     "output_type": "execute_result"
    },
    {
     "data": {
      "image/png": "[encoded data removed]",
      "text/plain": [
       "<Figure size 640x480 with 1 Axes>"
      ]
     },
     "metadata": {},
     "output_type": "display_data"
    }
   ],
   "source": [
    "sns.boxplot(x='converted_Fri', y='time_on_site_Mon', data=df) "
   ]
  },
  {
   "cell_type": "code",
   "execution_count": 93,
   "metadata": {},
   "outputs": [
    {
     "data": {
      "text/plain": [
       "<Axes: xlabel='converted_Fri', ylabel='time_on_site_Tue'>"
      ]
     },
     "execution_count": 93,
     "metadata": {},
     "output_type": "execute_result"
    },
    {
     "data": {
      "image/png": "[encoded data removed]",
      "text/plain": [
       "<Figure size 640x480 with 1 Axes>"
      ]
     },
     "metadata": {},
     "output_type": "display_data"
    }
   ],
   "source": [
    "sns.boxplot(x='converted_Fri', y='time_on_site_Tue', data=df)"
   ]
  },
  {
   "cell_type": "code",
   "execution_count": 94,
   "metadata": {},
   "outputs": [
    {
     "data": {
      "text/plain": [
       "<Axes: xlabel='converted_Fri', ylabel='time_on_site_Wed'>"
      ]
     },
     "execution_count": 94,
     "metadata": {},
     "output_type": "execute_result"
    },
    {
     "data": {
      "image/png": "[encoded data removed]",
      "text/plain": [
       "<Figure size 640x480 with 1 Axes>"
      ]
     },
     "metadata": {},
     "output_type": "display_data"
    }
   ],
   "source": [
    "sns.boxplot(x='converted_Fri', y='time_on_site_Wed', data=df)"
   ]
  },
  {
   "cell_type": "code",
   "execution_count": 95,
   "metadata": {},
   "outputs": [
    {
     "data": {
      "text/plain": [
       "<Axes: xlabel='converted_Fri', ylabel='time_on_site_Thu'>"
      ]
     },
     "execution_count": 95,
     "metadata": {},
     "output_type": "execute_result"
    },
    {
     "data": {
      "image/png": "[encoded data removed]",
      "text/plain": [
       "<Figure size 640x480 with 1 Axes>"
      ]
     },
     "metadata": {},
     "output_type": "display_data"
    }
   ],
   "source": [
    "sns.boxplot(x='converted_Fri', y='time_on_site_Thu', data=df)"
   ]
  },
  {
   "cell_type": "code",
   "execution_count": 96,
   "metadata": {},
   "outputs": [
    {
     "data": {
      "text/plain": [
       "<Axes: xlabel='converted_Fri', ylabel='time_on_site_Fri'>"
      ]
     },
     "execution_count": 96,
     "metadata": {},
     "output_type": "execute_result"
    },
    {
     "data": {
      "image/png": "[encoded data removed]",
      "text/plain": [
       "<Figure size 640x480 with 1 Axes>"
      ]
     },
     "metadata": {},
     "output_type": "display_data"
    }
   ],
   "source": [
    "sns.boxplot(x='converted_Fri', y='time_on_site_Fri', data=df)"
   ]
  },
  {
   "cell_type": "code",
   "execution_count": 97,
   "metadata": {},
   "outputs": [
    {
     "data": {
      "text/plain": [
       "<Axes: xlabel='converted_Fri', ylabel='pages_visited_Mon'>"
      ]
     },
     "execution_count": 97,
     "metadata": {},
     "output_type": "execute_result"
    },
    {
     "data": {
      "image/png": "[encoded data removed]",
      "text/plain": [
       "<Figure size 640x480 with 1 Axes>"
      ]
     },
     "metadata": {},
     "output_type": "display_data"
    }
   ],
   "source": [
    "sns.boxplot(x='converted_Fri', y='pages_visited_Mon', data=df)"
   ]
  },
  {
   "cell_type": "code",
   "execution_count": 98,
   "metadata": {},
   "outputs": [
    {
     "data": {
      "text/plain": [
       "<Axes: xlabel='converted_Fri', ylabel='pages_visited_Tue'>"
      ]
     },
     "execution_count": 98,
     "metadata": {},
     "output_type": "execute_result"
    },
    {
     "data": {
      "image/png": "[encoded data removed]",
      "text/plain": [
       "<Figure size 640x480 with 1 Axes>"
      ]
     },
     "metadata": {},
     "output_type": "display_data"
    }
   ],
   "source": [
    "sns.boxplot(x='converted_Fri', y='pages_visited_Tue', data=df)"
   ]
  },
  {
   "cell_type": "code",
   "execution_count": 99,
   "metadata": {},
   "outputs": [
    {
     "data": {
      "text/plain": [
       "<Axes: xlabel='converted_Fri', ylabel='pages_visited_Wed'>"
      ]
     },
     "execution_count": 99,
     "metadata": {},
     "output_type": "execute_result"
    },
    {
     "data": {
      "image/png": "[encoded data removed]",
      "text/plain": [
       "<Figure size 640x480 with 1 Axes>"
      ]
     },
     "metadata": {},
     "output_type": "display_data"
    }
   ],
   "source": [
    "sns.boxplot(x='converted_Fri', y='pages_visited_Wed', data=df)"
   ]
  },
  {
   "cell_type": "code",
   "execution_count": 100,
   "metadata": {},
   "outputs": [
    {
     "data": {
      "text/plain": [
       "<Axes: xlabel='converted_Fri', ylabel='pages_visited_Thu'>"
      ]
     },
     "execution_count": 100,
     "metadata": {},
     "output_type": "execute_result"
    },
    {
     "data": {
      "image/png": "[encoded data removed]",
      "text/plain": [
       "<Figure size 640x480 with 1 Axes>"
      ]
     },
     "metadata": {},
     "output_type": "display_data"
    }
   ],
   "source": [
    "sns.boxplot(x='converted_Fri', y='pages_visited_Thu', data=df)"
   ]
  },
  {
   "cell_type": "code",
   "execution_count": 101,
   "metadata": {},
   "outputs": [
    {
     "data": {
      "text/plain": [
       "<Axes: xlabel='converted_Fri', ylabel='pages_visited_Fri'>"
      ]
     },
     "execution_count": 101,
     "metadata": {},
     "output_type": "execute_result"
    },
    {
     "data": {
      "image/png": "[encoded data removed]",
      "text/plain": [
       "<Figure size 640x480 with 1 Axes>"
      ]
     },
     "metadata": {},
     "output_type": "display_data"
    }
   ],
   "source": [
    "sns.boxplot(x='converted_Fri', y='pages_visited_Fri', data=df)"
   ]
  },
  {
   "attachments": {},
   "cell_type": "markdown",
   "metadata": {},
   "source": [
    "### Let's check the categorical columns：\n",
    "### From the charts below, we can say the location is not a strong influence because the disrtibution of the different color (representing different location areas) is similar in converted_Fri column."
   ]
  },
  {
   "cell_type": "code",
   "execution_count": 102,
   "metadata": {},
   "outputs": [
    {
     "data": {
      "text/plain": [
       "<Axes: xlabel='converted_Fri'>"
      ]
     },
     "execution_count": 102,
     "metadata": {},
     "output_type": "execute_result"
    },
    {
     "data": {
      "image/png": "[encoded data removed]",
      "text/plain": [
       "<Figure size 640x480 with 1 Axes>"
      ]
     },
     "metadata": {},
     "output_type": "display_data"
    }
   ],
   "source": [
    "df.groupby(['converted_Fri','visitor_location'])['visitor_id'].count().unstack().plot(kind='bar', stacked=True)"
   ]
  },
  {
   "attachments": {},
   "cell_type": "markdown",
   "metadata": {},
   "source": [
    "### From the charts below, we can say that the marketing_channel is strong influence of the target variable because the red area has different propotions."
   ]
  },
  {
   "cell_type": "code",
   "execution_count": 103,
   "metadata": {},
   "outputs": [
    {
     "data": {
      "text/plain": [
       "<Axes: xlabel='converted_Fri'>"
      ]
     },
     "execution_count": 103,
     "metadata": {},
     "output_type": "execute_result"
    },
    {
     "data": {
      "image/png": "[encoded data removed]",
      "text/plain": [
       "<Figure size 640x480 with 1 Axes>"
      ]
     },
     "metadata": {},
     "output_type": "display_data"
    }
   ],
   "source": [
    "df.groupby(['converted_Fri','marketing_channel'])['visitor_id'].count().unstack().plot(kind='bar', stacked=True)"
   ]
  },
  {
   "attachments": {},
   "cell_type": "markdown",
   "metadata": {},
   "source": [
    "### From the matrix below, we can say that gender is also a strong influence because the number of males in converted (1) is significantly lower than the one of females."
   ]
  },
  {
   "cell_type": "code",
   "execution_count": 107,
   "metadata": {},
   "outputs": [
    {
     "data": {
      "text/html": [
       "<div>\n",
       "<style scoped>\n",
       "    .dataframe tbody tr th:only-of-type {\n",
       "        vertical-align: middle;\n",
       "    }\n",
       "\n",
       "    .dataframe tbody tr th {\n",
       "        vertical-align: top;\n",
       "    }\n",
       "\n",
       "    .dataframe thead th {\n",
       "        text-align: right;\n",
       "    }\n",
       "</style>\n",
       "<table border=\"1\" class=\"dataframe\">\n",
       "  <thead>\n",
       "    <tr style=\"text-align: right;\">\n",
       "      <th>converted_Fri</th>\n",
       "      <th>0</th>\n",
       "      <th>1</th>\n",
       "    </tr>\n",
       "    <tr>\n",
       "      <th>gender</th>\n",
       "      <th></th>\n",
       "      <th></th>\n",
       "    </tr>\n",
       "  </thead>\n",
       "  <tbody>\n",
       "    <tr>\n",
       "      <th>F</th>\n",
       "      <td>602</td>\n",
       "      <td>404</td>\n",
       "    </tr>\n",
       "    <tr>\n",
       "      <th>M</th>\n",
       "      <td>654</td>\n",
       "      <td>199</td>\n",
       "    </tr>\n",
       "  </tbody>\n",
       "</table>\n",
       "</div>"
      ],
      "text/plain": [
       "converted_Fri    0    1\n",
       "gender                 \n",
       "F              602  404\n",
       "M              654  199"
      ]
     },
     "execution_count": 107,
     "metadata": {},
     "output_type": "execute_result"
    }
   ],
   "source": [
    "df.groupby(['gender','converted_Fri'])['visitor_id'].count().unstack()"
   ]
  },
  {
   "attachments": {},
   "cell_type": "markdown",
   "metadata": {},
   "source": [
    "### From the above informations, we can say the variable--'product_views_Mon','product_views_Tue','product_views_Thu','product_views_Fri','marketing_channel' and 'gender' are important variables for target variable--'converted_Fri'.\n",
    "### Let' build the model."
   ]
  },
  {
   "cell_type": "code",
   "execution_count": 117,
   "metadata": {},
   "outputs": [],
   "source": [
    "# define the categorical columns and numeric columns:\n",
    "cat_columns = ['gender','marketing_channel']\n",
    "num_columns = ['product_views_Mon','product_views_Tue','product_views_Thu','product_views_Fri']\n",
    "target = 'converted_Fri'"
   ]
  },
  {
   "cell_type": "code",
   "execution_count": 118,
   "metadata": {},
   "outputs": [],
   "source": [
    "# we need to transform the categorical columns to numeric to fit in the model later:\n",
    "cat_transformer = OneHotEncoder(handle_unknown='ignore')\n",
    "num_transformer = StandardScaler()\n",
    "preprocessor = ColumnTransformer(transformers = [('cat',cat_transformer, cat_columns),\n",
    "                                                 ('num', num_transformer, num_columns)])"
   ]
  },
  {
   "cell_type": "code",
   "execution_count": 119,
   "metadata": {},
   "outputs": [],
   "source": [
    "x_train, x_test, y_train, y_test = train_test_split(df[cat_columns + num_columns], df[target], test_size=0.2, random_state=42)"
   ]
  },
  {
   "cell_type": "code",
   "execution_count": 122,
   "metadata": {},
   "outputs": [],
   "source": [
    "x_train_transformed = preprocessor.fit_transform(x_train)\n",
    "x_test_transformed = preprocessor.fit_transform(x_test)"
   ]
  },
  {
   "cell_type": "code",
   "execution_count": 123,
   "metadata": {},
   "outputs": [],
   "source": [
    "encoded_columns = list(preprocessor.named_transformers_['cat'].get_feature_names_out(cat_columns))\n",
    "all_feat = num_columns + encoded_columns\n",
    "\n",
    "X_train_transformed = pd.DataFrame(x_train_transformed, columns=all_feat)\n",
    "X_test_transformed = pd.DataFrame(x_test_transformed, columns=all_feat)"
   ]
  },
  {
   "attachments": {},
   "cell_type": "markdown",
   "metadata": {},
   "source": [
    "### Build the baseline of models. And calculate the f1_score of the models."
   ]
  },
  {
   "cell_type": "code",
   "execution_count": 124,
   "metadata": {},
   "outputs": [],
   "source": [
    "knn = KNeighborsClassifier()\n",
    "log = LogisticRegression()\n",
    "nb = GaussianNB()\n",
    "svc = SVC()\n",
    "dtc= DecisionTreeClassifier()\n",
    "dtc= DecisionTreeClassifier()"
   ]
  },
  {
   "cell_type": "code",
   "execution_count": 127,
   "metadata": {},
   "outputs": [
    {
     "data": {
      "text/html": [
       "<style>#sk-container-id-1 {color: black;background-color: white;}#sk-container-id-1 pre{padding: 0;}#sk-container-id-1 div.sk-toggleable {background-color: white;}#sk-container-id-1 label.sk-toggleable__label {cursor: pointer;display: block;width: 100%;margin-bottom: 0;padding: 0.3em;box-sizing: border-box;text-align: center;}#sk-container-id-1 label.sk-toggleable__label-arrow:before {content: \"▸\";float: left;margin-right: 0.25em;color: #696969;}#sk-container-id-1 label.sk-toggleable__label-arrow:hover:before {color: black;}#sk-container-id-1 div.sk-estimator:hover label.sk-toggleable__label-arrow:before {color: black;}#sk-container-id-1 div.sk-toggleable__content {max-height: 0;max-width: 0;overflow: hidden;text-align: left;background-color: #f0f8ff;}#sk-container-id-1 div.sk-toggleable__content pre {margin: 0.2em;color: black;border-radius: 0.25em;background-color: #f0f8ff;}#sk-container-id-1 input.sk-toggleable__control:checked~div.sk-toggleable__content {max-height: 200px;max-width: 100%;overflow: auto;}#sk-container-id-1 input.sk-toggleable__control:checked~label.sk-toggleable__label-arrow:before {content: \"▾\";}#sk-container-id-1 div.sk-estimator input.sk-toggleable__control:checked~label.sk-toggleable__label {background-color: #d4ebff;}#sk-container-id-1 div.sk-label input.sk-toggleable__control:checked~label.sk-toggleable__label {background-color: #d4ebff;}#sk-container-id-1 input.sk-hidden--visually {border: 0;clip: rect(1px 1px 1px 1px);clip: rect(1px, 1px, 1px, 1px);height: 1px;margin: -1px;overflow: hidden;padding: 0;position: absolute;width: 1px;}#sk-container-id-1 div.sk-estimator {font-family: monospace;background-color: #f0f8ff;border: 1px dotted black;border-radius: 0.25em;box-sizing: border-box;margin-bottom: 0.5em;}#sk-container-id-1 div.sk-estimator:hover {background-color: #d4ebff;}#sk-container-id-1 div.sk-parallel-item::after {content: \"\";width: 100%;border-bottom: 1px solid gray;flex-grow: 1;}#sk-container-id-1 div.sk-label:hover label.sk-toggleable__label {background-color: #d4ebff;}#sk-container-id-1 div.sk-serial::before {content: \"\";position: absolute;border-left: 1px solid gray;box-sizing: border-box;top: 0;bottom: 0;left: 50%;z-index: 0;}#sk-container-id-1 div.sk-serial {display: flex;flex-direction: column;align-items: center;background-color: white;padding-right: 0.2em;padding-left: 0.2em;position: relative;}#sk-container-id-1 div.sk-item {position: relative;z-index: 1;}#sk-container-id-1 div.sk-parallel {display: flex;align-items: stretch;justify-content: center;background-color: white;position: relative;}#sk-container-id-1 div.sk-item::before, #sk-container-id-1 div.sk-parallel-item::before {content: \"\";position: absolute;border-left: 1px solid gray;box-sizing: border-box;top: 0;bottom: 0;left: 50%;z-index: -1;}#sk-container-id-1 div.sk-parallel-item {display: flex;flex-direction: column;z-index: 1;position: relative;background-color: white;}#sk-container-id-1 div.sk-parallel-item:first-child::after {align-self: flex-end;width: 50%;}#sk-container-id-1 div.sk-parallel-item:last-child::after {align-self: flex-start;width: 50%;}#sk-container-id-1 div.sk-parallel-item:only-child::after {width: 0;}#sk-container-id-1 div.sk-dashed-wrapped {border: 1px dashed gray;margin: 0 0.4em 0.5em 0.4em;box-sizing: border-box;padding-bottom: 0.4em;background-color: white;}#sk-container-id-1 div.sk-label label {font-family: monospace;font-weight: bold;display: inline-block;line-height: 1.2em;}#sk-container-id-1 div.sk-label-container {text-align: center;}#sk-container-id-1 div.sk-container {/* jupyter's `normalize.less` sets `[hidden] { display: none; }` but bootstrap.min.css set `[hidden] { display: none !important; }` so we also need the `!important` here to be able to override the default hidden behavior on the sphinx rendered scikit-learn.org. See: https://github.com/scikit-learn/scikit-learn/issues/21755 */display: inline-block !important;position: relative;}#sk-container-id-1 div.sk-text-repr-fallback {display: none;}</style><div id=\"sk-container-id-1\" class=\"sk-top-container\"><div class=\"sk-text-repr-fallback\"><pre>DecisionTreeClassifier()</pre><b>In a Jupyter environment, please rerun this cell to show the HTML representation or trust the notebook. <br />On GitHub, the HTML representation is unable to render, please try loading this page with nbviewer.org.</b></div><div class=\"sk-container\" hidden><div class=\"sk-item\"><div class=\"sk-estimator sk-toggleable\"><input class=\"sk-toggleable__control sk-hidden--visually\" id=\"sk-estimator-id-1\" type=\"checkbox\" checked><label for=\"sk-estimator-id-1\" class=\"sk-toggleable__label sk-toggleable__label-arrow\">DecisionTreeClassifier</label><div class=\"sk-toggleable__content\"><pre>DecisionTreeClassifier()</pre></div></div></div></div></div>"
      ],
      "text/plain": [
       "DecisionTreeClassifier()"
      ]
     },
     "execution_count": 127,
     "metadata": {},
     "output_type": "execute_result"
    }
   ],
   "source": [
    "knn.fit(X_train_transformed, y_train)\n",
    "log.fit(X_train_transformed, y_train)\n",
    "nb.fit(X_train_transformed, y_train)\n",
    "svc.fit(X_train_transformed, y_train)\n",
    "dtc.fit(X_train_transformed,y_train)"
   ]
  },
  {
   "cell_type": "code",
   "execution_count": 128,
   "metadata": {},
   "outputs": [],
   "source": [
    "pred_knn = knn.predict(X_test_transformed )\n",
    "pred_log = log.predict(X_test_transformed )\n",
    "pred_nb = nb.predict(X_test_transformed )\n",
    "pred_sv = svc.predict(X_test_transformed )\n",
    "pred_dtc=dtc.predict(X_test_transformed )"
   ]
  },
  {
   "attachments": {},
   "cell_type": "markdown",
   "metadata": {},
   "source": [
    "### from the information below , we can say the f1 score of Desicion Tree is highest. And our business goal is to attract more customer to order so we should use another score-recall score, to pick the model. And the recall_score of Desicion Tree is highest.So we should narrow down to the Desicion Tree model."
   ]
  },
  {
   "cell_type": "code",
   "execution_count": 129,
   "metadata": {},
   "outputs": [
    {
     "name": "stdout",
     "output_type": "stream",
     "text": [
      "0.7392996108949416\n",
      "0.7235772357723578\n",
      "0.7294117647058823\n",
      "0.7557251908396948\n",
      "0.8250000000000001\n"
     ]
    }
   ],
   "source": [
    "print(f1_score(y_test,pred_knn))\n",
    "print(f1_score(y_test,pred_log))\n",
    "print(f1_score(y_test,pred_nb))\n",
    "print(f1_score(y_test,pred_sv))\n",
    "print(f1_score(y_test,pred_dtc))"
   ]
  },
  {
   "cell_type": "code",
   "execution_count": 134,
   "metadata": {},
   "outputs": [
    {
     "name": "stdout",
     "output_type": "stream",
     "text": [
      "0.7142857142857143\n",
      "0.6691729323308271\n",
      "0.6992481203007519\n",
      "0.7443609022556391\n",
      "0.7443609022556391\n"
     ]
    }
   ],
   "source": [
    "print(recall_score(y_test,pred_knn))\n",
    "print(recall_score(y_test,pred_log))\n",
    "print(recall_score(y_test,pred_nb))\n",
    "print(recall_score(y_test,pred_sv))\n",
    "print(recall_score(y_test,pred_dtc))"
   ]
  },
  {
   "cell_type": "code",
   "execution_count": 135,
   "metadata": {},
   "outputs": [
    {
     "name": "stdout",
     "output_type": "stream",
     "text": [
      "0.8198924731182796\n",
      "0.8172043010752689\n",
      "0.8145161290322581\n",
      "0.8279569892473119\n",
      "0.8870967741935484\n"
     ]
    }
   ],
   "source": [
    "print(accuracy_score(y_test,pred_knn))\n",
    "print(accuracy_score(y_test,pred_log))\n",
    "print(accuracy_score(y_test,pred_nb))\n",
    "print(accuracy_score(y_test,pred_sv))\n",
    "print(accuracy_score(y_test,pred_dtc))"
   ]
  },
  {
   "attachments": {},
   "cell_type": "markdown",
   "metadata": {},
   "source": [
    "### and we also should do the cross validation of the models to see whether there is overfitting. But the result of the Desicion Tree model seems ok, the differences is not higher than 10%."
   ]
  },
  {
   "cell_type": "code",
   "execution_count": 130,
   "metadata": {},
   "outputs": [],
   "source": [
    "cv_scores_knn = cross_val_score(knn, X_train_transformed, y_train, cv=10, scoring='f1')\n",
    "cv_scores_nb = cross_val_score(nb, X_train_transformed, y_train, cv=10, scoring='f1')\n",
    "cv_scores_log = cross_val_score(log, X_train_transformed, y_train, cv=10, scoring='f1')\n",
    "cv_scores_sv = cross_val_score(svc, X_train_transformed, y_train, cv=10, scoring='f1')\n",
    "cv_scores_dtc = cross_val_score(dtc, X_train_transformed, y_train, cv=10, scoring='f1')\n"
   ]
  },
  {
   "cell_type": "code",
   "execution_count": 131,
   "metadata": {},
   "outputs": [
    {
     "name": "stdout",
     "output_type": "stream",
     "text": [
      "[0.75       0.70833333 0.77894737 0.75789474 0.74157303 0.69473684\n",
      " 0.7311828  0.72380952 0.74226804 0.72093023]\n"
     ]
    }
   ],
   "source": [
    "print(cv_scores_dtc)"
   ]
  },
  {
   "cell_type": "code",
   "execution_count": 132,
   "metadata": {},
   "outputs": [
    {
     "name": "stdout",
     "output_type": "stream",
     "text": [
      "[0.64444444 0.69047619 0.62790698 0.72941176 0.7        0.7032967\n",
      " 0.80851064 0.76595745 0.72340426 0.75294118]\n"
     ]
    }
   ],
   "source": [
    "print(cv_scores_sv)"
   ]
  },
  {
   "cell_type": "code",
   "execution_count": 133,
   "metadata": {},
   "outputs": [
    {
     "name": "stdout",
     "output_type": "stream",
     "text": [
      "[0.66666667 0.69047619 0.65116279 0.68235294 0.70886076 0.66666667\n",
      " 0.8        0.77894737 0.73333333 0.70588235]\n"
     ]
    }
   ],
   "source": [
    "print(cv_scores_knn)\n"
   ]
  },
  {
   "attachments": {},
   "cell_type": "markdown",
   "metadata": {},
   "source": [
    "### After we decide the model used to predict, we start to find the best parameters to improve the model."
   ]
  },
  {
   "cell_type": "code",
   "execution_count": 138,
   "metadata": {},
   "outputs": [
    {
     "name": "stdout",
     "output_type": "stream",
     "text": [
      "Best Parameters: {'criterion': 'gini', 'max_depth': 30, 'min_samples_leaf': 1, 'min_samples_split': 2}\n",
      "Best Score: 0.7425531914893616\n",
      "Test Accuracy: 0.8790322580645161\n"
     ]
    }
   ],
   "source": [
    "param_grid = {\n",
    "    'criterion': ['gini', 'entropy'],\n",
    "    'max_depth': [None, 10, 20, 30],\n",
    "    'min_samples_split': [2, 5, 10],\n",
    "    'min_samples_leaf': [1, 2, 4]\n",
    "}\n",
    "\n",
    "grid_search = GridSearchCV(dtc, param_grid, cv=10, scoring='recall')\n",
    "grid_search.fit(x_train_transformed, y_train)\n",
    "\n",
    "best_params = grid_search.best_params_\n",
    "best_score = grid_search.best_score_\n",
    "print(\"Best Parameters:\", best_params)\n",
    "print(\"Best Score:\", best_score)\n",
    "\n",
    "best_model = grid_search.best_estimator_\n",
    "test_accuracy = best_model.score(x_test_transformed, y_test)\n",
    "print(\"Test Accuracy:\", test_accuracy)\n",
    "\n",
    "\n",
    "\n",
    "\n",
    "\n",
    "\n"
   ]
  },
  {
   "cell_type": "code",
   "execution_count": 145,
   "metadata": {},
   "outputs": [
    {
     "name": "stdout",
     "output_type": "stream",
     "text": [
      "Cross-validation scores for DTC:  [0.68085106 0.71276596 0.65957447 0.75531915 0.64893617]\n"
     ]
    }
   ],
   "source": [
    "# Apply the best parameters\n",
    "dtc_best = DecisionTreeClassifier(**grid_search.best_params_)\n",
    "\n",
    "\n",
    "# Perform cross-validation\n",
    "cv_scores_dtc = cross_val_score(dtc_best, x_train_transformed, y_train, cv=5, scoring='recall')\n",
    "\n",
    "\n",
    "#print(\"Cross-validation scores for Naive Bayes: \", cv_scores_nb)\n",
    "print(\"Cross-validation scores for DTC: \", cv_scores_dtc)\n",
    "\n",
    "# Fit the models with the best parameters\n",
    "dtc_best.fit(x_train_transformed, y_train)\n",
    "\n",
    "\n",
    "# Evaluate on the test set\n",
    "y_pred_dtc = dtc_best.predict(x_train_transformed)\n",
    "\n",
    "\n"
   ]
  },
  {
   "attachments": {},
   "cell_type": "markdown",
   "metadata": {},
   "source": [
    "### From the informations above, we can see the best parameters of Desicion Tree Model is 'max_depth =30', and after fitting the best parameters into the model, the result of cross validation is acceptable (not higher than 10% difference).And the text accurracy is high enough."
   ]
  },
  {
   "attachments": {},
   "cell_type": "markdown",
   "metadata": {},
   "source": [
    "### Main answers to the questions:\n",
    "### 1. Our initial hypothesis is that the variables are not important. After we applied the feature exploratory, we found that the variables of 'product_views' are important , the 'gender' and 'marketing_channel' are also important factors to the target variables.\n",
    "\n",
    "### 2. We had done the data cleaning by searching missing and duplicate values,and we also found out some strange values in the specific columns and we dropped them as the outliers. And we used one hot encoded method to transform the categorical columns into numeric columns to be prepared for the up-coming modelling.\n",
    "\n",
    "### 3. For the model-building part, we firstly built a baseline for several models:knn,nb,svc,log and dtc. Then we evaluated the model performance using the F1 score, recall score,accuracy score and results of cross validations.\n",
    "\n",
    "### 4. Due to the imbalance dataset, which can be seen from the distribution of the target varables, we should focus on the F1 score. And since our business goal is to attract more and more customers to order so we should focus on the recall score. At last, we should check the cross validations result to avoid overftting problems. So the decision tree model has the highest score in F1，recall and accuracy，with reasonable results of cross validations.\n",
    "\n",
    "### 5. After we chose the decision tree model, we used grid search method to find the best parameters to optimize the model. Then we fit the best parameters to build up the best model. And check the cross validation results and text accuracy to see the performence.\n",
    "\n",
    "### 6.(1)Our initial hypothesis is that the variables are not important. And it's proved to be false. We found that the number of products the visitor viewed on Monday, Tuesday, Thursday and Friday have strong influence of the conversion of customers. And the marketing channels and gender also have strong influence of the conversion of customers. So we recommend to pay more attention to the factors above.\n",
    "### (2) Firstly we built baselines for the model to see the general performance of several models. And through the f1 score, recall score and accuracy score to determine which is the best model. We also pay attention to the cross validation results, whose differences are better not higher than 10%, to avoid the overfitting.\n",
    "### (3) Finally, we selected the Decision Tree Model for its highest F1 score,recall score and accuray scores. Since we want to attract the customers to order as much as we can so we should focus on the recall score. \n",
    "### (4) The model can be used to predict the probability of conversion of the customer by feeding the data of the number of products being view , gender of the customer and the marketing channel the visitor came from. In this case ,we can use the model to adjust the display of the quantity and category of products on the websites. And we can also target female and male customers with different offers to increase the probability of ordering. Lastly, we can also predict what marketing channel the customers come from has the highest willingness to purchase so we can target different marketing channel with different marketing promotion plans."
   ]
  }
 ],
 "metadata": {
  "kernelspec": {
   "display_name": "Python 3",
   "language": "python",
   "name": "python3"
  },
  "language_info": {
   "codemirror_mode": {
    "name": "ipython",
    "version": 3
   },
   "file_extension": ".py",
   "mimetype": "text/x-python",
   "name": "python",
   "nbconvert_exporter": "python",
   "pygments_lexer": "ipython3",
   "version": "3.9.6"
  },
  "orig_nbformat": 4
 },
 "nbformat": 4,
 "nbformat_minor": 2
}
