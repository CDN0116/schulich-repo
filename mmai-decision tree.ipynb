{
 "cells": [
  {
   "cell_type": "code",
   "execution_count": 3,
   "metadata": {},
   "outputs": [
    {
     "name": "stdout",
     "output_type": "stream",
     "text": [
      "Defaulting to user installation because normal site-packages is not writeable\n",
      "Requirement already satisfied: dmba in /Users/dylanbai/Library/Python/3.9/lib/python/site-packages (0.2.4)\n",
      "Requirement already satisfied: graphviz in /Users/dylanbai/Library/Python/3.9/lib/python/site-packages (from dmba) (0.20.1)\n",
      "Requirement already satisfied: scipy in /Users/dylanbai/Library/Python/3.9/lib/python/site-packages (from dmba) (1.10.1)\n",
      "Requirement already satisfied: numpy in /Users/dylanbai/Library/Python/3.9/lib/python/site-packages (from dmba) (1.24.3)\n",
      "Requirement already satisfied: scikit-learn in /Users/dylanbai/Library/Python/3.9/lib/python/site-packages (from dmba) (1.2.2)\n",
      "Requirement already satisfied: pandas in /Users/dylanbai/Library/Python/3.9/lib/python/site-packages (from dmba) (2.0.1)\n",
      "Requirement already satisfied: matplotlib in /Users/dylanbai/Library/Python/3.9/lib/python/site-packages (from dmba) (3.7.1)\n",
      "Requirement already satisfied: contourpy>=1.0.1 in /Users/dylanbai/Library/Python/3.9/lib/python/site-packages (from matplotlib->dmba) (1.0.7)\n",
      "Requirement already satisfied: packaging>=20.0 in /Users/dylanbai/Library/Python/3.9/lib/python/site-packages (from matplotlib->dmba) (23.1)\n",
      "Requirement already satisfied: kiwisolver>=1.0.1 in /Users/dylanbai/Library/Python/3.9/lib/python/site-packages (from matplotlib->dmba) (1.4.4)\n",
      "Requirement already satisfied: cycler>=0.10 in /Users/dylanbai/Library/Python/3.9/lib/python/site-packages (from matplotlib->dmba) (0.11.0)\n",
      "Requirement already satisfied: importlib-resources>=3.2.0 in /Users/dylanbai/Library/Python/3.9/lib/python/site-packages (from matplotlib->dmba) (5.12.0)\n",
      "Requirement already satisfied: python-dateutil>=2.7 in /Users/dylanbai/Library/Python/3.9/lib/python/site-packages (from matplotlib->dmba) (2.8.2)\n",
      "Requirement already satisfied: pillow>=6.2.0 in /Users/dylanbai/Library/Python/3.9/lib/python/site-packages (from matplotlib->dmba) (9.5.0)\n",
      "Requirement already satisfied: pyparsing>=2.3.1 in /Users/dylanbai/Library/Python/3.9/lib/python/site-packages (from matplotlib->dmba) (3.0.9)\n",
      "Requirement already satisfied: fonttools>=4.22.0 in /Users/dylanbai/Library/Python/3.9/lib/python/site-packages (from matplotlib->dmba) (4.39.4)\n",
      "Requirement already satisfied: zipp>=3.1.0 in /Users/dylanbai/Library/Python/3.9/lib/python/site-packages (from importlib-resources>=3.2.0->matplotlib->dmba) (3.15.0)\n",
      "Requirement already satisfied: six>=1.5 in /Library/Developer/CommandLineTools/Library/Frameworks/Python3.framework/Versions/3.9/lib/python3.9/site-packages (from python-dateutil>=2.7->matplotlib->dmba) (1.15.0)\n",
      "Requirement already satisfied: pytz>=2020.1 in /Users/dylanbai/Library/Python/3.9/lib/python/site-packages (from pandas->dmba) (2023.3)\n",
      "Requirement already satisfied: tzdata>=2022.1 in /Users/dylanbai/Library/Python/3.9/lib/python/site-packages (from pandas->dmba) (2023.3)\n",
      "Requirement already satisfied: threadpoolctl>=2.0.0 in /Users/dylanbai/Library/Python/3.9/lib/python/site-packages (from scikit-learn->dmba) (3.1.0)\n",
      "Requirement already satisfied: joblib>=1.1.1 in /Users/dylanbai/Library/Python/3.9/lib/python/site-packages (from scikit-learn->dmba) (1.2.0)\n",
      "\u001b[33mWARNING: You are using pip version 21.2.4; however, version 23.1.2 is available.\n",
      "You should consider upgrading via the '/Library/Developer/CommandLineTools/usr/bin/python3 -m pip install --upgrade pip' command.\u001b[0m\n",
      "Note: you may need to restart the kernel to use updated packages.\n"
     ]
    }
   ],
   "source": [
    "pip install dmba"
   ]
  },
  {
   "cell_type": "code",
   "execution_count": 4,
   "metadata": {},
   "outputs": [
    {
     "name": "stdout",
     "output_type": "stream",
     "text": [
      "no display found. Using non-interactive Agg backend\n"
     ]
    }
   ],
   "source": [
    "from pathlib import Path\n",
    "\n",
    "import pandas as pd\n",
    "import numpy as np\n",
    "from sklearn.tree import DecisionTreeClassifier, DecisionTreeRegressor\n",
    "from sklearn.ensemble import RandomForestClassifier, GradientBoostingClassifier\n",
    "from sklearn.model_selection import train_test_split, cross_val_score, GridSearchCV\n",
    "import matplotlib.pylab as plt\n",
    "import dmba\n",
    "from dmba import plotDecisionTree, classificationSummary, regressionSummary\n",
    "\n",
    "%matplotlib inline"
   ]
  },
  {
   "cell_type": "code",
   "execution_count": 5,
   "metadata": {},
   "outputs": [
    {
     "ename": "ValueError",
     "evalue": "Data file {name} not found",
     "output_type": "error",
     "traceback": [
      "\u001b[0;31m---------------------------------------------------------------------------\u001b[0m",
      "\u001b[0;31mValueError\u001b[0m                                Traceback (most recent call last)",
      "Cell \u001b[0;32mIn[5], line 1\u001b[0m\n\u001b[0;32m----> 1\u001b[0m mower_df\u001b[39m=\u001b[39mdmba\u001b[39m.\u001b[39;49mload_data(\u001b[39m'\u001b[39;49m\u001b[39m/Users/dylanbai/Desktop/MMAI/ToyotaCorolla.csv\u001b[39;49m\u001b[39m'\u001b[39;49m)\n",
      "File \u001b[0;32m~/Library/Python/3.9/lib/python/site-packages/dmba/data.py:19\u001b[0m, in \u001b[0;36mload_data\u001b[0;34m(name, **kwargs)\u001b[0m\n\u001b[1;32m     17\u001b[0m data_file \u001b[39m=\u001b[39m get_data_file(name)\n\u001b[1;32m     18\u001b[0m \u001b[39mif\u001b[39;00m \u001b[39mnot\u001b[39;00m data_file\u001b[39m.\u001b[39mexists():\n\u001b[0;32m---> 19\u001b[0m     \u001b[39mraise\u001b[39;00m \u001b[39mValueError\u001b[39;00m(\u001b[39m'\u001b[39m\u001b[39mData file \u001b[39m\u001b[39m{name}\u001b[39;00m\u001b[39m not found\u001b[39m\u001b[39m'\u001b[39m)\n\u001b[1;32m     20\u001b[0m data \u001b[39m=\u001b[39m pd\u001b[39m.\u001b[39mread_csv(data_file, \u001b[39m*\u001b[39m\u001b[39m*\u001b[39mkwargs)\n\u001b[1;32m     21\u001b[0m \u001b[39mif\u001b[39;00m data\u001b[39m.\u001b[39mshape[\u001b[39m1\u001b[39m] \u001b[39m==\u001b[39m \u001b[39m1\u001b[39m:\n",
      "\u001b[0;31mValueError\u001b[0m: Data file {name} not found"
     ]
    }
   ],
   "source": [
    "mower_df=dmba.load_data('/Users/dylanbai/Desktop/MMAI/ToyotaCorolla.csv')"
   ]
  }
 ],
 "metadata": {
  "kernelspec": {
   "display_name": "Python 3",
   "language": "python",
   "name": "python3"
  },
  "language_info": {
   "codemirror_mode": {
    "name": "ipython",
    "version": 3
   },
   "file_extension": ".py",
   "mimetype": "text/x-python",
   "name": "python",
   "nbconvert_exporter": "python",
   "pygments_lexer": "ipython3",
   "version": "3.9.6"
  },
  "orig_nbformat": 4
 },
 "nbformat": 4,
 "nbformat_minor": 2
}
