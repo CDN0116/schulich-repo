{
 "cells": [
  {
   "cell_type": "code",
   "execution_count": 19,
   "metadata": {},
   "outputs": [],
   "source": [
    "import pandas as pd\n",
    "import numpy as np\n",
    "import matplotlib.pyplot as plt\n",
    "import seaborn as sns\n",
    "from sklearn.model_selection import train_test_split, cross_val_score, GridSearchCV, RandomizedSearchCV\n",
    "from sklearn.preprocessing import StandardScaler, OneHotEncoder\n",
    "from sklearn.compose import ColumnTransformer\n",
    "from sklearn.naive_bayes import GaussianNB\n",
    "from sklearn.neighbors import KNeighborsClassifier\n",
    "from sklearn.metrics import confusion_matrix, accuracy_score, precision_score, recall_score, f1_score, roc_curve, auc, precision_recall_curve\n",
    "from imblearn.pipeline import Pipeline\n",
    "from sklearn.svm import SVC\n",
    "from sklearn.tree import DecisionTreeClassifier\n",
    "from sklearn.linear_model import LogisticRegression\n",
    "from sklearn.tree import plot_tree\n",
    "from sklearn.model_selection import train_test_split\n",
    "from sklearn.model_selection import cross_val_score\n",
    "from sklearn.metrics import accuracy_score, confusion_matrix\n",
    "import time # to measure how long the models take\n",
    "from sklearn import datasets\n",
    "from sklearn.compose import ColumnTransformer\n",
    "from sklearn.model_selection import train_test_split\n",
    "from sklearn.tree import DecisionTreeClassifier\n",
    "from sklearn.linear_model import LogisticRegression\n",
    "from sklearn.neighbors import KNeighborsClassifier\n",
    "from sklearn.ensemble import RandomForestClassifier, AdaBoostClassifier, BaggingClassifier, VotingClassifier\n",
    "from sklearn.metrics import accuracy_score, f1_score, precision_score, recall_score, precision_recall_curve\n",
    "\n",
    "from sklearn.preprocessing import StandardScaler, OneHotEncoder\n",
    "from imblearn.over_sampling import SMOTE\n",
    "from sklearn.model_selection import GridSearchCV"
   ]
  },
  {
   "cell_type": "code",
   "execution_count": 20,
   "metadata": {},
   "outputs": [],
   "source": [
    "df=pd.read_csv('/Users/dylanbai/Desktop/Tableau/assignment/Dinesafe.csv')"
   ]
  },
  {
   "cell_type": "code",
   "execution_count": 21,
   "metadata": {},
   "outputs": [
    {
     "data": {
      "text/html": [
       "<div>\n",
       "<style scoped>\n",
       "    .dataframe tbody tr th:only-of-type {\n",
       "        vertical-align: middle;\n",
       "    }\n",
       "\n",
       "    .dataframe tbody tr th {\n",
       "        vertical-align: top;\n",
       "    }\n",
       "\n",
       "    .dataframe thead th {\n",
       "        text-align: right;\n",
       "    }\n",
       "</style>\n",
       "<table border=\"1\" class=\"dataframe\">\n",
       "  <thead>\n",
       "    <tr style=\"text-align: right;\">\n",
       "      <th></th>\n",
       "      <th>_id</th>\n",
       "      <th>Rec #</th>\n",
       "      <th>Establishment ID</th>\n",
       "      <th>Inspection ID</th>\n",
       "      <th>Establishment Name</th>\n",
       "      <th>Establishment Type</th>\n",
       "      <th>Establishment Address</th>\n",
       "      <th>Establishment Status</th>\n",
       "      <th>Min. Inspections Per Year</th>\n",
       "      <th>Infraction Details</th>\n",
       "      <th>Inspection Date</th>\n",
       "      <th>Severity</th>\n",
       "      <th>Action</th>\n",
       "      <th>Outcome</th>\n",
       "      <th>Amount Fined</th>\n",
       "      <th>Latitude</th>\n",
       "      <th>Longitude</th>\n",
       "    </tr>\n",
       "  </thead>\n",
       "  <tbody>\n",
       "    <tr>\n",
       "      <th>0</th>\n",
       "      <td>1</td>\n",
       "      <td>1</td>\n",
       "      <td>10657713</td>\n",
       "      <td>104953972.0</td>\n",
       "      <td>NEW KANTAMANTO MARKET</td>\n",
       "      <td>Food Depot</td>\n",
       "      <td>266 EDDYSTONE AVE, Unit-0</td>\n",
       "      <td>Pass</td>\n",
       "      <td>2</td>\n",
       "      <td>NaN</td>\n",
       "      <td>2022-04-05</td>\n",
       "      <td>NaN</td>\n",
       "      <td>NaN</td>\n",
       "      <td>NaN</td>\n",
       "      <td>NaN</td>\n",
       "      <td>43.74791</td>\n",
       "      <td>-79.52219</td>\n",
       "    </tr>\n",
       "    <tr>\n",
       "      <th>1</th>\n",
       "      <td>2</td>\n",
       "      <td>2</td>\n",
       "      <td>10657713</td>\n",
       "      <td>105133203.0</td>\n",
       "      <td>NEW KANTAMANTO MARKET</td>\n",
       "      <td>Food Depot</td>\n",
       "      <td>266 EDDYSTONE AVE, Unit-0</td>\n",
       "      <td>Pass</td>\n",
       "      <td>2</td>\n",
       "      <td>Operate food premise - equipment not arranged ...</td>\n",
       "      <td>2023-03-07</td>\n",
       "      <td>M - Minor</td>\n",
       "      <td>Notice to Comply</td>\n",
       "      <td>NaN</td>\n",
       "      <td>NaN</td>\n",
       "      <td>43.74791</td>\n",
       "      <td>-79.52219</td>\n",
       "    </tr>\n",
       "    <tr>\n",
       "      <th>2</th>\n",
       "      <td>3</td>\n",
       "      <td>3</td>\n",
       "      <td>10657713</td>\n",
       "      <td>105133203.0</td>\n",
       "      <td>NEW KANTAMANTO MARKET</td>\n",
       "      <td>Food Depot</td>\n",
       "      <td>266 EDDYSTONE AVE, Unit-0</td>\n",
       "      <td>Pass</td>\n",
       "      <td>2</td>\n",
       "      <td>FOOD PREMISE NOT MAINTAINED WITH CLEAN FLOORS ...</td>\n",
       "      <td>2023-03-07</td>\n",
       "      <td>M - Minor</td>\n",
       "      <td>Notice to Comply</td>\n",
       "      <td>NaN</td>\n",
       "      <td>NaN</td>\n",
       "      <td>43.74791</td>\n",
       "      <td>-79.52219</td>\n",
       "    </tr>\n",
       "    <tr>\n",
       "      <th>3</th>\n",
       "      <td>4</td>\n",
       "      <td>4</td>\n",
       "      <td>10657713</td>\n",
       "      <td>105238109.0</td>\n",
       "      <td>NEW KANTAMANTO MARKET</td>\n",
       "      <td>Food Depot</td>\n",
       "      <td>266 EDDYSTONE AVE, Unit-0</td>\n",
       "      <td>Pass</td>\n",
       "      <td>2</td>\n",
       "      <td>NaN</td>\n",
       "      <td>2023-08-25</td>\n",
       "      <td>NaN</td>\n",
       "      <td>NaN</td>\n",
       "      <td>NaN</td>\n",
       "      <td>NaN</td>\n",
       "      <td>43.74791</td>\n",
       "      <td>-79.52219</td>\n",
       "    </tr>\n",
       "    <tr>\n",
       "      <th>4</th>\n",
       "      <td>5</td>\n",
       "      <td>5</td>\n",
       "      <td>10752656</td>\n",
       "      <td>104965345.0</td>\n",
       "      <td># HASHTAG INDIA RESTAURANT</td>\n",
       "      <td>Food Take Out</td>\n",
       "      <td>1871 O'CONNOR DR</td>\n",
       "      <td>Pass</td>\n",
       "      <td>3</td>\n",
       "      <td>FOOD PREMISE NOT MAINTAINED WITH FOOD HANDLING...</td>\n",
       "      <td>2022-04-29</td>\n",
       "      <td>M - Minor</td>\n",
       "      <td>Notice to Comply</td>\n",
       "      <td>NaN</td>\n",
       "      <td>NaN</td>\n",
       "      <td>43.72199</td>\n",
       "      <td>-79.30349</td>\n",
       "    </tr>\n",
       "  </tbody>\n",
       "</table>\n",
       "</div>"
      ],
      "text/plain": [
       "   _id  Rec #  Establishment ID  Inspection ID          Establishment Name   \n",
       "0    1      1          10657713    104953972.0       NEW KANTAMANTO MARKET  \\\n",
       "1    2      2          10657713    105133203.0       NEW KANTAMANTO MARKET   \n",
       "2    3      3          10657713    105133203.0       NEW KANTAMANTO MARKET   \n",
       "3    4      4          10657713    105238109.0       NEW KANTAMANTO MARKET   \n",
       "4    5      5          10752656    104965345.0  # HASHTAG INDIA RESTAURANT   \n",
       "\n",
       "  Establishment Type      Establishment Address Establishment Status   \n",
       "0         Food Depot  266 EDDYSTONE AVE, Unit-0                 Pass  \\\n",
       "1         Food Depot  266 EDDYSTONE AVE, Unit-0                 Pass   \n",
       "2         Food Depot  266 EDDYSTONE AVE, Unit-0                 Pass   \n",
       "3         Food Depot  266 EDDYSTONE AVE, Unit-0                 Pass   \n",
       "4      Food Take Out           1871 O'CONNOR DR                 Pass   \n",
       "\n",
       "  Min. Inspections Per Year   \n",
       "0                         2  \\\n",
       "1                         2   \n",
       "2                         2   \n",
       "3                         2   \n",
       "4                         3   \n",
       "\n",
       "                                  Infraction Details Inspection Date   \n",
       "0                                                NaN      2022-04-05  \\\n",
       "1  Operate food premise - equipment not arranged ...      2023-03-07   \n",
       "2  FOOD PREMISE NOT MAINTAINED WITH CLEAN FLOORS ...      2023-03-07   \n",
       "3                                                NaN      2023-08-25   \n",
       "4  FOOD PREMISE NOT MAINTAINED WITH FOOD HANDLING...      2022-04-29   \n",
       "\n",
       "    Severity            Action Outcome  Amount Fined  Latitude  Longitude  \n",
       "0        NaN               NaN     NaN           NaN  43.74791  -79.52219  \n",
       "1  M - Minor  Notice to Comply     NaN           NaN  43.74791  -79.52219  \n",
       "2  M - Minor  Notice to Comply     NaN           NaN  43.74791  -79.52219  \n",
       "3        NaN               NaN     NaN           NaN  43.74791  -79.52219  \n",
       "4  M - Minor  Notice to Comply     NaN           NaN  43.72199  -79.30349  "
      ]
     },
     "execution_count": 21,
     "metadata": {},
     "output_type": "execute_result"
    }
   ],
   "source": [
    "df.head()"
   ]
  },
  {
   "cell_type": "code",
   "execution_count": 22,
   "metadata": {},
   "outputs": [
    {
     "name": "stdout",
     "output_type": "stream",
     "text": [
      "<class 'pandas.core.frame.DataFrame'>\n",
      "RangeIndex: 70318 entries, 0 to 70317\n",
      "Data columns (total 17 columns):\n",
      " #   Column                     Non-Null Count  Dtype  \n",
      "---  ------                     --------------  -----  \n",
      " 0   _id                        70318 non-null  int64  \n",
      " 1   Rec #                      70318 non-null  int64  \n",
      " 2   Establishment ID           70318 non-null  int64  \n",
      " 3   Inspection ID              69841 non-null  float64\n",
      " 4   Establishment Name         70318 non-null  object \n",
      " 5   Establishment Type         70318 non-null  object \n",
      " 6   Establishment Address      70318 non-null  object \n",
      " 7   Establishment Status       70318 non-null  object \n",
      " 8   Min. Inspections Per Year  70318 non-null  object \n",
      " 9   Infraction Details         43737 non-null  object \n",
      " 10  Inspection Date            69841 non-null  object \n",
      " 11  Severity                   43737 non-null  object \n",
      " 12  Action                     43737 non-null  object \n",
      " 13  Outcome                    172 non-null    object \n",
      " 14  Amount Fined               111 non-null    float64\n",
      " 15  Latitude                   70318 non-null  float64\n",
      " 16  Longitude                  70318 non-null  float64\n",
      "dtypes: float64(4), int64(3), object(10)\n",
      "memory usage: 9.1+ MB\n"
     ]
    }
   ],
   "source": [
    "df.info()"
   ]
  },
  {
   "cell_type": "code",
   "execution_count": 23,
   "metadata": {},
   "outputs": [
    {
     "data": {
      "text/html": [
       "<div>\n",
       "<style scoped>\n",
       "    .dataframe tbody tr th:only-of-type {\n",
       "        vertical-align: middle;\n",
       "    }\n",
       "\n",
       "    .dataframe tbody tr th {\n",
       "        vertical-align: top;\n",
       "    }\n",
       "\n",
       "    .dataframe thead th {\n",
       "        text-align: right;\n",
       "    }\n",
       "</style>\n",
       "<table border=\"1\" class=\"dataframe\">\n",
       "  <thead>\n",
       "    <tr style=\"text-align: right;\">\n",
       "      <th></th>\n",
       "      <th>_id</th>\n",
       "      <th>Rec #</th>\n",
       "      <th>Establishment ID</th>\n",
       "      <th>Inspection ID</th>\n",
       "      <th>Amount Fined</th>\n",
       "      <th>Latitude</th>\n",
       "      <th>Longitude</th>\n",
       "    </tr>\n",
       "  </thead>\n",
       "  <tbody>\n",
       "    <tr>\n",
       "      <th>count</th>\n",
       "      <td>70318.000000</td>\n",
       "      <td>70318.000000</td>\n",
       "      <td>7.031800e+04</td>\n",
       "      <td>6.984100e+04</td>\n",
       "      <td>111.000000</td>\n",
       "      <td>70318.000000</td>\n",
       "      <td>70318.000000</td>\n",
       "    </tr>\n",
       "    <tr>\n",
       "      <th>mean</th>\n",
       "      <td>35159.500000</td>\n",
       "      <td>35159.500000</td>\n",
       "      <td>1.038849e+07</td>\n",
       "      <td>1.051048e+08</td>\n",
       "      <td>482.459459</td>\n",
       "      <td>43.699189</td>\n",
       "      <td>-79.397929</td>\n",
       "    </tr>\n",
       "    <tr>\n",
       "      <th>std</th>\n",
       "      <td>20299.202451</td>\n",
       "      <td>20299.202451</td>\n",
       "      <td>5.757684e+05</td>\n",
       "      <td>1.009361e+05</td>\n",
       "      <td>628.953009</td>\n",
       "      <td>0.053144</td>\n",
       "      <td>0.083077</td>\n",
       "    </tr>\n",
       "    <tr>\n",
       "      <th>min</th>\n",
       "      <td>1.000000</td>\n",
       "      <td>1.000000</td>\n",
       "      <td>1.222579e+06</td>\n",
       "      <td>1.042890e+08</td>\n",
       "      <td>0.000000</td>\n",
       "      <td>43.587910</td>\n",
       "      <td>-79.634550</td>\n",
       "    </tr>\n",
       "    <tr>\n",
       "      <th>25%</th>\n",
       "      <td>17580.250000</td>\n",
       "      <td>17580.250000</td>\n",
       "      <td>1.039244e+07</td>\n",
       "      <td>1.050228e+08</td>\n",
       "      <td>75.000000</td>\n",
       "      <td>43.654880</td>\n",
       "      <td>-79.442910</td>\n",
       "    </tr>\n",
       "    <tr>\n",
       "      <th>50%</th>\n",
       "      <td>35159.500000</td>\n",
       "      <td>35159.500000</td>\n",
       "      <td>1.059546e+07</td>\n",
       "      <td>1.051150e+08</td>\n",
       "      <td>385.000000</td>\n",
       "      <td>43.686780</td>\n",
       "      <td>-79.398320</td>\n",
       "    </tr>\n",
       "    <tr>\n",
       "      <th>75%</th>\n",
       "      <td>52738.750000</td>\n",
       "      <td>52738.750000</td>\n",
       "      <td>1.072658e+07</td>\n",
       "      <td>1.051884e+08</td>\n",
       "      <td>580.000000</td>\n",
       "      <td>43.739740</td>\n",
       "      <td>-79.350820</td>\n",
       "    </tr>\n",
       "    <tr>\n",
       "      <th>max</th>\n",
       "      <td>70318.000000</td>\n",
       "      <td>70318.000000</td>\n",
       "      <td>1.079647e+07</td>\n",
       "      <td>1.052696e+08</td>\n",
       "      <td>3755.000000</td>\n",
       "      <td>43.839140</td>\n",
       "      <td>-79.130690</td>\n",
       "    </tr>\n",
       "  </tbody>\n",
       "</table>\n",
       "</div>"
      ],
      "text/plain": [
       "                _id         Rec #  Establishment ID  Inspection ID   \n",
       "count  70318.000000  70318.000000      7.031800e+04   6.984100e+04  \\\n",
       "mean   35159.500000  35159.500000      1.038849e+07   1.051048e+08   \n",
       "std    20299.202451  20299.202451      5.757684e+05   1.009361e+05   \n",
       "min        1.000000      1.000000      1.222579e+06   1.042890e+08   \n",
       "25%    17580.250000  17580.250000      1.039244e+07   1.050228e+08   \n",
       "50%    35159.500000  35159.500000      1.059546e+07   1.051150e+08   \n",
       "75%    52738.750000  52738.750000      1.072658e+07   1.051884e+08   \n",
       "max    70318.000000  70318.000000      1.079647e+07   1.052696e+08   \n",
       "\n",
       "       Amount Fined      Latitude     Longitude  \n",
       "count    111.000000  70318.000000  70318.000000  \n",
       "mean     482.459459     43.699189    -79.397929  \n",
       "std      628.953009      0.053144      0.083077  \n",
       "min        0.000000     43.587910    -79.634550  \n",
       "25%       75.000000     43.654880    -79.442910  \n",
       "50%      385.000000     43.686780    -79.398320  \n",
       "75%      580.000000     43.739740    -79.350820  \n",
       "max     3755.000000     43.839140    -79.130690  "
      ]
     },
     "execution_count": 23,
     "metadata": {},
     "output_type": "execute_result"
    }
   ],
   "source": [
    "df.describe()"
   ]
  },
  {
   "cell_type": "code",
   "execution_count": 32,
   "metadata": {},
   "outputs": [],
   "source": [
    "df = df.drop('Outcome',axis=1)\n",
    "df= df.drop('Amount Fined',axis=1)"
   ]
  },
  {
   "cell_type": "code",
   "execution_count": 33,
   "metadata": {},
   "outputs": [],
   "source": [
    "df_cleaned = df.dropna()\n"
   ]
  },
  {
   "cell_type": "code",
   "execution_count": 34,
   "metadata": {},
   "outputs": [
    {
     "name": "stdout",
     "output_type": "stream",
     "text": [
      "Unique values in Establishment Status: ['Pass' 'Conditional Pass']\n"
     ]
    }
   ],
   "source": [
    "unique_values = df_cleaned['Establishment Status'].unique()\n",
    "print(\"Unique values in Establishment Status:\", unique_values)"
   ]
  },
  {
   "cell_type": "code",
   "execution_count": 35,
   "metadata": {},
   "outputs": [
    {
     "name": "stdout",
     "output_type": "stream",
     "text": [
      "Unique values in Severity: ['M - Minor' 'C - Crucial' 'S - Significant' 'NA - Not Applicable']\n"
     ]
    }
   ],
   "source": [
    "unique_values = df_cleaned['Severity'].unique()\n",
    "print(\"Unique values in Severity:\", unique_values)"
   ]
  },
  {
   "cell_type": "code",
   "execution_count": 36,
   "metadata": {},
   "outputs": [
    {
     "name": "stdout",
     "output_type": "stream",
     "text": [
      "<class 'pandas.core.frame.DataFrame'>\n",
      "Index: 43737 entries, 1 to 70317\n",
      "Data columns (total 15 columns):\n",
      " #   Column                     Non-Null Count  Dtype  \n",
      "---  ------                     --------------  -----  \n",
      " 0   _id                        43737 non-null  int64  \n",
      " 1   Rec #                      43737 non-null  int64  \n",
      " 2   Establishment ID           43737 non-null  int64  \n",
      " 3   Inspection ID              43737 non-null  float64\n",
      " 4   Establishment Name         43737 non-null  object \n",
      " 5   Establishment Type         43737 non-null  object \n",
      " 6   Establishment Address      43737 non-null  object \n",
      " 7   Establishment Status       43737 non-null  object \n",
      " 8   Min. Inspections Per Year  43737 non-null  object \n",
      " 9   Infraction Details         43737 non-null  object \n",
      " 10  Inspection Date            43737 non-null  object \n",
      " 11  Severity                   43737 non-null  object \n",
      " 12  Action                     43737 non-null  object \n",
      " 13  Latitude                   43737 non-null  float64\n",
      " 14  Longitude                  43737 non-null  float64\n",
      "dtypes: float64(3), int64(3), object(9)\n",
      "memory usage: 5.3+ MB\n"
     ]
    }
   ],
   "source": [
    "df_cleaned.info()"
   ]
  },
  {
   "cell_type": "code",
   "execution_count": 41,
   "metadata": {},
   "outputs": [
    {
     "name": "stdout",
     "output_type": "stream",
     "text": [
      "Number of unique values in Establishment Name: 7839\n"
     ]
    }
   ],
   "source": [
    "unique_count = df_cleaned['Establishment Name'].nunique()\n",
    "print(\"Number of unique values in Establishment Name:\", unique_count)"
   ]
  },
  {
   "cell_type": "code",
   "execution_count": 49,
   "metadata": {},
   "outputs": [
    {
     "name": "stdout",
     "output_type": "stream",
     "text": [
      "Min. Inspections Per Year: ['2' '3' '1' 'O']\n"
     ]
    }
   ],
   "source": [
    "unique_values = df_cleaned['Min. Inspections Per Year'].unique()\n",
    "print(\"Min. Inspections Per Year:\", unique_values)"
   ]
  },
  {
   "cell_type": "code",
   "execution_count": 50,
   "metadata": {},
   "outputs": [
    {
     "name": "stdout",
     "output_type": "stream",
     "text": [
      "0\n"
     ]
    }
   ],
   "source": [
    "count_rows_with_specific_value = len(df_cleaned[df_cleaned['Min. Inspections Per Year'] == '0'])\n",
    "print(count_rows_with_specific_value)"
   ]
  },
  {
   "cell_type": "code",
   "execution_count": 52,
   "metadata": {},
   "outputs": [
    {
     "name": "stdout",
     "output_type": "stream",
     "text": [
      "Number of unique values in Latitude: 5502\n"
     ]
    }
   ],
   "source": [
    "unique_count = df_cleaned['Latitude'].nunique()\n",
    "print(\"Number of unique values in Latitude:\", unique_count)"
   ]
  },
  {
   "cell_type": "code",
   "execution_count": 51,
   "metadata": {},
   "outputs": [],
   "source": [
    "df_cleaned.to_csv('/Users/dylanbai/Desktop/Tableau/assignment/cleaned_data.csv', index=False)"
   ]
  }
 ],
 "metadata": {
  "kernelspec": {
   "display_name": "Python 3",
   "language": "python",
   "name": "python3"
  },
  "language_info": {
   "codemirror_mode": {
    "name": "ipython",
    "version": 3
   },
   "file_extension": ".py",
   "mimetype": "text/x-python",
   "name": "python",
   "nbconvert_exporter": "python",
   "pygments_lexer": "ipython3",
   "version": "3.9.6"
  },
  "orig_nbformat": 4
 },
 "nbformat": 4,
 "nbformat_minor": 2
}
