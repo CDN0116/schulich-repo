{
 "cells": [
  {
   "cell_type": "code",
   "execution_count": 1,
   "metadata": {},
   "outputs": [
    {
     "ename": "SyntaxError",
     "evalue": "invalid syntax (3964808206.py, line 1)",
     "output_type": "error",
     "traceback": [
      "\u001b[0;36m  Cell \u001b[0;32mIn[1], line 1\u001b[0;36m\u001b[0m\n\u001b[0;31m    pip install scipy\u001b[0m\n\u001b[0m        ^\u001b[0m\n\u001b[0;31mSyntaxError\u001b[0m\u001b[0;31m:\u001b[0m invalid syntax\n"
     ]
    }
   ],
   "source": [
    "pip install scipy\n",
    "pip install oct2py"
   ]
  },
  {
   "cell_type": "code",
   "execution_count": 3,
   "metadata": {},
   "outputs": [],
   "source": [
    "import pandas as pd\n",
    "from scipy import stats"
   ]
  },
  {
   "cell_type": "code",
   "execution_count": 4,
   "metadata": {},
   "outputs": [],
   "source": [
    "df=pd.read_csv('/Users/dylanbai/Desktop/Data Science/Assignments/experiment_dataset.csv')"
   ]
  },
  {
   "cell_type": "code",
   "execution_count": 5,
   "metadata": {},
   "outputs": [
    {
     "name": "stdout",
     "output_type": "stream",
     "text": [
      "   Unnamed: 0  Age   Location   Device    Variant  Time Spent       CTR\n",
      "0           0   62  Location2  Device2    Control   13.928669  0.084776\n",
      "1           1   18  Location1  Device1  Variant B   11.310518  0.096859\n",
      "2           2   21  Location2  Device1  Variant B   24.842100  0.097630\n",
      "3           3   21  Location1  Device3  Variant B   20.061300  0.109783\n",
      "4           4   57  Location1  Device2  Variant B   34.495503  0.068579\n",
      "<class 'pandas.core.frame.DataFrame'>\n",
      "RangeIndex: 1000 entries, 0 to 999\n",
      "Data columns (total 7 columns):\n",
      " #   Column      Non-Null Count  Dtype  \n",
      "---  ------      --------------  -----  \n",
      " 0   Unnamed: 0  1000 non-null   int64  \n",
      " 1   Age         1000 non-null   int64  \n",
      " 2   Location    1000 non-null   object \n",
      " 3   Device      1000 non-null   object \n",
      " 4   Variant     1000 non-null   object \n",
      " 5   Time Spent  1000 non-null   float64\n",
      " 6   CTR         1000 non-null   float64\n",
      "dtypes: float64(2), int64(2), object(3)\n",
      "memory usage: 54.8+ KB\n",
      "None\n"
     ]
    }
   ],
   "source": [
    "print(df.head())\n",
    "print(df.info())"
   ]
  },
  {
   "cell_type": "code",
   "execution_count": 6,
   "metadata": {},
   "outputs": [
    {
     "name": "stdout",
     "output_type": "stream",
     "text": [
      "Unnamed: 0    0\n",
      "Age           0\n",
      "Location      0\n",
      "Device        0\n",
      "Variant       0\n",
      "Time Spent    0\n",
      "CTR           0\n",
      "dtype: int64\n"
     ]
    }
   ],
   "source": [
    "# to see if there is missing value.\n",
    "print(df.isnull().sum())"
   ]
  },
  {
   "cell_type": "code",
   "execution_count": 7,
   "metadata": {},
   "outputs": [
    {
     "data": {
      "text/html": [
       "<div>\n",
       "<style scoped>\n",
       "    .dataframe tbody tr th:only-of-type {\n",
       "        vertical-align: middle;\n",
       "    }\n",
       "\n",
       "    .dataframe tbody tr th {\n",
       "        vertical-align: top;\n",
       "    }\n",
       "\n",
       "    .dataframe thead th {\n",
       "        text-align: right;\n",
       "    }\n",
       "</style>\n",
       "<table border=\"1\" class=\"dataframe\">\n",
       "  <thead>\n",
       "    <tr style=\"text-align: right;\">\n",
       "      <th></th>\n",
       "      <th>Unnamed: 0</th>\n",
       "      <th>Age</th>\n",
       "      <th>Location</th>\n",
       "      <th>Device</th>\n",
       "      <th>Variant</th>\n",
       "      <th>Time Spent</th>\n",
       "      <th>CTR</th>\n",
       "    </tr>\n",
       "  </thead>\n",
       "  <tbody>\n",
       "    <tr>\n",
       "      <th>0</th>\n",
       "      <td>0</td>\n",
       "      <td>62</td>\n",
       "      <td>Location2</td>\n",
       "      <td>Device2</td>\n",
       "      <td>Control</td>\n",
       "      <td>13.928669</td>\n",
       "      <td>0.084776</td>\n",
       "    </tr>\n",
       "    <tr>\n",
       "      <th>1</th>\n",
       "      <td>1</td>\n",
       "      <td>18</td>\n",
       "      <td>Location1</td>\n",
       "      <td>Device1</td>\n",
       "      <td>Variant B</td>\n",
       "      <td>11.310518</td>\n",
       "      <td>0.096859</td>\n",
       "    </tr>\n",
       "    <tr>\n",
       "      <th>2</th>\n",
       "      <td>2</td>\n",
       "      <td>21</td>\n",
       "      <td>Location2</td>\n",
       "      <td>Device1</td>\n",
       "      <td>Variant B</td>\n",
       "      <td>24.842100</td>\n",
       "      <td>0.097630</td>\n",
       "    </tr>\n",
       "    <tr>\n",
       "      <th>3</th>\n",
       "      <td>3</td>\n",
       "      <td>21</td>\n",
       "      <td>Location1</td>\n",
       "      <td>Device3</td>\n",
       "      <td>Variant B</td>\n",
       "      <td>20.061300</td>\n",
       "      <td>0.109783</td>\n",
       "    </tr>\n",
       "    <tr>\n",
       "      <th>4</th>\n",
       "      <td>4</td>\n",
       "      <td>57</td>\n",
       "      <td>Location1</td>\n",
       "      <td>Device2</td>\n",
       "      <td>Variant B</td>\n",
       "      <td>34.495503</td>\n",
       "      <td>0.068579</td>\n",
       "    </tr>\n",
       "    <tr>\n",
       "      <th>...</th>\n",
       "      <td>...</td>\n",
       "      <td>...</td>\n",
       "      <td>...</td>\n",
       "      <td>...</td>\n",
       "      <td>...</td>\n",
       "      <td>...</td>\n",
       "      <td>...</td>\n",
       "    </tr>\n",
       "    <tr>\n",
       "      <th>995</th>\n",
       "      <td>995</td>\n",
       "      <td>39</td>\n",
       "      <td>Location2</td>\n",
       "      <td>Device2</td>\n",
       "      <td>Variant B</td>\n",
       "      <td>17.252030</td>\n",
       "      <td>0.092211</td>\n",
       "    </tr>\n",
       "    <tr>\n",
       "      <th>996</th>\n",
       "      <td>996</td>\n",
       "      <td>38</td>\n",
       "      <td>Location3</td>\n",
       "      <td>Device2</td>\n",
       "      <td>Control</td>\n",
       "      <td>30.075898</td>\n",
       "      <td>0.078151</td>\n",
       "    </tr>\n",
       "    <tr>\n",
       "      <th>997</th>\n",
       "      <td>997</td>\n",
       "      <td>60</td>\n",
       "      <td>Location2</td>\n",
       "      <td>Device3</td>\n",
       "      <td>Control</td>\n",
       "      <td>31.929223</td>\n",
       "      <td>0.125213</td>\n",
       "    </tr>\n",
       "    <tr>\n",
       "      <th>998</th>\n",
       "      <td>998</td>\n",
       "      <td>35</td>\n",
       "      <td>Location2</td>\n",
       "      <td>Device2</td>\n",
       "      <td>Variant B</td>\n",
       "      <td>14.680299</td>\n",
       "      <td>0.095423</td>\n",
       "    </tr>\n",
       "    <tr>\n",
       "      <th>999</th>\n",
       "      <td>999</td>\n",
       "      <td>55</td>\n",
       "      <td>Location1</td>\n",
       "      <td>Device1</td>\n",
       "      <td>Variant B</td>\n",
       "      <td>25.803169</td>\n",
       "      <td>0.166688</td>\n",
       "    </tr>\n",
       "  </tbody>\n",
       "</table>\n",
       "<p>1000 rows × 7 columns</p>\n",
       "</div>"
      ],
      "text/plain": [
       "     Unnamed: 0  Age   Location   Device    Variant  Time Spent       CTR\n",
       "0             0   62  Location2  Device2    Control   13.928669  0.084776\n",
       "1             1   18  Location1  Device1  Variant B   11.310518  0.096859\n",
       "2             2   21  Location2  Device1  Variant B   24.842100  0.097630\n",
       "3             3   21  Location1  Device3  Variant B   20.061300  0.109783\n",
       "4             4   57  Location1  Device2  Variant B   34.495503  0.068579\n",
       "..          ...  ...        ...      ...        ...         ...       ...\n",
       "995         995   39  Location2  Device2  Variant B   17.252030  0.092211\n",
       "996         996   38  Location3  Device2    Control   30.075898  0.078151\n",
       "997         997   60  Location2  Device3    Control   31.929223  0.125213\n",
       "998         998   35  Location2  Device2  Variant B   14.680299  0.095423\n",
       "999         999   55  Location1  Device1  Variant B   25.803169  0.166688\n",
       "\n",
       "[1000 rows x 7 columns]"
      ]
     },
     "execution_count": 7,
     "metadata": {},
     "output_type": "execute_result"
    }
   ],
   "source": [
    "# drop the duplicates to clean data\n",
    "df.drop_duplicates()"
   ]
  },
  {
   "cell_type": "code",
   "execution_count": 8,
   "metadata": {},
   "outputs": [],
   "source": [
    "#For Q1,we should check all the features whether has any significant impacts on the lift of CTR or Time-spend."
   ]
  },
  {
   "cell_type": "code",
   "execution_count": 10,
   "metadata": {},
   "outputs": [
    {
     "data": {
      "text/html": [
       "<div>\n",
       "<style scoped>\n",
       "    .dataframe tbody tr th:only-of-type {\n",
       "        vertical-align: middle;\n",
       "    }\n",
       "\n",
       "    .dataframe tbody tr th {\n",
       "        vertical-align: top;\n",
       "    }\n",
       "\n",
       "    .dataframe thead th {\n",
       "        text-align: right;\n",
       "    }\n",
       "</style>\n",
       "<table border=\"1\" class=\"dataframe\">\n",
       "  <thead>\n",
       "    <tr style=\"text-align: right;\">\n",
       "      <th></th>\n",
       "      <th>CTR</th>\n",
       "      <th>Time Spent</th>\n",
       "    </tr>\n",
       "    <tr>\n",
       "      <th>Location</th>\n",
       "      <th></th>\n",
       "      <th></th>\n",
       "    </tr>\n",
       "  </thead>\n",
       "  <tbody>\n",
       "    <tr>\n",
       "      <th>Location1</th>\n",
       "      <td>0.110217</td>\n",
       "      <td>22.707286</td>\n",
       "    </tr>\n",
       "    <tr>\n",
       "      <th>Location2</th>\n",
       "      <td>0.108517</td>\n",
       "      <td>22.648998</td>\n",
       "    </tr>\n",
       "    <tr>\n",
       "      <th>Location3</th>\n",
       "      <td>0.108708</td>\n",
       "      <td>22.787691</td>\n",
       "    </tr>\n",
       "  </tbody>\n",
       "</table>\n",
       "</div>"
      ],
      "text/plain": [
       "                CTR  Time Spent\n",
       "Location                       \n",
       "Location1  0.110217   22.707286\n",
       "Location2  0.108517   22.648998\n",
       "Location3  0.108708   22.787691"
      ]
     },
     "execution_count": 10,
     "metadata": {},
     "output_type": "execute_result"
    }
   ],
   "source": [
    "#By location\n",
    "df.groupby('Location')[['CTR','Time Spent']].mean()"
   ]
  },
  {
   "cell_type": "code",
   "execution_count": 11,
   "metadata": {},
   "outputs": [
    {
     "name": "stdout",
     "output_type": "stream",
     "text": [
      "F_onewayResult(statistic=0.5792245145655729, pvalue=0.5605211716238133)\n"
     ]
    }
   ],
   "source": [
    "#use the ANOVA test to validate the features.\n",
    "#check the CTR\n",
    "loc_1=df[df['Location']=='Location1']['CTR']\n",
    "loc_2=df[df['Location']=='Location2']['CTR']\n",
    "loc_3=df[df['Location']=='Location3']['CTR']\n",
    "p_value=stats.f_oneway(loc_1,loc_2,loc_3)\n",
    "print(p_value)\n"
   ]
  },
  {
   "cell_type": "code",
   "execution_count": 12,
   "metadata": {},
   "outputs": [
    {
     "name": "stdout",
     "output_type": "stream",
     "text": [
      "F_onewayResult(statistic=0.053578839670573676, pvalue=0.9478339402848069)\n"
     ]
    }
   ],
   "source": [
    "# check the Time spent\n",
    "loc_1=df[df['Location']=='Location1']['Time Spent']\n",
    "loc_2=df[df['Location']=='Location2']['Time Spent']\n",
    "loc_3=df[df['Location']=='Location3']['Time Spent']\n",
    "p_value=stats.f_oneway(loc_1,loc_2,loc_3)\n",
    "print(p_value)"
   ]
  },
  {
   "cell_type": "code",
   "execution_count": 13,
   "metadata": {},
   "outputs": [
    {
     "data": {
      "text/html": [
       "<div>\n",
       "<style scoped>\n",
       "    .dataframe tbody tr th:only-of-type {\n",
       "        vertical-align: middle;\n",
       "    }\n",
       "\n",
       "    .dataframe tbody tr th {\n",
       "        vertical-align: top;\n",
       "    }\n",
       "\n",
       "    .dataframe thead th {\n",
       "        text-align: right;\n",
       "    }\n",
       "</style>\n",
       "<table border=\"1\" class=\"dataframe\">\n",
       "  <thead>\n",
       "    <tr style=\"text-align: right;\">\n",
       "      <th></th>\n",
       "      <th>CTR</th>\n",
       "      <th>Time Spent</th>\n",
       "    </tr>\n",
       "    <tr>\n",
       "      <th>Device</th>\n",
       "      <th></th>\n",
       "      <th></th>\n",
       "    </tr>\n",
       "  </thead>\n",
       "  <tbody>\n",
       "    <tr>\n",
       "      <th>Device1</th>\n",
       "      <td>0.109634</td>\n",
       "      <td>22.635032</td>\n",
       "    </tr>\n",
       "    <tr>\n",
       "      <th>Device2</th>\n",
       "      <td>0.109868</td>\n",
       "      <td>22.890021</td>\n",
       "    </tr>\n",
       "    <tr>\n",
       "      <th>Device3</th>\n",
       "      <td>0.107993</td>\n",
       "      <td>22.612276</td>\n",
       "    </tr>\n",
       "  </tbody>\n",
       "</table>\n",
       "</div>"
      ],
      "text/plain": [
       "              CTR  Time Spent\n",
       "Device                       \n",
       "Device1  0.109634   22.635032\n",
       "Device2  0.109868   22.890021\n",
       "Device3  0.107993   22.612276"
      ]
     },
     "execution_count": 13,
     "metadata": {},
     "output_type": "execute_result"
    }
   ],
   "source": [
    "#for all the locations, it seems that the CTR and Time spent don't change much. \n",
    "#And let's do the next features 'Device'.\n",
    "df.groupby('Device')[['CTR','Time Spent']].mean()\n"
   ]
  },
  {
   "cell_type": "code",
   "execution_count": 14,
   "metadata": {},
   "outputs": [
    {
     "name": "stdout",
     "output_type": "stream",
     "text": [
      "F_onewayResult(statistic=0.7105872492654717, pvalue=0.4916042399968955)\n"
     ]
    }
   ],
   "source": [
    "# let's do the ANOVA test for the 'Device' of the CTR\n",
    "loc_1=df[df['Device']== 'Device1']['CTR']\n",
    "loc_2=df[df['Device']== 'Device2']['CTR']\n",
    "loc_3=df[df['Device']== 'Device3']['CTR']\n",
    "p_value=stats.f_oneway(loc_1,loc_2,loc_3)\n",
    "print(p_value)\n"
   ]
  },
  {
   "cell_type": "code",
   "execution_count": 15,
   "metadata": {},
   "outputs": [
    {
     "name": "stdout",
     "output_type": "stream",
     "text": [
      "F_onewayResult(statistic=0.26645371811833884, pvalue=0.7661459958744103)\n"
     ]
    }
   ],
   "source": [
    "# ANOVA test of the time spent\n",
    "loc_1=df[df['Device']=='Device1']['Time Spent']\n",
    "loc_2=df[df['Device']=='Device2']['Time Spent']\n",
    "loc_3=df[df['Device']=='Device3']['Time Spent']\n",
    "p_value=stats.f_oneway(loc_1,loc_2,loc_3)\n",
    "print(p_value)"
   ]
  },
  {
   "cell_type": "code",
   "execution_count": 16,
   "metadata": {},
   "outputs": [
    {
     "data": {
      "text/html": [
       "<div>\n",
       "<style scoped>\n",
       "    .dataframe tbody tr th:only-of-type {\n",
       "        vertical-align: middle;\n",
       "    }\n",
       "\n",
       "    .dataframe tbody tr th {\n",
       "        vertical-align: top;\n",
       "    }\n",
       "\n",
       "    .dataframe thead th {\n",
       "        text-align: right;\n",
       "    }\n",
       "</style>\n",
       "<table border=\"1\" class=\"dataframe\">\n",
       "  <thead>\n",
       "    <tr style=\"text-align: right;\">\n",
       "      <th></th>\n",
       "      <th>CTR</th>\n",
       "      <th>Time Spent</th>\n",
       "    </tr>\n",
       "    <tr>\n",
       "      <th>Age</th>\n",
       "      <th></th>\n",
       "      <th></th>\n",
       "    </tr>\n",
       "  </thead>\n",
       "  <tbody>\n",
       "    <tr>\n",
       "      <th>18</th>\n",
       "      <td>0.104431</td>\n",
       "      <td>21.805160</td>\n",
       "    </tr>\n",
       "    <tr>\n",
       "      <th>19</th>\n",
       "      <td>0.113928</td>\n",
       "      <td>24.301099</td>\n",
       "    </tr>\n",
       "    <tr>\n",
       "      <th>20</th>\n",
       "      <td>0.106769</td>\n",
       "      <td>22.658484</td>\n",
       "    </tr>\n",
       "    <tr>\n",
       "      <th>21</th>\n",
       "      <td>0.106317</td>\n",
       "      <td>23.174444</td>\n",
       "    </tr>\n",
       "    <tr>\n",
       "      <th>22</th>\n",
       "      <td>0.111566</td>\n",
       "      <td>23.339777</td>\n",
       "    </tr>\n",
       "    <tr>\n",
       "      <th>23</th>\n",
       "      <td>0.111024</td>\n",
       "      <td>21.203465</td>\n",
       "    </tr>\n",
       "    <tr>\n",
       "      <th>24</th>\n",
       "      <td>0.109765</td>\n",
       "      <td>21.505956</td>\n",
       "    </tr>\n",
       "    <tr>\n",
       "      <th>25</th>\n",
       "      <td>0.109907</td>\n",
       "      <td>23.541231</td>\n",
       "    </tr>\n",
       "    <tr>\n",
       "      <th>26</th>\n",
       "      <td>0.110061</td>\n",
       "      <td>22.598906</td>\n",
       "    </tr>\n",
       "    <tr>\n",
       "      <th>27</th>\n",
       "      <td>0.105247</td>\n",
       "      <td>21.729390</td>\n",
       "    </tr>\n",
       "    <tr>\n",
       "      <th>28</th>\n",
       "      <td>0.103960</td>\n",
       "      <td>21.807757</td>\n",
       "    </tr>\n",
       "    <tr>\n",
       "      <th>29</th>\n",
       "      <td>0.100519</td>\n",
       "      <td>24.299111</td>\n",
       "    </tr>\n",
       "    <tr>\n",
       "      <th>30</th>\n",
       "      <td>0.106659</td>\n",
       "      <td>23.432915</td>\n",
       "    </tr>\n",
       "    <tr>\n",
       "      <th>31</th>\n",
       "      <td>0.104464</td>\n",
       "      <td>21.989786</td>\n",
       "    </tr>\n",
       "    <tr>\n",
       "      <th>32</th>\n",
       "      <td>0.112993</td>\n",
       "      <td>22.346828</td>\n",
       "    </tr>\n",
       "    <tr>\n",
       "      <th>33</th>\n",
       "      <td>0.114898</td>\n",
       "      <td>24.616644</td>\n",
       "    </tr>\n",
       "    <tr>\n",
       "      <th>34</th>\n",
       "      <td>0.106876</td>\n",
       "      <td>22.385361</td>\n",
       "    </tr>\n",
       "    <tr>\n",
       "      <th>35</th>\n",
       "      <td>0.111845</td>\n",
       "      <td>21.581871</td>\n",
       "    </tr>\n",
       "    <tr>\n",
       "      <th>36</th>\n",
       "      <td>0.107217</td>\n",
       "      <td>22.879286</td>\n",
       "    </tr>\n",
       "    <tr>\n",
       "      <th>37</th>\n",
       "      <td>0.120952</td>\n",
       "      <td>20.809576</td>\n",
       "    </tr>\n",
       "    <tr>\n",
       "      <th>38</th>\n",
       "      <td>0.117152</td>\n",
       "      <td>25.301273</td>\n",
       "    </tr>\n",
       "    <tr>\n",
       "      <th>39</th>\n",
       "      <td>0.105070</td>\n",
       "      <td>22.893486</td>\n",
       "    </tr>\n",
       "    <tr>\n",
       "      <th>40</th>\n",
       "      <td>0.121210</td>\n",
       "      <td>21.684611</td>\n",
       "    </tr>\n",
       "    <tr>\n",
       "      <th>41</th>\n",
       "      <td>0.110276</td>\n",
       "      <td>24.134836</td>\n",
       "    </tr>\n",
       "    <tr>\n",
       "      <th>42</th>\n",
       "      <td>0.113295</td>\n",
       "      <td>24.833502</td>\n",
       "    </tr>\n",
       "    <tr>\n",
       "      <th>43</th>\n",
       "      <td>0.106507</td>\n",
       "      <td>21.289182</td>\n",
       "    </tr>\n",
       "    <tr>\n",
       "      <th>44</th>\n",
       "      <td>0.106827</td>\n",
       "      <td>23.023596</td>\n",
       "    </tr>\n",
       "    <tr>\n",
       "      <th>45</th>\n",
       "      <td>0.099483</td>\n",
       "      <td>22.468996</td>\n",
       "    </tr>\n",
       "    <tr>\n",
       "      <th>46</th>\n",
       "      <td>0.110406</td>\n",
       "      <td>22.938505</td>\n",
       "    </tr>\n",
       "    <tr>\n",
       "      <th>47</th>\n",
       "      <td>0.119617</td>\n",
       "      <td>21.702336</td>\n",
       "    </tr>\n",
       "    <tr>\n",
       "      <th>48</th>\n",
       "      <td>0.108007</td>\n",
       "      <td>22.503268</td>\n",
       "    </tr>\n",
       "    <tr>\n",
       "      <th>49</th>\n",
       "      <td>0.115586</td>\n",
       "      <td>25.031848</td>\n",
       "    </tr>\n",
       "    <tr>\n",
       "      <th>50</th>\n",
       "      <td>0.104252</td>\n",
       "      <td>24.264450</td>\n",
       "    </tr>\n",
       "    <tr>\n",
       "      <th>51</th>\n",
       "      <td>0.106918</td>\n",
       "      <td>22.599297</td>\n",
       "    </tr>\n",
       "    <tr>\n",
       "      <th>52</th>\n",
       "      <td>0.106556</td>\n",
       "      <td>21.631632</td>\n",
       "    </tr>\n",
       "    <tr>\n",
       "      <th>53</th>\n",
       "      <td>0.107413</td>\n",
       "      <td>20.838519</td>\n",
       "    </tr>\n",
       "    <tr>\n",
       "      <th>54</th>\n",
       "      <td>0.108838</td>\n",
       "      <td>23.340736</td>\n",
       "    </tr>\n",
       "    <tr>\n",
       "      <th>55</th>\n",
       "      <td>0.108426</td>\n",
       "      <td>23.145363</td>\n",
       "    </tr>\n",
       "    <tr>\n",
       "      <th>56</th>\n",
       "      <td>0.109381</td>\n",
       "      <td>21.172350</td>\n",
       "    </tr>\n",
       "    <tr>\n",
       "      <th>57</th>\n",
       "      <td>0.106884</td>\n",
       "      <td>23.608306</td>\n",
       "    </tr>\n",
       "    <tr>\n",
       "      <th>58</th>\n",
       "      <td>0.107542</td>\n",
       "      <td>21.206153</td>\n",
       "    </tr>\n",
       "    <tr>\n",
       "      <th>59</th>\n",
       "      <td>0.106319</td>\n",
       "      <td>20.797435</td>\n",
       "    </tr>\n",
       "    <tr>\n",
       "      <th>60</th>\n",
       "      <td>0.114229</td>\n",
       "      <td>21.909116</td>\n",
       "    </tr>\n",
       "    <tr>\n",
       "      <th>61</th>\n",
       "      <td>0.105097</td>\n",
       "      <td>24.839548</td>\n",
       "    </tr>\n",
       "    <tr>\n",
       "      <th>62</th>\n",
       "      <td>0.111154</td>\n",
       "      <td>23.215577</td>\n",
       "    </tr>\n",
       "    <tr>\n",
       "      <th>63</th>\n",
       "      <td>0.111595</td>\n",
       "      <td>23.439610</td>\n",
       "    </tr>\n",
       "    <tr>\n",
       "      <th>64</th>\n",
       "      <td>0.105848</td>\n",
       "      <td>23.264560</td>\n",
       "    </tr>\n",
       "  </tbody>\n",
       "</table>\n",
       "</div>"
      ],
      "text/plain": [
       "          CTR  Time Spent\n",
       "Age                      \n",
       "18   0.104431   21.805160\n",
       "19   0.113928   24.301099\n",
       "20   0.106769   22.658484\n",
       "21   0.106317   23.174444\n",
       "22   0.111566   23.339777\n",
       "23   0.111024   21.203465\n",
       "24   0.109765   21.505956\n",
       "25   0.109907   23.541231\n",
       "26   0.110061   22.598906\n",
       "27   0.105247   21.729390\n",
       "28   0.103960   21.807757\n",
       "29   0.100519   24.299111\n",
       "30   0.106659   23.432915\n",
       "31   0.104464   21.989786\n",
       "32   0.112993   22.346828\n",
       "33   0.114898   24.616644\n",
       "34   0.106876   22.385361\n",
       "35   0.111845   21.581871\n",
       "36   0.107217   22.879286\n",
       "37   0.120952   20.809576\n",
       "38   0.117152   25.301273\n",
       "39   0.105070   22.893486\n",
       "40   0.121210   21.684611\n",
       "41   0.110276   24.134836\n",
       "42   0.113295   24.833502\n",
       "43   0.106507   21.289182\n",
       "44   0.106827   23.023596\n",
       "45   0.099483   22.468996\n",
       "46   0.110406   22.938505\n",
       "47   0.119617   21.702336\n",
       "48   0.108007   22.503268\n",
       "49   0.115586   25.031848\n",
       "50   0.104252   24.264450\n",
       "51   0.106918   22.599297\n",
       "52   0.106556   21.631632\n",
       "53   0.107413   20.838519\n",
       "54   0.108838   23.340736\n",
       "55   0.108426   23.145363\n",
       "56   0.109381   21.172350\n",
       "57   0.106884   23.608306\n",
       "58   0.107542   21.206153\n",
       "59   0.106319   20.797435\n",
       "60   0.114229   21.909116\n",
       "61   0.105097   24.839548\n",
       "62   0.111154   23.215577\n",
       "63   0.111595   23.439610\n",
       "64   0.105848   23.264560"
      ]
     },
     "execution_count": 16,
     "metadata": {},
     "output_type": "execute_result"
    }
   ],
   "source": [
    "#then lets do the same thing to 'Age'\n",
    "df.groupby('Age')[['CTR','Time Spent']].mean()"
   ]
  },
  {
   "cell_type": "code",
   "execution_count": 18,
   "metadata": {},
   "outputs": [
    {
     "name": "stdout",
     "output_type": "stream",
     "text": [
      "     Unnamed: 0  Age   Location   Device    Variant  Time Spent       CTR   \n",
      "0             0   62  Location2  Device2    Control   13.928669  0.084776  \\\n",
      "1             1   18  Location1  Device1  Variant B   11.310518  0.096859   \n",
      "2             2   21  Location2  Device1  Variant B   24.842100  0.097630   \n",
      "3             3   21  Location1  Device3  Variant B   20.061300  0.109783   \n",
      "4             4   57  Location1  Device2  Variant B   34.495503  0.068579   \n",
      "..          ...  ...        ...      ...        ...         ...       ...   \n",
      "995         995   39  Location2  Device2  Variant B   17.252030  0.092211   \n",
      "996         996   38  Location3  Device2    Control   30.075898  0.078151   \n",
      "997         997   60  Location2  Device3    Control   31.929223  0.125213   \n",
      "998         998   35  Location2  Device2  Variant B   14.680299  0.095423   \n",
      "999         999   55  Location1  Device1  Variant B   25.803169  0.166688   \n",
      "\n",
      "    Age_group  \n",
      "0       52-64  \n",
      "1         NaN  \n",
      "2       18-35  \n",
      "3       18-35  \n",
      "4       52-64  \n",
      "..        ...  \n",
      "995     36-51  \n",
      "996     36-51  \n",
      "997     52-64  \n",
      "998     18-35  \n",
      "999     52-64  \n",
      "\n",
      "[1000 rows x 8 columns]\n"
     ]
    }
   ],
   "source": [
    "# first we should group the 'Age' column\n",
    "df['Age_group']=pd.cut(df['Age'],bins=[18,35,51,64],labels=['18-35','36-51','52-64'])\n",
    "print (df)"
   ]
  },
  {
   "cell_type": "code",
   "execution_count": 19,
   "metadata": {},
   "outputs": [
    {
     "name": "stdout",
     "output_type": "stream",
     "text": [
      "F_onewayResult(statistic=1.2969300167643383, pvalue=0.27384237597226063)\n"
     ]
    }
   ],
   "source": [
    "# ANOVA test of the age_group\n",
    "loc_1=df[df['Age_group']=='18-35']['CTR']\n",
    "loc_2=df[df['Age_group']=='36-51']['CTR']\n",
    "loc_3=df[df['Age_group']=='52-64']['CTR']\n",
    "p_value=stats.f_oneway(loc_1,loc_2,loc_3)\n",
    "print(p_value)"
   ]
  },
  {
   "cell_type": "code",
   "execution_count": 20,
   "metadata": {},
   "outputs": [
    {
     "name": "stdout",
     "output_type": "stream",
     "text": [
      "F_onewayResult(statistic=0.7392401494810702, pvalue=0.47774483794897427)\n"
     ]
    }
   ],
   "source": [
    "# ANOVA test of the time spent\n",
    "loc_1=df[df['Age_group']=='18-35']['Time Spent']\n",
    "loc_2=df[df['Age_group']=='36-51']['Time Spent']\n",
    "loc_3=df[df['Age_group']=='52-64']['Time Spent']\n",
    "p_value=stats.f_oneway(loc_1,loc_2,loc_3)\n",
    "print(p_value)"
   ]
  },
  {
   "cell_type": "code",
   "execution_count": null,
   "metadata": {},
   "outputs": [],
   "source": [
    "#so it seems that all the 'Location' , 'Device' and 'Age' features have no impact on the  lift of CTR or Time spent."
   ]
  },
  {
   "cell_type": "code",
   "execution_count": null,
   "metadata": {},
   "outputs": [],
   "source": [
    "#calculate the lift in CTR and Time spent for each variant.\n",
    "control_group=df[df['Variant']== 'Control']\n",
    "V_A=df[df['Variant']=='Variant A']\n",
    "V_B= df[df['Variant']=='Variant B']"
   ]
  },
  {
   "cell_type": "code",
   "execution_count": null,
   "metadata": {},
   "outputs": [
    {
     "name": "stdout",
     "output_type": "stream",
     "text": [
      "ctr_lift_a\n",
      "0.021715340138027603\n",
      "ctr_lift_b\n",
      "0.010378887088416652\n",
      "time_spent_a\n",
      "4.734766375399197\n",
      "time_spent_b\n",
      "3.27300196805772\n"
     ]
    }
   ],
   "source": [
    "ctr_lift_a = V_A['CTR'].mean()- control_group['CTR'].mean()\n",
    "ctr_lift_b = V_B['CTR'].mean()- control_group['CTR'].mean()\n",
    "\n",
    "time_spent_a=V_A['Time Spent'].mean()-control_group['Time Spent'].mean()\n",
    "time_spent_b=V_B['Time Spent'].mean()-control_group['Time Spent'].mean()\n",
    "\n",
    "print('ctr_lift_a')\n",
    "print(ctr_lift_a)\n",
    "print('ctr_lift_b')\n",
    "print(ctr_lift_b)\n",
    "print('time_spent_a')\n",
    "print(time_spent_a)\n",
    "print('time_spent_b')\n",
    "print(time_spent_b)"
   ]
  },
  {
   "cell_type": "code",
   "execution_count": null,
   "metadata": {},
   "outputs": [],
   "source": [
    "# it seems that both variants have results in CTR & Time spent lift. But variant A has more contributions.\n"
   ]
  },
  {
   "cell_type": "code",
   "execution_count": null,
   "metadata": {},
   "outputs": [
    {
     "name": "stdout",
     "output_type": "stream",
     "text": [
      "p_value_ctr_a\n",
      "1.8747864406075706e-38\n",
      "p_value_ctr_b\n",
      "1.9031079498118827e-10\n",
      "p_value_ts_a\n",
      "8.013568462760725e-31\n",
      "p_value_ts_b\n",
      "1.5337801295717444e-15\n"
     ]
    }
   ],
   "source": [
    "# For Q2, let's use the T-test for the CTR & Time spent to do the statistical testing.\n",
    "_,p_value_ctr_a=stats.ttest_ind(V_A['CTR'],control_group['CTR'],equal_var=False)\n",
    "_,p_value_ctr_b=stats.ttest_ind(V_B['CTR'],control_group['CTR'],equal_var=False)\n",
    "\n",
    "_,p_value_ts_a=stats.ttest_ind(V_A['Time Spent'],control_group['Time Spent'],equal_var=False)\n",
    "_,p_value_ts_b=stats.ttest_ind(V_B['Time Spent'],control_group['Time Spent'],equal_var=False)\n",
    "\n",
    "print('p_value_ctr_a')\n",
    "print(p_value_ctr_a)\n",
    "print('p_value_ctr_b')\n",
    "print(p_value_ctr_b)\n",
    "print('p_value_ts_a')\n",
    "print(p_value_ts_a)\n",
    "print('p_value_ts_b')\n",
    "print(p_value_ts_b)"
   ]
  },
  {
   "cell_type": "code",
   "execution_count": null,
   "metadata": {},
   "outputs": [],
   "source": [
    "# For Q3:\n",
    "# from the results，all the p values are less than 0.05，so we can draw a conclusion that in terms of CTR & Time spent, there is a siginificant difference between control group and variant group.\n",
    "# And the CTR p value of Variant A is less than the one of Variant B，indicating that Variant A contrubute more to the lift of CTR.\n",
    "# And the Time spent p value of Variant B is less than the one of Variant A, indicating that the impact of Variant B is more significant.\n",
    "# So I will recommend the team to deploy the Variant A for CTR lift and Variant B for Time spent lift."
   ]
  },
  {
   "cell_type": "code",
   "execution_count": null,
   "metadata": {},
   "outputs": [],
   "source": [
    "# For Q4:\n",
    "# 1:Start by deploying Variant A for CTR to a small portion of the audience, such as a representative sample or a specific region. \n",
    "# 2:Analyze the data collected from the small-scale deployment to evaluate the effectiveness of Variant A in improving CTR. \n",
    "# 3:If the results from the small-scale deployment are promising, gradually expand the deployment of Variant A to a larger portion of the audience. Continue collecting feedback.\n",
    "# 4:Start deploying Variant B for Time Spent to a small portion of the audience. Follow a similar approach as in step 1 and 2 to evaluate the impact and gather feedback.\n",
    "# 5:Gradually expand Variant B deployment, based on the results and feedback from the small-scale deployment of Variant B.\n",
    "# 6:Continuously monitor the performance and user feedback for both variants. Make necessary optimizations and improvements based on the collected data and user insights."
   ]
  }
 ],
 "metadata": {
  "kernelspec": {
   "display_name": "Python 3",
   "language": "python",
   "name": "python3"
  },
  "language_info": {
   "codemirror_mode": {
    "name": "ipython",
    "version": 3
   },
   "file_extension": ".py",
   "mimetype": "text/x-python",
   "name": "python",
   "nbconvert_exporter": "python",
   "pygments_lexer": "ipython3",
   "version": "3.9.6"
  },
  "orig_nbformat": 4
 },
 "nbformat": 4,
 "nbformat_minor": 2
}
