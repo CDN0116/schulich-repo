{
 "cells": [
  {
   "cell_type": "code",
   "execution_count": 10,
   "metadata": {},
   "outputs": [
    {
     "name": "stdout",
     "output_type": "stream",
     "text": [
      "Defaulting to user installation because normal site-packages is not writeable\n",
      "Requirement already satisfied: scipy in /Users/dylanbai/Library/Python/3.9/lib/python/site-packages (1.10.1)\n",
      "Requirement already satisfied: numpy<1.27.0,>=1.19.5 in /Users/dylanbai/Library/Python/3.9/lib/python/site-packages (from scipy) (1.24.3)\n",
      "\u001b[33mWARNING: You are using pip version 21.2.4; however, version 23.1.2 is available.\n",
      "You should consider upgrading via the '/Library/Developer/CommandLineTools/usr/bin/python3 -m pip install --upgrade pip' command.\u001b[0m\n",
      "Note: you may need to restart the kernel to use updated packages.\n"
     ]
    }
   ],
   "source": [
    "pip install scipy"
   ]
  },
  {
   "cell_type": "code",
   "execution_count": 11,
   "metadata": {},
   "outputs": [],
   "source": [
    "import pandas as pd\n",
    "from scipy import stats"
   ]
  },
  {
   "cell_type": "code",
   "execution_count": 12,
   "metadata": {},
   "outputs": [],
   "source": [
    "df=pd.read_csv('/Users/dylanbai/Desktop/Data Science/Assignments/experiment_dataset.csv')"
   ]
  },
  {
   "cell_type": "code",
   "execution_count": 16,
   "metadata": {},
   "outputs": [
    {
     "name": "stdout",
     "output_type": "stream",
     "text": [
      "   Unnamed: 0  Age   Location   Device    Variant  Time Spent       CTR\n",
      "0           0   62  Location2  Device2    Control   13.928669  0.084776\n",
      "1           1   18  Location1  Device1  Variant B   11.310518  0.096859\n",
      "2           2   21  Location2  Device1  Variant B   24.842100  0.097630\n",
      "3           3   21  Location1  Device3  Variant B   20.061300  0.109783\n",
      "4           4   57  Location1  Device2  Variant B   34.495503  0.068579\n",
      "<class 'pandas.core.frame.DataFrame'>\n",
      "RangeIndex: 1000 entries, 0 to 999\n",
      "Data columns (total 7 columns):\n",
      " #   Column      Non-Null Count  Dtype  \n",
      "---  ------      --------------  -----  \n",
      " 0   Unnamed: 0  1000 non-null   int64  \n",
      " 1   Age         1000 non-null   int64  \n",
      " 2   Location    1000 non-null   object \n",
      " 3   Device      1000 non-null   object \n",
      " 4   Variant     1000 non-null   object \n",
      " 5   Time Spent  1000 non-null   float64\n",
      " 6   CTR         1000 non-null   float64\n",
      "dtypes: float64(2), int64(2), object(3)\n",
      "memory usage: 54.8+ KB\n",
      "None\n"
     ]
    }
   ],
   "source": [
    "print(df.head())\n",
    "print(df.info())"
   ]
  },
  {
   "cell_type": "code",
   "execution_count": 14,
   "metadata": {},
   "outputs": [
    {
     "name": "stdout",
     "output_type": "stream",
     "text": [
      "Unnamed: 0    0\n",
      "Age           0\n",
      "Location      0\n",
      "Device        0\n",
      "Variant       0\n",
      "Time Spent    0\n",
      "CTR           0\n",
      "dtype: int64\n"
     ]
    }
   ],
   "source": [
    "# to see if there is missing value.\n",
    "print(df.isnull().sum())"
   ]
  },
  {
   "cell_type": "code",
   "execution_count": 15,
   "metadata": {},
   "outputs": [
    {
     "data": {
      "text/html": [
       "<div>\n",
       "<style scoped>\n",
       "    .dataframe tbody tr th:only-of-type {\n",
       "        vertical-align: middle;\n",
       "    }\n",
       "\n",
       "    .dataframe tbody tr th {\n",
       "        vertical-align: top;\n",
       "    }\n",
       "\n",
       "    .dataframe thead th {\n",
       "        text-align: right;\n",
       "    }\n",
       "</style>\n",
       "<table border=\"1\" class=\"dataframe\">\n",
       "  <thead>\n",
       "    <tr style=\"text-align: right;\">\n",
       "      <th></th>\n",
       "      <th>Unnamed: 0</th>\n",
       "      <th>Age</th>\n",
       "      <th>Location</th>\n",
       "      <th>Device</th>\n",
       "      <th>Variant</th>\n",
       "      <th>Time Spent</th>\n",
       "      <th>CTR</th>\n",
       "    </tr>\n",
       "  </thead>\n",
       "  <tbody>\n",
       "    <tr>\n",
       "      <th>0</th>\n",
       "      <td>0</td>\n",
       "      <td>62</td>\n",
       "      <td>Location2</td>\n",
       "      <td>Device2</td>\n",
       "      <td>Control</td>\n",
       "      <td>13.928669</td>\n",
       "      <td>0.084776</td>\n",
       "    </tr>\n",
       "    <tr>\n",
       "      <th>1</th>\n",
       "      <td>1</td>\n",
       "      <td>18</td>\n",
       "      <td>Location1</td>\n",
       "      <td>Device1</td>\n",
       "      <td>Variant B</td>\n",
       "      <td>11.310518</td>\n",
       "      <td>0.096859</td>\n",
       "    </tr>\n",
       "    <tr>\n",
       "      <th>2</th>\n",
       "      <td>2</td>\n",
       "      <td>21</td>\n",
       "      <td>Location2</td>\n",
       "      <td>Device1</td>\n",
       "      <td>Variant B</td>\n",
       "      <td>24.842100</td>\n",
       "      <td>0.097630</td>\n",
       "    </tr>\n",
       "    <tr>\n",
       "      <th>3</th>\n",
       "      <td>3</td>\n",
       "      <td>21</td>\n",
       "      <td>Location1</td>\n",
       "      <td>Device3</td>\n",
       "      <td>Variant B</td>\n",
       "      <td>20.061300</td>\n",
       "      <td>0.109783</td>\n",
       "    </tr>\n",
       "    <tr>\n",
       "      <th>4</th>\n",
       "      <td>4</td>\n",
       "      <td>57</td>\n",
       "      <td>Location1</td>\n",
       "      <td>Device2</td>\n",
       "      <td>Variant B</td>\n",
       "      <td>34.495503</td>\n",
       "      <td>0.068579</td>\n",
       "    </tr>\n",
       "    <tr>\n",
       "      <th>...</th>\n",
       "      <td>...</td>\n",
       "      <td>...</td>\n",
       "      <td>...</td>\n",
       "      <td>...</td>\n",
       "      <td>...</td>\n",
       "      <td>...</td>\n",
       "      <td>...</td>\n",
       "    </tr>\n",
       "    <tr>\n",
       "      <th>995</th>\n",
       "      <td>995</td>\n",
       "      <td>39</td>\n",
       "      <td>Location2</td>\n",
       "      <td>Device2</td>\n",
       "      <td>Variant B</td>\n",
       "      <td>17.252030</td>\n",
       "      <td>0.092211</td>\n",
       "    </tr>\n",
       "    <tr>\n",
       "      <th>996</th>\n",
       "      <td>996</td>\n",
       "      <td>38</td>\n",
       "      <td>Location3</td>\n",
       "      <td>Device2</td>\n",
       "      <td>Control</td>\n",
       "      <td>30.075898</td>\n",
       "      <td>0.078151</td>\n",
       "    </tr>\n",
       "    <tr>\n",
       "      <th>997</th>\n",
       "      <td>997</td>\n",
       "      <td>60</td>\n",
       "      <td>Location2</td>\n",
       "      <td>Device3</td>\n",
       "      <td>Control</td>\n",
       "      <td>31.929223</td>\n",
       "      <td>0.125213</td>\n",
       "    </tr>\n",
       "    <tr>\n",
       "      <th>998</th>\n",
       "      <td>998</td>\n",
       "      <td>35</td>\n",
       "      <td>Location2</td>\n",
       "      <td>Device2</td>\n",
       "      <td>Variant B</td>\n",
       "      <td>14.680299</td>\n",
       "      <td>0.095423</td>\n",
       "    </tr>\n",
       "    <tr>\n",
       "      <th>999</th>\n",
       "      <td>999</td>\n",
       "      <td>55</td>\n",
       "      <td>Location1</td>\n",
       "      <td>Device1</td>\n",
       "      <td>Variant B</td>\n",
       "      <td>25.803169</td>\n",
       "      <td>0.166688</td>\n",
       "    </tr>\n",
       "  </tbody>\n",
       "</table>\n",
       "<p>1000 rows × 7 columns</p>\n",
       "</div>"
      ],
      "text/plain": [
       "     Unnamed: 0  Age   Location   Device    Variant  Time Spent       CTR\n",
       "0             0   62  Location2  Device2    Control   13.928669  0.084776\n",
       "1             1   18  Location1  Device1  Variant B   11.310518  0.096859\n",
       "2             2   21  Location2  Device1  Variant B   24.842100  0.097630\n",
       "3             3   21  Location1  Device3  Variant B   20.061300  0.109783\n",
       "4             4   57  Location1  Device2  Variant B   34.495503  0.068579\n",
       "..          ...  ...        ...      ...        ...         ...       ...\n",
       "995         995   39  Location2  Device2  Variant B   17.252030  0.092211\n",
       "996         996   38  Location3  Device2    Control   30.075898  0.078151\n",
       "997         997   60  Location2  Device3    Control   31.929223  0.125213\n",
       "998         998   35  Location2  Device2  Variant B   14.680299  0.095423\n",
       "999         999   55  Location1  Device1  Variant B   25.803169  0.166688\n",
       "\n",
       "[1000 rows x 7 columns]"
      ]
     },
     "execution_count": 15,
     "metadata": {},
     "output_type": "execute_result"
    }
   ],
   "source": [
    "# drop the duplicates to clean data\n",
    "df.drop_duplicates()"
   ]
  },
  {
   "cell_type": "code",
   "execution_count": null,
   "metadata": {},
   "outputs": [],
   "source": [
    "# For Q1, let's make a null hypothesis :there is no statistically significant differnce in CTR or Time spent at Variant group."
   ]
  },
  {
   "cell_type": "code",
   "execution_count": 17,
   "metadata": {},
   "outputs": [],
   "source": [
    "#calculate the lift in CTR and Time spent for each variant.\n",
    "control_group=df[df['Variant']== 'Control']\n",
    "V_A=df[df['Variant']=='Variant A']\n",
    "V_B= df[df['Variant']=='Variant B']"
   ]
  },
  {
   "cell_type": "code",
   "execution_count": 23,
   "metadata": {},
   "outputs": [
    {
     "name": "stdout",
     "output_type": "stream",
     "text": [
      "ctr_lift_a\n",
      "0.021715340138027603\n",
      "ctr_lift_b\n",
      "0.010378887088416652\n",
      "time_spent_a\n",
      "4.734766375399197\n",
      "time_spent_b\n",
      "3.27300196805772\n"
     ]
    }
   ],
   "source": [
    "ctr_lift_a = V_A['CTR'].mean()- control_group['CTR'].mean()\n",
    "ctr_lift_b = V_B['CTR'].mean()- control_group['CTR'].mean()\n",
    "\n",
    "time_spent_a=V_A['Time Spent'].mean()-control_group['Time Spent'].mean()\n",
    "time_spent_b=V_B['Time Spent'].mean()-control_group['Time Spent'].mean()\n",
    "\n",
    "print('ctr_lift_a')\n",
    "print(ctr_lift_a)\n",
    "print('ctr_lift_b')\n",
    "print(ctr_lift_b)\n",
    "print('time_spent_a')\n",
    "print(time_spent_a)\n",
    "print('time_spent_b')\n",
    "print(time_spent_b)"
   ]
  },
  {
   "cell_type": "code",
   "execution_count": null,
   "metadata": {},
   "outputs": [],
   "source": [
    "# it seems that both variants have results in CTR & Time spent lift. But variant A has more contributions.\n"
   ]
  },
  {
   "cell_type": "code",
   "execution_count": 27,
   "metadata": {},
   "outputs": [
    {
     "name": "stdout",
     "output_type": "stream",
     "text": [
      "p_value_ctr_a\n",
      "1.8747864406075706e-38\n",
      "p_value_ctr_b\n",
      "1.9031079498118827e-10\n",
      "p_value_ts_a\n",
      "8.013568462760725e-31\n",
      "p_value_ts_b\n",
      "1.5337801295717444e-15\n"
     ]
    }
   ],
   "source": [
    "# For Q2, let's use the T-test for the CTR & Time spent to do the statistical testing.\n",
    "_,p_value_ctr_a=stats.ttest_ind(V_A['CTR'],control_group['CTR'],equal_var=False)\n",
    "_,p_value_ctr_b=stats.ttest_ind(V_B['CTR'],control_group['CTR'],equal_var=False)\n",
    "\n",
    "_,p_value_ts_a=stats.ttest_ind(V_A['Time Spent'],control_group['Time Spent'],equal_var=False)\n",
    "_,p_value_ts_b=stats.ttest_ind(V_B['Time Spent'],control_group['Time Spent'],equal_var=False)\n",
    "\n",
    "print('p_value_ctr_a')\n",
    "print(p_value_ctr_a)\n",
    "print('p_value_ctr_b')\n",
    "print(p_value_ctr_b)\n",
    "print('p_value_ts_a')\n",
    "print(p_value_ts_a)\n",
    "print('p_value_ts_b')\n",
    "print(p_value_ts_b)"
   ]
  },
  {
   "cell_type": "code",
   "execution_count": null,
   "metadata": {},
   "outputs": [],
   "source": [
    "# For Q3:\n",
    "# from the results，all the p values are less than 0.05，so we can draw a conclusion that in terms of CTR & Time spent, there is a siginificant difference between control group and variant group.\n",
    "# And the CTR p value of Variant A is less than the one of Variant B，indicating that Variant A contrubute more to the lift of CTR.\n",
    "# And the Time spent p value of Variant B is less than the one of Variant A, indicating that the impact of Variant B is more significant.\n",
    "# So I will recommend the team to deploy the Variant A for CTR lift and Variant B for Time spent lift."
   ]
  },
  {
   "cell_type": "code",
   "execution_count": null,
   "metadata": {},
   "outputs": [],
   "source": [
    "# For Q4:\n",
    "# 1:Start by deploying Variant A for CTR to a small portion of the audience, such as a representative sample or a specific region. \n",
    "# 2:Analyze the data collected from the small-scale deployment to evaluate the effectiveness of Variant A in improving CTR. \n",
    "# 3:If the results from the small-scale deployment are promising, gradually expand the deployment of Variant A to a larger portion of the audience. Continue collecting feedback.\n",
    "# 4:Start deploying Variant B for Time Spent to a small portion of the audience. Follow a similar approach as in step 1 and 2 to evaluate the impact and gather feedback.\n",
    "# 5:Gradually expand Variant B deployment, based on the results and feedback from the small-scale deployment of Variant B.\n",
    "# 6:Continuously monitor the performance and user feedback for both variants. Make necessary optimizations and improvements based on the collected data and user insights."
   ]
  }
 ],
 "metadata": {
  "kernelspec": {
   "display_name": "Python 3",
   "language": "python",
   "name": "python3"
  },
  "language_info": {
   "codemirror_mode": {
    "name": "ipython",
    "version": 3
   },
   "file_extension": ".py",
   "mimetype": "text/x-python",
   "name": "python",
   "nbconvert_exporter": "python",
   "pygments_lexer": "ipython3",
   "version": "3.9.6"
  },
  "orig_nbformat": 4
 },
 "nbformat": 4,
 "nbformat_minor": 2
}
