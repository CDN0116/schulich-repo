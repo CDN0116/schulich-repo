{
 "cells": [
  {
   "cell_type": "code",
   "execution_count": 3,
   "metadata": {},
   "outputs": [
    {
     "name": "stdout",
     "output_type": "stream",
     "text": [
      "Defaulting to user installation because normal site-packages is not writeable\n",
      "Requirement already satisfied: matplotlib in /Users/dylanbai/Library/Python/3.9/lib/python/site-packages (3.7.1)\n",
      "Requirement already satisfied: fonttools>=4.22.0 in /Users/dylanbai/Library/Python/3.9/lib/python/site-packages (from matplotlib) (4.39.4)\n",
      "Requirement already satisfied: contourpy>=1.0.1 in /Users/dylanbai/Library/Python/3.9/lib/python/site-packages (from matplotlib) (1.0.7)\n",
      "Requirement already satisfied: python-dateutil>=2.7 in /Users/dylanbai/Library/Python/3.9/lib/python/site-packages (from matplotlib) (2.8.2)\n",
      "Requirement already satisfied: numpy>=1.20 in /Users/dylanbai/Library/Python/3.9/lib/python/site-packages (from matplotlib) (1.24.3)\n",
      "Requirement already satisfied: pyparsing>=2.3.1 in /Users/dylanbai/Library/Python/3.9/lib/python/site-packages (from matplotlib) (3.0.9)\n",
      "Requirement already satisfied: cycler>=0.10 in /Users/dylanbai/Library/Python/3.9/lib/python/site-packages (from matplotlib) (0.11.0)\n",
      "Requirement already satisfied: kiwisolver>=1.0.1 in /Users/dylanbai/Library/Python/3.9/lib/python/site-packages (from matplotlib) (1.4.4)\n",
      "Requirement already satisfied: pillow>=6.2.0 in /Users/dylanbai/Library/Python/3.9/lib/python/site-packages (from matplotlib) (9.5.0)\n",
      "Requirement already satisfied: importlib-resources>=3.2.0 in /Users/dylanbai/Library/Python/3.9/lib/python/site-packages (from matplotlib) (5.12.0)\n",
      "Requirement already satisfied: packaging>=20.0 in /Users/dylanbai/Library/Python/3.9/lib/python/site-packages (from matplotlib) (23.1)\n",
      "Requirement already satisfied: zipp>=3.1.0 in /Users/dylanbai/Library/Python/3.9/lib/python/site-packages (from importlib-resources>=3.2.0->matplotlib) (3.15.0)\n",
      "Requirement already satisfied: six>=1.5 in /Library/Developer/CommandLineTools/Library/Frameworks/Python3.framework/Versions/3.9/lib/python3.9/site-packages (from python-dateutil>=2.7->matplotlib) (1.15.0)\n",
      "\u001b[33mWARNING: You are using pip version 21.2.4; however, version 23.2.1 is available.\n",
      "You should consider upgrading via the '/Library/Developer/CommandLineTools/usr/bin/python3 -m pip install --upgrade pip' command.\u001b[0m\n",
      "Note: you may need to restart the kernel to use updated packages.\n"
     ]
    }
   ],
   "source": [
    "pip install matplotlib\n"
   ]
  },
  {
   "cell_type": "code",
   "execution_count": 4,
   "metadata": {},
   "outputs": [
    {
     "name": "stdout",
     "output_type": "stream",
     "text": [
      "Defaulting to user installation because normal site-packages is not writeable\n",
      "Collecting oct2py\n",
      "  Downloading oct2py-5.6.0-py3-none-any.whl (45 kB)\n",
      "\u001b[K     |████████████████████████████████| 45 kB 1.3 MB/s eta 0:00:011\n",
      "\u001b[?25hRequirement already satisfied: numpy>=1.12 in /Users/dylanbai/Library/Python/3.9/lib/python/site-packages (from oct2py) (1.24.3)\n",
      "Collecting octave-kernel>=0.34.0\n",
      "  Downloading octave_kernel-0.35.1-py3-none-any.whl (35 kB)\n",
      "Requirement already satisfied: scipy>=0.17 in /Users/dylanbai/Library/Python/3.9/lib/python/site-packages (from oct2py) (1.10.1)\n",
      "Collecting metakernel>=0.24.0\n",
      "  Downloading metakernel-0.30.1-py3-none-any.whl (217 kB)\n",
      "\u001b[K     |████████████████████████████████| 217 kB 1.3 MB/s eta 0:00:01\n",
      "\u001b[?25hRequirement already satisfied: ipykernel in /Users/dylanbai/Library/Python/3.9/lib/python/site-packages (from octave-kernel>=0.34.0->oct2py) (6.23.0)\n",
      "Requirement already satisfied: jupyter-client>=4.3.0 in /Users/dylanbai/Library/Python/3.9/lib/python/site-packages (from octave-kernel>=0.34.0->oct2py) (8.2.0)\n",
      "Requirement already satisfied: importlib-metadata>=4.8.3 in /Users/dylanbai/Library/Python/3.9/lib/python/site-packages (from jupyter-client>=4.3.0->octave-kernel>=0.34.0->oct2py) (6.6.0)\n",
      "Requirement already satisfied: traitlets>=5.3 in /Users/dylanbai/Library/Python/3.9/lib/python/site-packages (from jupyter-client>=4.3.0->octave-kernel>=0.34.0->oct2py) (5.9.0)\n",
      "Requirement already satisfied: pyzmq>=23.0 in /Users/dylanbai/Library/Python/3.9/lib/python/site-packages (from jupyter-client>=4.3.0->octave-kernel>=0.34.0->oct2py) (25.0.2)\n",
      "Requirement already satisfied: python-dateutil>=2.8.2 in /Users/dylanbai/Library/Python/3.9/lib/python/site-packages (from jupyter-client>=4.3.0->octave-kernel>=0.34.0->oct2py) (2.8.2)\n",
      "Requirement already satisfied: jupyter-core!=5.0.*,>=4.12 in /Users/dylanbai/Library/Python/3.9/lib/python/site-packages (from jupyter-client>=4.3.0->octave-kernel>=0.34.0->oct2py) (5.3.0)\n",
      "Requirement already satisfied: tornado>=6.2 in /Users/dylanbai/Library/Python/3.9/lib/python/site-packages (from jupyter-client>=4.3.0->octave-kernel>=0.34.0->oct2py) (6.3.1)\n",
      "Requirement already satisfied: zipp>=0.5 in /Users/dylanbai/Library/Python/3.9/lib/python/site-packages (from importlib-metadata>=4.8.3->jupyter-client>=4.3.0->octave-kernel>=0.34.0->oct2py) (3.15.0)\n",
      "Requirement already satisfied: platformdirs>=2.5 in /Users/dylanbai/Library/Python/3.9/lib/python/site-packages (from jupyter-core!=5.0.*,>=4.12->jupyter-client>=4.3.0->octave-kernel>=0.34.0->oct2py) (3.5.0)\n",
      "Requirement already satisfied: jedi>=0.18 in /Users/dylanbai/Library/Python/3.9/lib/python/site-packages (from metakernel>=0.24.0->octave-kernel>=0.34.0->oct2py) (0.18.2)\n",
      "Requirement already satisfied: pexpect>=4.8 in /Users/dylanbai/Library/Python/3.9/lib/python/site-packages (from metakernel>=0.24.0->octave-kernel>=0.34.0->oct2py) (4.8.0)\n",
      "Requirement already satisfied: matplotlib-inline>=0.1 in /Users/dylanbai/Library/Python/3.9/lib/python/site-packages (from ipykernel->octave-kernel>=0.34.0->oct2py) (0.1.6)\n",
      "Requirement already satisfied: nest-asyncio in /Users/dylanbai/Library/Python/3.9/lib/python/site-packages (from ipykernel->octave-kernel>=0.34.0->oct2py) (1.5.6)\n",
      "Requirement already satisfied: ipython>=7.23.1 in /Users/dylanbai/Library/Python/3.9/lib/python/site-packages (from ipykernel->octave-kernel>=0.34.0->oct2py) (8.13.2)\n",
      "Requirement already satisfied: packaging in /Users/dylanbai/Library/Python/3.9/lib/python/site-packages (from ipykernel->octave-kernel>=0.34.0->oct2py) (23.1)\n",
      "Requirement already satisfied: psutil in /Users/dylanbai/Library/Python/3.9/lib/python/site-packages (from ipykernel->octave-kernel>=0.34.0->oct2py) (5.9.5)\n",
      "Requirement already satisfied: appnope in /Users/dylanbai/Library/Python/3.9/lib/python/site-packages (from ipykernel->octave-kernel>=0.34.0->oct2py) (0.1.3)\n",
      "Requirement already satisfied: debugpy>=1.6.5 in /Users/dylanbai/Library/Python/3.9/lib/python/site-packages (from ipykernel->octave-kernel>=0.34.0->oct2py) (1.6.7)\n",
      "Requirement already satisfied: comm>=0.1.1 in /Users/dylanbai/Library/Python/3.9/lib/python/site-packages (from ipykernel->octave-kernel>=0.34.0->oct2py) (0.1.3)\n",
      "Requirement already satisfied: backcall in /Users/dylanbai/Library/Python/3.9/lib/python/site-packages (from ipython>=7.23.1->ipykernel->octave-kernel>=0.34.0->oct2py) (0.2.0)\n",
      "Requirement already satisfied: decorator in /Users/dylanbai/Library/Python/3.9/lib/python/site-packages (from ipython>=7.23.1->ipykernel->octave-kernel>=0.34.0->oct2py) (5.1.1)\n",
      "Requirement already satisfied: stack-data in /Users/dylanbai/Library/Python/3.9/lib/python/site-packages (from ipython>=7.23.1->ipykernel->octave-kernel>=0.34.0->oct2py) (0.6.2)\n",
      "Requirement already satisfied: typing-extensions in /Users/dylanbai/Library/Python/3.9/lib/python/site-packages (from ipython>=7.23.1->ipykernel->octave-kernel>=0.34.0->oct2py) (4.5.0)\n",
      "Requirement already satisfied: prompt-toolkit!=3.0.37,<3.1.0,>=3.0.30 in /Users/dylanbai/Library/Python/3.9/lib/python/site-packages (from ipython>=7.23.1->ipykernel->octave-kernel>=0.34.0->oct2py) (3.0.38)\n",
      "Requirement already satisfied: pygments>=2.4.0 in /Users/dylanbai/Library/Python/3.9/lib/python/site-packages (from ipython>=7.23.1->ipykernel->octave-kernel>=0.34.0->oct2py) (2.15.1)\n",
      "Requirement already satisfied: pickleshare in /Users/dylanbai/Library/Python/3.9/lib/python/site-packages (from ipython>=7.23.1->ipykernel->octave-kernel>=0.34.0->oct2py) (0.7.5)\n",
      "Requirement already satisfied: parso<0.9.0,>=0.8.0 in /Users/dylanbai/Library/Python/3.9/lib/python/site-packages (from jedi>=0.18->metakernel>=0.24.0->octave-kernel>=0.34.0->oct2py) (0.8.3)\n",
      "Requirement already satisfied: ptyprocess>=0.5 in /Users/dylanbai/Library/Python/3.9/lib/python/site-packages (from pexpect>=4.8->metakernel>=0.24.0->octave-kernel>=0.34.0->oct2py) (0.7.0)\n",
      "Requirement already satisfied: wcwidth in /Users/dylanbai/Library/Python/3.9/lib/python/site-packages (from prompt-toolkit!=3.0.37,<3.1.0,>=3.0.30->ipython>=7.23.1->ipykernel->octave-kernel>=0.34.0->oct2py) (0.2.6)\n",
      "Requirement already satisfied: six>=1.5 in /Library/Developer/CommandLineTools/Library/Frameworks/Python3.framework/Versions/3.9/lib/python3.9/site-packages (from python-dateutil>=2.8.2->jupyter-client>=4.3.0->octave-kernel>=0.34.0->oct2py) (1.15.0)\n",
      "Requirement already satisfied: executing>=1.2.0 in /Users/dylanbai/Library/Python/3.9/lib/python/site-packages (from stack-data->ipython>=7.23.1->ipykernel->octave-kernel>=0.34.0->oct2py) (1.2.0)\n",
      "Requirement already satisfied: pure-eval in /Users/dylanbai/Library/Python/3.9/lib/python/site-packages (from stack-data->ipython>=7.23.1->ipykernel->octave-kernel>=0.34.0->oct2py) (0.2.2)\n",
      "Requirement already satisfied: asttokens>=2.1.0 in /Users/dylanbai/Library/Python/3.9/lib/python/site-packages (from stack-data->ipython>=7.23.1->ipykernel->octave-kernel>=0.34.0->oct2py) (2.2.1)\n",
      "Installing collected packages: metakernel, octave-kernel, oct2py\n",
      "Successfully installed metakernel-0.30.1 oct2py-5.6.0 octave-kernel-0.35.1\n",
      "\u001b[33mWARNING: You are using pip version 21.2.4; however, version 23.2.1 is available.\n",
      "You should consider upgrading via the '/Library/Developer/CommandLineTools/usr/bin/python3 -m pip install --upgrade pip' command.\u001b[0m\n",
      "Note: you may need to restart the kernel to use updated packages.\n"
     ]
    }
   ],
   "source": [
    "pip install oct2py"
   ]
  }
 ],
 "metadata": {
  "kernelspec": {
   "display_name": "Python 3",
   "language": "python",
   "name": "python3"
  },
  "language_info": {
   "codemirror_mode": {
    "name": "ipython",
    "version": 3
   },
   "file_extension": ".py",
   "mimetype": "text/x-python",
   "name": "python",
   "nbconvert_exporter": "python",
   "pygments_lexer": "ipython3",
   "version": "3.9.6"
  },
  "orig_nbformat": 4
 },
 "nbformat": 4,
 "nbformat_minor": 2
}
